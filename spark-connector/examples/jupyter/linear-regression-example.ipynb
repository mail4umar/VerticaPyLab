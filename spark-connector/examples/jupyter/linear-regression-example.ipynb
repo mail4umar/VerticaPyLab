{
 "cells": [
  {
   "cell_type": "code",
   "execution_count": null,
   "id": "8a9fa45a-9d7b-4cfb-8912-b4082032af61",
   "metadata": {},
   "outputs": [],
   "source": [
    "# Get Connector JAR name\n",
    "import glob\n",
    "import os\n",
    "\n",
    "files = glob.glob(\"/spark-connector/vertica-spark-*\")\n",
    "os.environ[\"CONNECTOR_JAR\"] = files[0]\n",
    "print(os.environ[\"CONNECTOR_JAR\"])"
   ]
  },
  {
   "cell_type": "code",
   "execution_count": null,
   "id": "49796cae-62fe-4309-ac18-a27a97a47d44",
   "metadata": {},
   "outputs": [],
   "source": [
    "# Create the Spark session and context\n",
    "from pyspark.sql import *\n",
    "\n",
    "spark = (SparkSession.builder\n",
    "    .config(\"spark.master\", \"spark://spark:7077\")\n",
    "    .config(\"spark.driver.memory\", \"2G\")\n",
    "    .config(\"spark.executor.memory\", \"1G\")\n",
    "    .config(\"spark.jars\", os.environ[\"CONNECTOR_JAR\"])\n",
    "    .getOrCreate())\n",
    "\n",
    "sc = spark.sparkContext"
   ]
  },
  {
   "cell_type": "code",
   "execution_count": null,
   "id": "f08f7433-d786-403a-92ba-4e28b0f2caf7",
   "metadata": {},
   "outputs": [],
   "source": [
    "# Display the context information\n",
    "print(sc.version)\n",
    "print(sc.master)\n",
    "display(sc.getConf().getAll())"
   ]
  },
  {
   "cell_type": "code",
   "execution_count": null,
   "id": "dd82faaf-eb9f-4534-8cb4-e703b4ca8ddf",
   "metadata": {},
   "outputs": [],
   "source": [
    "# Load some example data from a csv file into a dataframe and show some if it's contents\n",
    "\n",
    "df = spark.read.format('com.databricks.spark.csv').options(header='true', inferschema='true').load(\"/spark-connector/examples/jupyter/faithful.csv\")\n",
    "df.show()\n",
    "df.printSchema()\n",
    "\n",
    "# Write the data into a table named LR_Example on the Vertica DB\n",
    "\n",
    "df.write.mode(\"overwrite\").format(\"com.vertica.spark.datasource.VerticaSource\").options(\n",
    "    host=\"vertica\",\n",
    "    user=\"dbadmin\",\n",
    "    password=\"\",\n",
    "    db=\"docker\",\n",
    "    table = \"LR_Example\",\n",
    "    staging_fs_url=\"webhdfs://hdfs:50070/jupytertest\").save()\n",
    "\n"
   ]
  },
  {
   "cell_type": "code",
   "execution_count": null,
   "id": "7cebb786-6ca8-4875-92d7-02cb94d50409",
   "metadata": {},
   "outputs": [],
   "source": [
    "# Import Spark's ML Regression tool\n",
    "from pyspark.ml.regression import LinearRegression\n",
    "from pyspark.ml.feature import VectorAssembler\n",
    "\n",
    "# Read our data from Vertica into a Spark dataframe\n",
    "df = spark.read.load(format=\"com.vertica.spark.datasource.VerticaSource\",\n",
    "    host=\"vertica\",\n",
    "    user=\"dbadmin\",\n",
    "    password=\"\",\n",
    "    db=\"docker\",\n",
    "    table=\"LR_Example\",\n",
    "    staging_fs_url=\"webhdfs://hdfs:50070/jupytertest\")\n",
    "\n",
    "# Spark's Linear Regression tool requires an array of the features we want to use. Since we only have one in this case, we add \"waiting\"\n",
    "featureassembler = VectorAssembler(inputCols = [\"waiting\"], outputCol = \"features\")\n",
    "\n",
    "output = featureassembler.transform(df)\n",
    "\n",
    "# Show our new table with a features column added\n",
    "output.show()\n",
    "\n",
    "# Create our model using the features to predict eruption duration\n",
    "lr = LinearRegression(maxIter=10, regParam=0.3, elasticNetParam=0.8, featuresCol= 'features', labelCol='eruptions')\n",
    "lr = lr.fit(output)\n",
    "\n",
    "# Show our new table with the predictions\n",
    "pred_results = lr.evaluate(output)\n",
    "pred_results.predictions.show()"
   ]
  },
  {
   "cell_type": "code",
   "execution_count": null,
   "id": "13b0ba26-16db-4a11-81a4-f5d1ea885df8",
   "metadata": {},
   "outputs": [],
   "source": [
    "# Some graphs to visualize this data\n",
    "import matplotlib.pyplot as plt\n",
    "\n",
    "x = output.select('id').collect()\n",
    "y2 = pred_results.predictions.select('prediction').collect()\n",
    "y1 = pred_results.predictions.select('eruptions').collect()\n",
    "\n",
    "plt.plot(x, y1, label = \"predicted duration\")\n",
    "plt.plot(x, y2, label = \"true duration\")\n",
    "\n",
    "plt.xlabel('id')\n",
    "plt.ylabel('eruption duration')\n",
    "\n",
    "plt.title('Duration of Each Faithful Geyser Eruption')\n",
    "plt.legend()\n",
    "\n",
    "plt.show()"
   ]
  }
 ],
 "metadata": {
  "kernelspec": {
   "display_name": "Python 3 (ipykernel)",
   "language": "python",
   "name": "python3"
  },
  "language_info": {
   "codemirror_mode": {
    "name": "ipython",
    "version": 3
   },
   "file_extension": ".py",
   "mimetype": "text/x-python",
   "name": "python",
   "nbconvert_exporter": "python",
   "pygments_lexer": "ipython3",
   "version": "3.10.8"
  }
 },
 "nbformat": 4,
 "nbformat_minor": 5
}
