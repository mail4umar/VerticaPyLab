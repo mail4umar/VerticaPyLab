{
 "cells": [
  {
   "cell_type": "code",
   "execution_count": null,
   "id": "4d76e603-bb3e-4e2f-9664-56b67efd3edd",
   "metadata": {},
   "outputs": [],
   "source": [
    "import logging\n",
    "logging.basicConfig(filename='logs/jupyter_log.log', level=logging.INFO, format='%(asctime)s - %(levelname)s - %(message)s')"
   ]
  },
  {
   "cell_type": "code",
   "execution_count": null,
   "id": "0221f436-1e34-405a-b28c-293eac20c369",
   "metadata": {
    "scrolled": true
   },
   "outputs": [],
   "source": [
    "logging.info('[Query Profile Tree Page] Importing Libraries')\n",
    "import pickle\n",
    "import ipywidgets as widgets\n",
    "from verticapy.performance.vertica import QueryProfilerInterface, QueryProfiler\n",
    "logging.info('[Query Profile Tree Page] Successfully Imported Libraries ')\n",
    "output_initial = widgets.Output()\n",
    "with output_initial:\n",
    "    %store -r query_val\n",
    "    %store -r key_val\n",
    "    %store -r target_schema_val\n",
    "    %store -r transaction_val\n",
    "    %store -r statement_val\n",
    "    %store -r file_val\n",
    "    %store -r target_schema_val_2\n",
    "    %store -r key_val_2\n",
    "    %store -r transaction_statement_list_val\n",
    "\n",
    "    if \"file_val\" in globals():\n",
    "        logging.info(f'[Query Profile Tree Page] Importing profile using target_schema as {target_schema_val}, key_id as {key_val}, filename as{file_val}')\n",
    "        qprof = QueryProfiler.import_profile(target_schema=target_schema_val,\n",
    "            key_id=key_val,\n",
    "            filename=file_val,\n",
    "            auto_initialize = False                                          \n",
    "        )\n",
    "        logging.info(f'[Query Profile Tree Page] Creating qprof object using target_schema as {target_schema_val}, key_id as {key_val if \"key_val\" in globals() else None}.')\n",
    "        qprof = QueryProfilerInterface(\n",
    "            target_schema = target_schema_val,\n",
    "            key_id = key_val if \"key_val\" in globals() else None,\n",
    "        )\n",
    "    elif \"target_schema_val\" in globals():\n",
    "        logging.info(f'[Query Profile Tree Page] Creating qprof object using target_schema as {target_schema_val}, key_id as {key_val}. [Query Profile Tree Page]')\n",
    "        qprof = QueryProfilerInterface(\n",
    "            target_schema = target_schema_val,\n",
    "            key_id = key_val,\n",
    "        )\n",
    "    elif \"query_val\" in globals():\n",
    "        logging.info(f'[Query Profile Tree Page] Creating qprof object using query as \"{query_val}\" target_schema as {target_schema_val_2 if \"target_schema_val_2\" in globals() else None}, key_id as {key_val_2 if \"key_val_2\" in globals() else None}')\n",
    "        qprof = QueryProfilerInterface(\n",
    "            query_val,\n",
    "            target_schema = target_schema_val_2 if \"target_schema_val_2\" in globals() else None,\n",
    "            key_id = key_val_2 if \"key_val_2\" in globals() else None,       \n",
    "        )\n",
    "    elif \"transaction_val\" in globals():\n",
    "        logging.info(f'[Query Profile Tree Page] Creating qprof object using transactions as {eval(transaction_val), eval(statement_val)}, target_schema as {target_schema_val_2 if \"target_schema_val_2\" in globals() else None}, key_id as{key_val_2 if \"key_val_2\" in globals() else None}')\n",
    "        qprof = QueryProfilerInterface(\n",
    "            transactions = (eval(transaction_val), eval(statement_val)),\n",
    "            target_schema = target_schema_val_2 if \"target_schema_val_2\" in globals() else None,\n",
    "            key_id = key_val_2 if \"key_val_2\" in globals() else None,\n",
    "        )\n",
    "    elif \"transaction_statement_list_val\" in globals():\n",
    "        logging.info(f'[Query Profile Tree Page] Creating qprof object using transactions as {eval(transaction_statement_list_val)}, target_schema as {target_schema_val_2 if \"target_schema_val_2\" in globals() else None}, key_id as{key_val_2 if \"key_val_2\" in globals() else None}')\n",
    "        qprof = QueryProfilerInterface(\n",
    "            transactions = eval(transaction_statement_list_val),\n",
    "            target_schema = target_schema_val_2 if \"target_schema_val_2\" in globals() else None,\n",
    "            key_id = key_val_2 if \"key_val_2\" in globals() else None,\n",
    "        )\n"
   ]
  },
  {
   "cell_type": "code",
   "execution_count": null,
   "id": "b74b0305-6612-4f85-aa18-ff0b36e5cd80",
   "metadata": {},
   "outputs": [],
   "source": [
    "button_qprof_save = widgets.Button(description=\"Save Query Plan\")\n",
    "output_export = widgets.Output()\n",
    "\n",
    "def click_export_query(_):\n",
    "    output_export.clear_output(wait=True)\n",
    "    with output_export:\n",
    "        print(\"Saving Query. It may take a while...\")\n",
    "        qprof.export_profile(filename=\"qprof.tar\")\n",
    "        print(\"Ready to Download\")\n",
    "        display(download_output)\n",
    "        display(btn)\n",
    "    \n",
    "\n",
    "button_qprof_save.on_click(click_export_query)\n",
    "\n",
    "qpof_save = widgets.VBox([button_qprof_save, output_export])"
   ]
  },
  {
   "cell_type": "code",
   "execution_count": null,
   "id": "72beb96c-85b4-4331-8e92-c59be23ae5fb",
   "metadata": {},
   "outputs": [],
   "source": [
    "import tarfile\n",
    "from ipywidgets import Output, Button\n",
    "from IPython.display import HTML, clear_output\n",
    "from base64 import b64encode\n",
    "\n",
    "download_output = Output()\n",
    "\n",
    "\n",
    "def trigger_download(data, filename, file_type='application/octet-stream'):\n",
    "    logging.info(f'[Query Profile Tree Page] Trying to download file')\n",
    "    content_b64 = b64encode(data).decode()\n",
    "    data_url = f'data:{file_type};base64,{content_b64}'\n",
    "    js_code = f\"\"\"\n",
    "        var a = document.createElement('a');\n",
    "        a.setAttribute('download', '{filename}');\n",
    "        a.setAttribute('href', '{data_url}');\n",
    "        a.click();\n",
    "    \"\"\"\n",
    "    with download_output:\n",
    "        clear_output()\n",
    "        display(HTML(f'<script>{js_code}</script>'))\n",
    "\n",
    "btn = Button(description='Click to download')\n",
    "\n",
    "def download_qprof(e=None):\n",
    "    # Assuming 'qprof.tar' is stored in the file path 'qprof_path'\n",
    "    qprof_path = 'qprof.tar'  # Replace 'qprof.tar' with the actual file path\n",
    "    with open(qprof_path, 'rb') as file:\n",
    "        qprof_data = file.read()\n",
    "    trigger_download(qprof_data, 'qprof.tar')\n",
    "\n",
    "btn.on_click(download_qprof)"
   ]
  },
  {
   "cell_type": "code",
   "execution_count": null,
   "id": "da8af3a2-0c8c-4a82-a6ef-5edb15d53f72",
   "metadata": {},
   "outputs": [],
   "source": [
    "# Define the URLs for the links\n",
    "url1 = \"/voila/render/ui/qprof_main.ipynb\"\n",
    "# Define the button labels\n",
    "button_label1 = \"Go Back\"\n",
    "# Define HTML links for button\n",
    "button_html1 = f\"<a href='{url1}' style='text-decoration: none; padding: 5px; background-color: #007bff; color: white; border-radius: 5px; margin-right: 5px;'><i class='fa fa-arrow-left'></i></a>\"\n",
    "html_button1 = widgets.HTML(value=button_html1)\n",
    "\n"
   ]
  },
  {
   "cell_type": "code",
   "execution_count": null,
   "id": "47599ae0-6ffa-41d9-b16a-f346b3f52d72",
   "metadata": {},
   "outputs": [],
   "source": [
    "logging.info(f'[Query Profile Tree Page] Trying to display the back and \"save query plan\" button')\n",
    "display(widgets.HBox([html_button1,button_qprof_save]))\n",
    "display(output_export)"
   ]
  },
  {
   "cell_type": "code",
   "execution_count": null,
   "id": "abc47c4f-bd5a-491c-8c29-6ea00840aaa8",
   "metadata": {},
   "outputs": [],
   "source": [
    "logging.info(f'[Query Profile Tree Page] Running the script to automatically display the tree')\n",
    "from IPython.display import display,clear_output, IFrame, HTML\n",
    "html_code = '''\n",
    "<!DOCTYPE html>\n",
    "<html>\n",
    "<meta charset=\"utf-8\">\n",
    "<head>\n",
    "    <link rel=\"modulepreload\" href=\"https://d3js.org/d3.v5.min.js\" >\n",
    "\n",
    "</head>\n",
    "<body>\n",
    "    <div id=\"graph\" style=\"text-align: center;\"></div>\n",
    "    <script src=\"https://d3js.org/d3.v5.min.js\" type=\"module\"></script>\n",
    "    <script src=\"https://unpkg.com/@hpcc-js/wasm@0.3.11/dist/index.min.js\"></script>\n",
    "    <script src=\"https://unpkg.com/d3-graphviz@3.0.5/build/d3-graphviz.js\"></script>\n",
    "</body>\n",
    "</html>\n",
    "'''"
   ]
  },
  {
   "cell_type": "code",
   "execution_count": null,
   "id": "7ad589fc-a4eb-4262-8aca-30a103dceb4d",
   "metadata": {},
   "outputs": [],
   "source": [
    "display(HTML(html_code))\n",
    "logging.info(f'[Query Profile Tree Page] Completed the script to automatically display the tree')"
   ]
  },
  {
   "cell_type": "code",
   "execution_count": null,
   "id": "7e5b38a8-79dd-45b2-85de-6be16c74206f",
   "metadata": {},
   "outputs": [],
   "source": [
    "output_tree = widgets.Output()\n",
    "\n",
    "with output_tree:\n",
    "    logging.info(f'[Query Profile Tree Page] Trying to display the tree')\n",
    "    qprof.get_qplan_tree()\n",
    "    logging.info(f'[Query Profile Tree Page] Finished trying to display the tree')\n",
    "display(output_tree)"
   ]
  },
  {
   "cell_type": "code",
   "execution_count": null,
   "id": "32cf2caa-2a1d-4545-81c2-76400e458032",
   "metadata": {},
   "outputs": [],
   "source": [
    "accordion = widgets.Accordion(children=[output_initial], titles=('Execution/Error Details',))\n",
    "logging.info(f'[Query Profile Tree Page] Trying to display the error log at the bottom of the page')\n",
    "accordion\n"
   ]
  }
 ],
 "metadata": {
  "kernelspec": {
   "display_name": "Python 3 (ipykernel)",
   "language": "python",
   "name": "python3"
  },
  "language_info": {
   "codemirror_mode": {
    "name": "ipython",
    "version": 3
   },
   "file_extension": ".py",
   "mimetype": "text/x-python",
   "name": "python",
   "nbconvert_exporter": "python",
   "pygments_lexer": "ipython3",
   "version": "3.10.13"
  }
 },
 "nbformat": 4,
 "nbformat_minor": 5
}
