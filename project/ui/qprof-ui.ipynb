{
 "cells": [
  {
   "cell_type": "code",
   "execution_count": 3,
   "id": "037fe83e-1f30-49e2-93a3-45ce382cb7a3",
   "metadata": {},
   "outputs": [
    {
     "data": {
      "text/html": [
       "<p><a href=\"/voila/render/ui/qprof_main.ipynb\">\n",
       "    Main Page</a></p>\n"
      ],
      "text/plain": [
       "<IPython.core.display.HTML object>"
      ]
     },
     "metadata": {},
     "output_type": "display_data"
    }
   ],
   "source": [
    "%%html\n",
    "<p><a href=\"/voila/render/ui/qprof_main.ipynb\" target=\"_self\">Back to Query Profiler</a></p>"
   ]
  },
  {
   "cell_type": "code",
   "execution_count": 6,
   "id": "0221f436-1e34-405a-b28c-293eac20c369",
   "metadata": {},
   "outputs": [],
   "source": [
    "import pickle\n",
    "from contextlib import contextmanager\n",
    "from io import StringIO\n",
    "import sys\n",
    "\n",
    "# Context manager to suppress stdout\n",
    "@contextmanager\n",
    "def suppress_stdout():\n",
    "    with StringIO() as s:\n",
    "        sys.stdout = s\n",
    "        yield\n",
    "        sys.stdout = sys.__stdout__\n",
    "\n",
    "# Test the function with suppressed stdout\n",
    "with suppress_stdout():\n",
    "    %store -r query_val\n",
    "    %store -r key_val\n",
    "    %store -r target_schema_val\n",
    "    %store -r transaction_val\n",
    "    %store -r statement_val\n",
    "\n"
   ]
  },
  {
   "cell_type": "code",
   "execution_count": null,
   "id": "e75c5b7b-8013-4e19-ab46-a2726f391daf",
   "metadata": {},
   "outputs": [],
   "source": [
    "from verticapy.performance.vertica import QueryProfilerInterface\n",
    "with suppress_stdout():\n",
    "    try:\n",
    "        qprof = QueryProfilerInterface(\n",
    "            target_schema = target_schema_val,\n",
    "            key_id = key_val,\n",
    "        )\n",
    "    except NameError:\n",
    "        pass\n",
    "    try:\n",
    "        qprof = QueryProfilerInterface(\n",
    "            query_val\n",
    "        )\n",
    "    except NameError:\n",
    "        pass\n",
    "    try:\n",
    "        qprof = QueryProfilerInterface(\n",
    "            transactions = (transaction_val, statement_val)\n",
    "        )\n",
    "    except NameError:\n",
    "        pass"
   ]
  },
  {
   "cell_type": "code",
   "execution_count": null,
   "id": "7e5b38a8-79dd-45b2-85de-6be16c74206f",
   "metadata": {},
   "outputs": [],
   "source": [
    "qprof.get_qplan_tree()"
   ]
  }
 ],
 "metadata": {
  "kernelspec": {
   "display_name": "Python 3 (ipykernel)",
   "language": "python",
   "name": "python3"
  },
  "language_info": {
   "codemirror_mode": {
    "name": "ipython",
    "version": 3
   },
   "file_extension": ".py",
   "mimetype": "text/x-python",
   "name": "python",
   "nbconvert_exporter": "python",
   "pygments_lexer": "ipython3",
   "version": "3.10.12"
  }
 },
 "nbformat": 4,
 "nbformat_minor": 5
}
