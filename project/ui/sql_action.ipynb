{
 "cells": [
  {
   "cell_type": "code",
   "execution_count": 4,
   "id": "f5621ce2-0d0c-42d5-b129-c4ff1f2aeb20",
   "metadata": {},
   "outputs": [],
   "source": [
    "try:\n",
    "    %store -r sql_action\n",
    "except Exception as e:\n",
    "    print(\"Error:\", e)"
   ]
  },
  {
   "cell_type": "code",
   "execution_count": 25,
   "id": "45576211-ed71-497e-8237-81288e733bdb",
   "metadata": {},
   "outputs": [
    {
     "data": {
      "application/vnd.jupyter.widget-view+json": {
       "model_id": "8a25bf3234594ba5963190fdbff1087a",
       "version_major": 2,
       "version_minor": 0
      },
      "text/plain": [
       "VBox(children=(HTML(value=\"\\n<style>\\n    .query-tool-header {\\n        background: linear-gradient(135deg, #6…"
      ]
     },
     "metadata": {},
     "output_type": "display_data"
    },
    {
     "data": {
      "application/vnd.jupyter.widget-view+json": {
       "model_id": "ab7bebc00bfd49a3bc863a796b4157f6",
       "version_major": 2,
       "version_minor": 0
      },
      "text/plain": [
       "Output()"
      ]
     },
     "metadata": {},
     "output_type": "display_data"
    }
   ],
   "source": [
    "import ipywidgets as widgets\n",
    "from IPython.display import display, HTML\n",
    "import verticapy as vp\n",
    "\n",
    "# SQL Query\n",
    "sql_query = sql_action\n",
    "\n",
    "# Custom CSS\n",
    "custom_css = \"\"\"\n",
    "<style>\n",
    "    .query-tool-header {\n",
    "        background: linear-gradient(135deg, #6e48aa, #9d50bb);\n",
    "        color: white;\n",
    "        padding: 20px;\n",
    "        border-radius: 10px 10px 0 0;\n",
    "        text-align: center;\n",
    "    }\n",
    "    .query-display {\n",
    "        background-color: #f8f9fa;\n",
    "        border: 1px solid #dee2e6;\n",
    "        border-radius: 5px;\n",
    "        padding: 15px;\n",
    "        margin: 10px 0;\n",
    "    }\n",
    "    .warning-box {\n",
    "        background-color: #fff5f5;\n",
    "        border: 1px solid #feb2b2;\n",
    "        border-radius: 5px;\n",
    "        padding: 10px;\n",
    "        margin-top: 20px;\n",
    "    }\n",
    "</style>\n",
    "\"\"\"\n",
    "\n",
    "# Header\n",
    "header = widgets.HTML(custom_css + \"\"\"\n",
    "    <div class='query-tool-header'>\n",
    "        <h1>🚀 Auto-tuning Performance Tool</h1>\n",
    "    </div>\n",
    "\"\"\")\n",
    "\n",
    "# Query Display\n",
    "query_display = widgets.HTML(\n",
    "    value=f\"\"\"\n",
    "    <div class='query-display'>\n",
    "        <h3 style='color: #6e48aa;'>SQL Query to be Executed:</h3>\n",
    "        <pre><code>{sql_query}</code></pre>\n",
    "    </div>\n",
    "    \"\"\"\n",
    ")\n",
    "\n",
    "# Execute Button\n",
    "execute_button = widgets.Button(\n",
    "    description=\"Run Query\",\n",
    "    button_style=\"primary\",\n",
    "    icon=\"rocket\",\n",
    "    layout=widgets.Layout(width=\"150px\", height=\"40px\")\n",
    ")\n",
    "\n",
    "# Disclaimer\n",
    "disclaimer = widgets.HTML(\n",
    "    value=\"\"\"\n",
    "    <div class='warning-box'>\n",
    "        <p style='color: #c53030; font-weight: bold;'>⚠️ Caution:</p>\n",
    "        <p>Please review the query carefully before execution. This action may have significant impacts on your database.</p>\n",
    "    </div>\n",
    "    \"\"\"\n",
    ")\n",
    "\n",
    "# Layout\n",
    "layout = widgets.VBox([\n",
    "    header,\n",
    "    query_display,\n",
    "    widgets.HBox([execute_button], layout=widgets.Layout(justify_content=\"center\", margin=\"20px 0\")),\n",
    "    disclaimer\n",
    "])\n",
    "output_button = widgets.Output()\n",
    "\n",
    "\n",
    "# Button click event (placeholder)\n",
    "def on_button_click(b):\n",
    "    vp._utils._sql._sys._executeSQL(sql_action)\n",
    "    with output_button:\n",
    "        print(\"Query executed!\")\n",
    "\n",
    "execute_button.on_click(on_button_click)\n",
    "\n",
    "display(layout, output_button)"
   ]
  }
 ],
 "metadata": {
  "kernelspec": {
   "display_name": "Python 3 (ipykernel)",
   "language": "python",
   "name": "python3"
  },
  "language_info": {
   "codemirror_mode": {
    "name": "ipython",
    "version": 3
   },
   "file_extension": ".py",
   "mimetype": "text/x-python",
   "name": "python",
   "nbconvert_exporter": "python",
   "pygments_lexer": "ipython3",
   "version": "3.10.13"
  }
 },
 "nbformat": 4,
 "nbformat_minor": 5
}
