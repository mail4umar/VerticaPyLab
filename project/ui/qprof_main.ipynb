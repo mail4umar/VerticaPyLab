{
 "cells": [
  {
   "cell_type": "code",
   "execution_count": 1,
   "id": "df021d4b-5dc7-4c43-b223-e5ba20728ab0",
   "metadata": {},
   "outputs": [],
   "source": [
    "from ipywidgets import interact, interactive, fixed, interact_manual\n",
    "import ipywidgets as widgets\n",
    "import verticapy as vp\n",
    "from IPython.display import display,clear_output, IFrame, HTML\n",
    "import pickle\n",
    "import webbrowser\n",
    "from ipyfilechooser import FileChooser\n",
    "import verticapy as vp\n",
    "from verticapy.performance.vertica import QueryProfilerInterface\n",
    "vp.set_option(\"print_info\", False)"
   ]
  },
  {
   "cell_type": "code",
   "execution_count": 2,
   "id": "535b9b43-6aa3-4fa1-b6ef-1cff6048478d",
   "metadata": {},
   "outputs": [],
   "source": [
    "def reset_values(query_val = None, key_val = None, target_schema_val = None, transaction_val = None, statement_val = None, file_val = None):    \n",
    "    if query_val:\n",
    "        %store query_val\n",
    "    else:\n",
    "        %store -d query_val\n",
    "    if key_val:\n",
    "        %store key_val\n",
    "    else: \n",
    "        %store -d key_val\n",
    "    if target_schema_val:\n",
    "        %store target_schema_val\n",
    "    else:\n",
    "        %store -d target_schema_val\n",
    "    if transaction_val:\n",
    "        %store transaction_val\n",
    "    else:\n",
    "        %store -d transaction_val\n",
    "    if statement_val:\n",
    "        %store statement_val\n",
    "    else:\n",
    "        %store -d statement_val\n",
    "    if file_val:\n",
    "        %store file_val\n",
    "    else:\n",
    "        %store -d file_val\n",
    "    notebook_url = '/voila/render/ui/qprof-ui.ipynb'\n",
    "    display(HTML(f\"<script>window.open('{notebook_url}');window.close();</script>\"))"
   ]
  },
  {
   "cell_type": "code",
   "execution_count": 3,
   "id": "c5dbc921-631c-452e-bc3f-2dd91bdbef39",
   "metadata": {},
   "outputs": [
    {
     "data": {
      "text/html": [
       "<h2> Connection Info </h2>\n"
      ],
      "text/plain": [
       "<IPython.core.display.HTML object>"
      ]
     },
     "metadata": {},
     "output_type": "display_data"
    }
   ],
   "source": [
    "%%html\n",
    "<h2> Connection Info </h2>"
   ]
  },
  {
   "cell_type": "code",
   "execution_count": 4,
   "id": "8d23fd76-3f33-494b-8fe4-49f45de9ec31",
   "metadata": {},
   "outputs": [
    {
     "name": "stdout",
     "output_type": "stream",
     "text": [
      "\u001b[1mDatabase\u001b[0m: vdash\n",
      "\u001b[1mUsername\u001b[0m: sfduty_rw\n"
     ]
    }
   ],
   "source": [
    "print(\"\\033[1mDatabase\\033[0m:\", vp.current_connection().options['database'])\n",
    "print(\"\\033[1mUsername\\033[0m:\", vp.current_connection().options['user'])"
   ]
  },
  {
   "cell_type": "markdown",
   "id": "28b0fcab-644e-44f3-8079-bd294f0d9b00",
   "metadata": {},
   "source": [
    "____"
   ]
  },
  {
   "cell_type": "markdown",
   "id": "6aeab10d-1f14-4819-87d2-59c228504015",
   "metadata": {},
   "source": [
    "# Load"
   ]
  },
  {
   "cell_type": "code",
   "execution_count": 8,
   "id": "f2df8e39-73e2-463c-b450-eacccd1823b0",
   "metadata": {},
   "outputs": [],
   "source": [
    "\n",
    "button_2 = widgets.Button(description=\"Get Query Plan\")\n",
    "output_2 = widgets.Output()\n",
    "\n",
    "key_val = None\n",
    "target_schema_val = None\n",
    "\n",
    "\n",
    "def on_button_clicked_2(b):\n",
    "    global key_val, target_schema_val\n",
    "    output_2.clear_output(wait=True)\n",
    "    with output_2:\n",
    "        key_val = key.value\n",
    "        target_schema_val = target_schema.value\n",
    "        reset_values(key_val = key_val, target_schema_val = target_schema_val)\n",
    "\n",
    "button_2.on_click(on_button_clicked_2)\n",
    "\n",
    "\n",
    "button_3 = widgets.Button(description=\"Get Query Plan\")\n",
    "file_val = None\n",
    "output_3 = widgets.Output()\n",
    "\n",
    "def on_button_clicked_3(b):\n",
    "    global key_val, target_schema_val, file_val\n",
    "    output_3.clear_output(wait=True)\n",
    "    with output_3:\n",
    "        key_val = key.value\n",
    "        target_schema_val = target_schema.value\n",
    "        file_val = uploader.value\n",
    "        if key_val == \"\" or target_schema_val == \"\" or file_val == \"\":\n",
    "            print(\"Error! You must provide value for all: Schema, Key and File.\")\n",
    "            return\n",
    "        else:\n",
    "            reset_values(key_val = key_val, target_schema_val = target_schema_val, file_val = file_val)\n",
    "\n",
    "button_3.on_click(on_button_clicked_3)"
   ]
  },
  {
   "cell_type": "code",
   "execution_count": 6,
   "id": "b0f623e0-05df-4752-ae85-6fdbe29be943",
   "metadata": {},
   "outputs": [
    {
     "ename": "NameError",
     "evalue": "name 'button_2' is not defined",
     "output_type": "error",
     "traceback": [
      "\u001b[0;31m---------------------------------------------------------------------------\u001b[0m",
      "\u001b[0;31mNameError\u001b[0m                                 Traceback (most recent call last)",
      "Cell \u001b[0;32mIn[6], line 11\u001b[0m\n\u001b[1;32m      7\u001b[0m \u001b[38;5;28;01mfrom\u001b[39;00m \u001b[38;5;21;01mipyfilechooser\u001b[39;00m \u001b[38;5;28;01mimport\u001b[39;00m FileChooser\n\u001b[1;32m     10\u001b[0m tab \u001b[38;5;241m=\u001b[39m widgets\u001b[38;5;241m.\u001b[39mTab()\n\u001b[0;32m---> 11\u001b[0m child_1 \u001b[38;5;241m=\u001b[39m widgets\u001b[38;5;241m.\u001b[39mVBox([target_schema,key,\u001b[43mbutton_2\u001b[49m, output_2])\n\u001b[1;32m     12\u001b[0m child_2 \u001b[38;5;241m=\u001b[39m widgets\u001b[38;5;241m.\u001b[39mVBox([target_schema,key,uploader,button_3, output_3])\n\u001b[1;32m     13\u001b[0m tab\u001b[38;5;241m.\u001b[39mchildren \u001b[38;5;241m=\u001b[39m [child_1, child_2]\n",
      "\u001b[0;31mNameError\u001b[0m: name 'button_2' is not defined"
     ]
    }
   ],
   "source": [
    "key = widgets.Text(description = \"Key\", placeholder = \"Enter Key\", layout=widgets.Layout(width='300px'))\n",
    "key.style.description_width = '100px'\n",
    "target_schema = widgets.Text(description = \"Target Schema\", placeholder = \"Enter Schema\",layout=widgets.Layout(width='300px'))\n",
    "target_schema.style.description_width = '100px'\n",
    "uploader = FileChooser('')\n",
    "\n",
    "from ipyfilechooser import FileChooser\n",
    "\n",
    "\n",
    "tab = widgets.Tab()\n",
    "child_1 = widgets.VBox([target_schema,key,button_2, output_2])\n",
    "child_2 = widgets.VBox([target_schema,key,uploader,button_3, output_3])\n",
    "tab.children = [child_1, child_2]\n",
    "tab.titles = [\"From database\", \"From a file\"]\n",
    "display(tab)"
   ]
  },
  {
   "cell_type": "markdown",
   "id": "887f0746-9a01-4a5b-b585-9c6c78366817",
   "metadata": {},
   "source": [
    "_____"
   ]
  },
  {
   "cell_type": "markdown",
   "id": "6c910b06-aea7-4b95-8a3c-eb3738d58e96",
   "metadata": {},
   "source": [
    "# Create"
   ]
  },
  {
   "cell_type": "code",
   "execution_count": 20,
   "id": "3cff15cf-0b8d-4651-89dd-026b4e8c9121",
   "metadata": {},
   "outputs": [
    {
     "data": {
      "application/vnd.jupyter.widget-view+json": {
       "model_id": "f827b937f2f649b6a08f66f84139fc46",
       "version_major": 2,
       "version_minor": 0
      },
      "text/plain": [
       "Button(description='Query Request Table', layout=Layout(width='auto'), style=ButtonStyle())"
      ]
     },
     "metadata": {},
     "output_type": "display_data"
    },
    {
     "data": {
      "application/vnd.jupyter.widget-view+json": {
       "model_id": "497a25493a024a7488cf5b266eccdb95",
       "version_major": 2,
       "version_minor": 0
      },
      "text/plain": [
       "Output()"
      ]
     },
     "metadata": {},
     "output_type": "display_data"
    }
   ],
   "source": [
    "button_01 = widgets.Button(description=\"Query Request Table\", layout=widgets.Layout(width='auto'))\n",
    "output_01 = widgets.Output()\n",
    "display(button_01, output_01)\n",
    "\n",
    "def on_button_clicked_01(b):\n",
    "    output_01.clear_output(wait=True)\n",
    "    with output_01:\n",
    "        sql_query = \"SELECT * from query_requests WHERE request_type = 'QUERY' AND request LIKE 'select%' ORDER BY request_duration_ms DESC LIMIT 6;\"\n",
    "        result = vp.vDataFrame(sql_query)\n",
    "        display(HTML(result._repr_html_()))\n",
    "        \n",
    "\n",
    "button_01.on_click(on_button_clicked_01)"
   ]
  },
  {
   "cell_type": "code",
   "execution_count": 21,
   "id": "59c1d00b-0ecd-429f-8d39-af3b0ca8f215",
   "metadata": {},
   "outputs": [],
   "source": [
    "transaction = widgets.Text(description = \"Transaction ID\", placeholder = \"Enter a Transaction ID\", layout=widgets.Layout(width='300px'))\n",
    "transaction.style.description_width = '100px'\n",
    "statement = widgets.Text(description = \"Statement ID\", placeholder = \"Enter a Statement ID\", layout=widgets.Layout(width='300px'))\n",
    "statement.style.description_width = '100px'\n"
   ]
  },
  {
   "cell_type": "code",
   "execution_count": 22,
   "id": "69be4766-8633-4bd9-8588-42967d27a6fb",
   "metadata": {},
   "outputs": [],
   "source": [
    "button_1 = widgets.Button(description=\"Get Query Plan\")\n",
    "output_1 = widgets.Output()\n",
    "transaction_val = None\n",
    "statement_val = None\n",
    "\n",
    "def on_button_clicked_1(b):\n",
    "    output_1.clear_output(wait=True)\n",
    "    with output_1:\n",
    "        transaction_val = transaction.value\n",
    "        statement_val = statement.value\n",
    "        reset_values(statement_val = statement_val, transaction_val = transaction_val)\n",
    "\n",
    "button_1.on_click(on_button_clicked_1)\n",
    "create_0 = widgets.VBox([transaction,statement, button_1, output_1])"
   ]
  },
  {
   "cell_type": "code",
   "execution_count": 23,
   "id": "19e7defc-558f-455a-bc6e-4c6bc2cade65",
   "metadata": {},
   "outputs": [],
   "source": [
    "query = widgets.Textarea(\n",
    "    placeholder='Enter a SQL Query',\n",
    "    description='SQL Query:',\n",
    "    disabled=False,\n",
    "    layout=widgets.Layout(width='700px', height = '300px')\n",
    ")"
   ]
  },
  {
   "cell_type": "code",
   "execution_count": 24,
   "id": "f82c652f-0dca-48ce-a2f7-3c5eda71f3fe",
   "metadata": {},
   "outputs": [],
   "source": [
    "button = widgets.Button(description=\"Get Query Plan\")\n",
    "output_0 = widgets.Output()\n",
    "query_val = None\n",
    "\n",
    "def on_button_clicked_0(b):\n",
    "    output_0.clear_output(wait=True)\n",
    "    global query_val\n",
    "    with output_0:\n",
    "        query_val = query.value\n",
    "        reset_values(query_val = query_val)\n",
    "\n",
    "button.on_click(on_button_clicked_0)\n",
    "create_1 = widgets.VBox([query, button, output_0])\n"
   ]
  },
  {
   "cell_type": "code",
   "execution_count": 25,
   "id": "fbb6fb85-5802-4786-a656-c98f1b5645eb",
   "metadata": {},
   "outputs": [
    {
     "data": {
      "application/vnd.jupyter.widget-view+json": {
       "model_id": "ccce0cb35655426799a680f3ff24dc8d",
       "version_major": 2,
       "version_minor": 0
      },
      "text/plain": [
       "Tab(children=(VBox(children=(Text(value='', description='Transaction ID', layout=Layout(width='300px'), placeh…"
      ]
     },
     "metadata": {},
     "output_type": "display_data"
    }
   ],
   "source": [
    "tab_2 = widgets.Tab()\n",
    "tab_2.children = [create_0, create_1]\n",
    "tab_2.titles = [\"Transaction & Statement\", \"From SQL\"]\n",
    "display(tab_2)"
   ]
  },
  {
   "cell_type": "markdown",
   "id": "9dcd8aaf-ba1b-4d70-aade-df49f483582a",
   "metadata": {},
   "source": [
    "_____"
   ]
  },
  {
   "cell_type": "code",
   "execution_count": 26,
   "id": "94c36c65-098c-4bfd-9820-156c8cbc0d81",
   "metadata": {},
   "outputs": [
    {
     "data": {
      "text/html": [
       "\n",
       "<style>\n",
       ".jupyter-widgets.widget-tab > .lm-TabBar .lm-TabBar-tab {\n",
       "    flex: 0 1 auto\n",
       "}\n",
       "</style>\n"
      ],
      "text/plain": [
       "<IPython.core.display.HTML object>"
      ]
     },
     "metadata": {},
     "output_type": "display_data"
    }
   ],
   "source": [
    "from IPython.display import HTML\n",
    "\n",
    "display(\n",
    "    HTML(\n",
    "        \"\"\"\n",
    "<style>\n",
    ".jupyter-widgets.widget-tab > .lm-TabBar .lm-TabBar-tab {\n",
    "    flex: 0 1 auto\n",
    "}\n",
    "</style>\n",
    "\"\"\"\n",
    "    )\n",
    ")"
   ]
  }
 ],
 "metadata": {
  "kernelspec": {
   "display_name": "Python 3 (ipykernel)",
   "language": "python",
   "name": "python3"
  },
  "language_info": {
   "codemirror_mode": {
    "name": "ipython",
    "version": 3
   },
   "file_extension": ".py",
   "mimetype": "text/x-python",
   "name": "python",
   "nbconvert_exporter": "python",
   "pygments_lexer": "ipython3",
   "version": "3.10.12"
  }
 },
 "nbformat": 4,
 "nbformat_minor": 5
}
