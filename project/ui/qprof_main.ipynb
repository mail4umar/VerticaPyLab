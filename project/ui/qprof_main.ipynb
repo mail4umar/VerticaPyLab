{
 "cells": [
  {
   "cell_type": "code",
   "execution_count": null,
   "id": "bc6c88a7-a1f2-4dc6-a776-febd38ad2003",
   "metadata": {},
   "outputs": [],
   "source": [
    "import logging\n",
    "logging.basicConfig(filename='logs/jupyter_log.log', level=logging.INFO, format='%(asctime)s - %(levelname)s - %(message)s')"
   ]
  },
  {
   "cell_type": "code",
   "execution_count": null,
   "id": "df021d4b-5dc7-4c43-b223-e5ba20728ab0",
   "metadata": {},
   "outputs": [],
   "source": [
    "logging.info('[Query Profile Main Page] Importing Libraries')\n",
    "from ipywidgets import interact, interactive, fixed, interact_manual\n",
    "import ipywidgets as widgets\n",
    "import verticapy as vp\n",
    "from IPython.display import display,clear_output, IFrame, HTML\n",
    "import pickle\n",
    "import re\n",
    "import webbrowser\n",
    "from ipyfilechooser import FileChooser\n",
    "import verticapy as vp\n",
    "from verticapy.performance.vertica import QueryProfilerInterface\n",
    "from verticapy.connection.errors import ConnectionError\n",
    "vp.set_option(\"print_info\", False)\n",
    "logging.info('[Query Profile Main Page] Successfully Imported Libraries')"
   ]
  },
  {
   "cell_type": "code",
   "execution_count": null,
   "id": "535b9b43-6aa3-4fa1-b6ef-1cff6048478d",
   "metadata": {},
   "outputs": [],
   "source": [
    "def reset_values(query_val = None, key_val = None, target_schema_val = None, transaction_val = None, statement_val = None, file_val = None, key_val_2 = None, target_schema_val_2 = None, transaction_statement_list_val = None):    \n",
    "    if query_val:\n",
    "        %store query_val\n",
    "    else:\n",
    "        %store -d query_val\n",
    "    if key_val:\n",
    "        %store key_val\n",
    "    else: \n",
    "        %store -d key_val\n",
    "    if target_schema_val:\n",
    "        %store target_schema_val\n",
    "    else:\n",
    "        %store -d target_schema_val\n",
    "    if transaction_val:\n",
    "        %store transaction_val\n",
    "    else:\n",
    "        %store -d transaction_val\n",
    "    if statement_val:\n",
    "        %store statement_val\n",
    "    else:\n",
    "        %store -d statement_val\n",
    "    if file_val:\n",
    "        %store file_val\n",
    "    else:\n",
    "        %store -d file_val\n",
    "    if key_val_2:\n",
    "        %store key_val_2\n",
    "    else: \n",
    "        %store -d key_val_2\n",
    "    if target_schema_val_2:\n",
    "        %store target_schema_val_2\n",
    "    else:\n",
    "        %store -d target_schema_val_2\n",
    "    if transaction_statement_list_val:\n",
    "        %store transaction_statement_list_val\n",
    "    else:\n",
    "        %store -d transaction_statement_list_val\n",
    "    \n",
    "    notebook_url = '/voila/render/ui/qprof-ui.ipynb'\n",
    "    display(HTML(f\"<script>window.open('{notebook_url}');window.close();</script>\"))"
   ]
  },
  {
   "cell_type": "code",
   "execution_count": null,
   "id": "c5dbc921-631c-452e-bc3f-2dd91bdbef39",
   "metadata": {},
   "outputs": [],
   "source": [
    "%%html\n",
    "<h2> Connection Info </h2>"
   ]
  },
  {
   "cell_type": "code",
   "execution_count": null,
   "id": "8d23fd76-3f33-494b-8fe4-49f45de9ec31",
   "metadata": {},
   "outputs": [],
   "source": [
    "logging.info('[Query Profile Main Page] Trying to print database connection details')\n",
    "try:\n",
    "    print(\"\\033[1mDatabase\\033[0m:\", vp.current_connection().options['database'])\n",
    "    print(\"\\033[1mUsername\\033[0m:\", vp.current_connection().options['user'])\n",
    "except ConnectionError:\n",
    "    print(\"\\033[91m\\033[1m WARNING: No database connection found. Please connect with a database to use this tool. \\033[0m\\033[0m\")\n",
    "\n",
    "logging.info('[Query Profile Main Page] Done with printing database connection details ')"
   ]
  },
  {
   "cell_type": "markdown",
   "id": "28b0fcab-644e-44f3-8079-bd294f0d9b00",
   "metadata": {},
   "source": [
    "____"
   ]
  },
  {
   "cell_type": "markdown",
   "id": "6aeab10d-1f14-4819-87d2-59c228504015",
   "metadata": {},
   "source": [
    "# Load"
   ]
  },
  {
   "cell_type": "code",
   "execution_count": null,
   "id": "f2df8e39-73e2-463c-b450-eacccd1823b0",
   "metadata": {},
   "outputs": [],
   "source": [
    "button_2 = widgets.Button(description=\"Get Query Plan\")\n",
    "output_2 = widgets.Output()\n",
    "\n",
    "key_val = None\n",
    "target_schema_val = None\n",
    "\n",
    "def on_button_clicked_2(b):\n",
    "    global key_val, target_schema_val\n",
    "    output_2.clear_output(wait=True)\n",
    "    with output_2:\n",
    "        key_val = key.value\n",
    "        target_schema_val = target_schema.value\n",
    "        logging.info(f\"[Query Profile Main Page] For load from schema and key option, saved key value as :{key_val}, target schema as {target_schema_val}. \")\n",
    "        reset_values(key_val = key_val, target_schema_val = target_schema_val)\n",
    "\n",
    "button_2.on_click(on_button_clicked_2)\n",
    "\n",
    "\n",
    "button_3 = widgets.Button(description=\"Get Query Plan\")\n",
    "file_val = None\n",
    "output_3 = widgets.Output()\n",
    "\n",
    "def on_button_clicked_3(b):\n",
    "    global key_val, target_schema_val, file_val\n",
    "    output_3.clear_output(wait=True)\n",
    "    with output_3:\n",
    "        key_val = key.value\n",
    "        target_schema_val = target_schema.value\n",
    "        file_val = uploader.value\n",
    "        logging.info(f\"[Query Profile Main Page] For load from file option, saved key value as :{key_val}, target schema as {target_schema_val}, file name as {file_val}.\")\n",
    "        if target_schema_val == \"\" or file_val == \"\":\n",
    "            print(\"Error! You must provide a value for Schema and File.\")\n",
    "            return\n",
    "        else:\n",
    "            reset_values(key_val = key_val, target_schema_val = target_schema_val, file_val = file_val)\n",
    "\n",
    "button_3.on_click(on_button_clicked_3)"
   ]
  },
  {
   "cell_type": "code",
   "execution_count": null,
   "id": "b0f623e0-05df-4752-ae85-6fdbe29be943",
   "metadata": {},
   "outputs": [],
   "source": [
    "key = widgets.Text(description = \"Key\", placeholder = \"Enter Key\", layout=widgets.Layout(width='300px'))\n",
    "key.style.description_width = '100px'\n",
    "target_schema = widgets.Text(description = \"Target Schema\", placeholder = \"Enter Schema\",layout=widgets.Layout(width='300px'))\n",
    "target_schema.style.description_width = '100px'\n",
    "uploader = FileChooser('')\n",
    "\n",
    "from ipyfilechooser import FileChooser\n",
    "\n",
    "\n",
    "tab = widgets.Tab()\n",
    "child_1 = widgets.VBox([target_schema,key,button_2, output_2])\n",
    "child_2 = widgets.VBox([target_schema,key,uploader,button_3, output_3])\n",
    "tab.children = [child_1, child_2]\n",
    "tab.titles = [\"From database\", \"From a file\"]\n",
    "logging.info('[Query Profile Main Page] Trying to display the load tab')\n",
    "display(tab)\n",
    "logging.info('[Query Profile Main Page] Successfully loaded')"
   ]
  },
  {
   "cell_type": "markdown",
   "id": "887f0746-9a01-4a5b-b585-9c6c78366817",
   "metadata": {},
   "source": [
    "_____"
   ]
  },
  {
   "cell_type": "markdown",
   "id": "6c910b06-aea7-4b95-8a3c-eb3738d58e96",
   "metadata": {},
   "source": [
    "# Create"
   ]
  },
  {
   "cell_type": "code",
   "execution_count": null,
   "id": "3cff15cf-0b8d-4651-89dd-026b4e8c9121",
   "metadata": {},
   "outputs": [],
   "source": [
    "button_01 = widgets.Button(description=\"Query Request Table\", layout=widgets.Layout(width='auto'))\n",
    "output_01 = widgets.Output()\n",
    "display(button_01, output_01)\n",
    "\n",
    "def on_button_clicked_01(b):\n",
    "    output_01.clear_output(wait=True)\n",
    "    with output_01:\n",
    "        logging.info('[Query Profile Main Page] Trying to fetch the queries from query_request table')\n",
    "        sql_query = \"SELECT * from query_requests WHERE request_type = 'QUERY' AND request LIKE 'select%' ORDER BY request_duration_ms DESC LIMIT 6;\"\n",
    "        result = vp.vDataFrame(sql_query)\n",
    "        logging.info('[Query Profile Main Page] Successfully fetched the queries from query_request table')\n",
    "        display(HTML(result._repr_html_()))\n",
    "        \n",
    "logging.info('Trying to display Query Request Table button [Query Profile Main Page]')\n",
    "button_01.on_click(on_button_clicked_01)\n",
    "logging.info('Loaded Query Request Table button [Query Profile Main Page]')"
   ]
  },
  {
   "cell_type": "code",
   "execution_count": null,
   "id": "59c1d00b-0ecd-429f-8d39-af3b0ca8f215",
   "metadata": {},
   "outputs": [],
   "source": [
    "transaction = widgets.Text(description = \"Transaction ID\", placeholder = \"Enter a Transaction ID\", layout=widgets.Layout(width='300px'))\n",
    "transaction.style.description_width = '100px'\n",
    "statement = widgets.Text(description = \"Statement ID\", placeholder = \"Enter a Statement ID\", layout=widgets.Layout(width='300px'))\n",
    "statement.style.description_width = '100px'\n"
   ]
  },
  {
   "cell_type": "code",
   "execution_count": null,
   "id": "c18c43b6-9bae-4371-aec1-87d35a30160e",
   "metadata": {},
   "outputs": [],
   "source": [
    "key_2 = widgets.Text(description = \"Key\", placeholder = \"Enter Key (Optional)\", layout=widgets.Layout(width='300px'))\n",
    "key_2.style.description_width = '100px'\n",
    "target_schema_2 = widgets.Text(description = \"Target Schema (Optional)\", placeholder = \"Enter Schema\",layout=widgets.Layout(width='300px'))\n",
    "target_schema_2.style.description_width = '150px'"
   ]
  },
  {
   "cell_type": "code",
   "execution_count": null,
   "id": "69be4766-8633-4bd9-8588-42967d27a6fb",
   "metadata": {},
   "outputs": [],
   "source": [
    "button_1 = widgets.Button(description=\"Get Query Plan\")\n",
    "output_1 = widgets.Output()\n",
    "transaction_val = None\n",
    "statement_val = None\n",
    "target_schema_val_2 = None\n",
    "key_val_2 = None\n",
    "\n",
    "def on_button_clicked_1(b):\n",
    "    output_1.clear_output(wait=True)\n",
    "    global target_schema_val_2, key_val_2, statement_val, transaction_val\n",
    "    with output_1:\n",
    "        target_schema_val_2 = target_schema_2.value\n",
    "        key_val_2 = key_2.value\n",
    "        transaction_val = transaction.value\n",
    "        statement_val = statement.value\n",
    "        logging.info(f\"[Query Profile Main Page] For create option, saved key value as :{key_val_2}, target schema as {target_schema_val_2}, transaction id as {transaction_val}, statement id as {statement_val}.\")\n",
    "        reset_values(statement_val = statement_val, transaction_val = transaction_val, target_schema_val_2 = target_schema_val_2, key_val_2 = key_val_2)\n",
    "\n",
    "button_1.on_click(on_button_clicked_1)\n",
    "create_0 = widgets.VBox([target_schema_2, key_2,transaction,statement, button_1, output_1])"
   ]
  },
  {
   "cell_type": "code",
   "execution_count": null,
   "id": "19e7defc-558f-455a-bc6e-4c6bc2cade65",
   "metadata": {},
   "outputs": [],
   "source": [
    "query = widgets.Textarea(\n",
    "    placeholder='Enter a SQL Query',\n",
    "    description='SQL Query:',\n",
    "    disabled=False,\n",
    "    layout=widgets.Layout(width='700px', height = '300px')\n",
    ")"
   ]
  },
  {
   "cell_type": "code",
   "execution_count": null,
   "id": "f82c652f-0dca-48ce-a2f7-3c5eda71f3fe",
   "metadata": {},
   "outputs": [],
   "source": [
    "button = widgets.Button(description=\"Get Query Plan\")\n",
    "output_0 = widgets.Output()\n",
    "query_val = None\n",
    "\n",
    "def on_button_clicked_0(b):\n",
    "    output_0.clear_output(wait=True)\n",
    "    global query_val, target_schema_val_2, key_val_2\n",
    "    with output_0:\n",
    "        target_schema_val_2 = target_schema_2.value\n",
    "        key_val_2 = key_2.value\n",
    "        query_val = query.value\n",
    "        logging.info(f\"\"\"[Query Profile Main Page] For create using query option, saved key value as :{key_val_2}, target schema as {target_schema_val_2}, query as \"{query_val}\".\"\"\")\n",
    "        reset_values(query_val = query_val, target_schema_val_2 = target_schema_val_2, key_val_2 = key_val_2)\n",
    "\n",
    "button.on_click(on_button_clicked_0)\n",
    "create_1 = widgets.VBox([target_schema_2, key_2, query, button, output_0])\n"
   ]
  },
  {
   "cell_type": "code",
   "execution_count": null,
   "id": "947b5d38-5c30-4f77-87e9-7402e690ea06",
   "metadata": {},
   "outputs": [],
   "source": [
    "transaction_statement_list = widgets.Text(description = \"List of transaction IDs and statement IDs\", placeholder = \"[(trsansac_1, statemnt_1),(trsansac_2, statemnt_2)]\", layout=widgets.Layout(width='600px'))\n",
    "transaction_statement_list.style.description_width = '240px'\n",
    "button_4 = widgets.Button(description=\"Get Query Plan\")\n",
    "output_4 = widgets.Output()\n",
    "transaction_statement_list_val = None\n",
    "target_schema_val_2 = None\n",
    "key_val_2 = None\n",
    "\n",
    "\n",
    "\n",
    "def is_input_valid(input_string):\n",
    "    pattern = r'\\[\\((\\d+),(\\d+)\\)(,\\((\\d+),(\\d+)\\))*\\]'\n",
    "    return bool(re.match(pattern, input_string))\n",
    "\n",
    "def on_button_clicked_4(b):\n",
    "    output_4.clear_output(wait=True)\n",
    "    global target_schema_val_2, key_val_2, transaction_statement_list_val\n",
    "    with output_4:\n",
    "        if not is_input_valid(transaction_statement_list.value):\n",
    "            print(\"\\033[91m\\033[1m Error \\033[0m: Please check the input syntax. List of tuples is expected.\")\n",
    "        else:\n",
    "            target_schema_val_2 = target_schema_2.value\n",
    "            key_val_2 = key_2.value\n",
    "            transaction_statement_list_val = transaction_statement_list.value\n",
    "            logging.info(f\"[Query Profile Main Page] For create using multiple transaction ids and keys, saved key value as :{key_val_2}, target schema as {target_schema_val_2}, List of transactions and statements as {transaction_statement_list_val}.\")\n",
    "            reset_values(transaction_statement_list_val = transaction_statement_list_val, target_schema_val_2 = target_schema_val_2, key_val_2 = key_val_2)\n",
    "\n",
    "button_4.on_click(on_button_clicked_4)\n",
    "create_list_transaction_statement = widgets.VBox([target_schema_2, key_2,transaction_statement_list, button_4, output_4])"
   ]
  },
  {
   "cell_type": "code",
   "execution_count": null,
   "id": "fbb6fb85-5802-4786-a656-c98f1b5645eb",
   "metadata": {},
   "outputs": [],
   "source": [
    "tab_2 = widgets.Tab()\n",
    "tab_2.children = [create_0, create_1, create_list_transaction_statement]\n",
    "tab_2.titles = [\"Transaction & Statement\", \"From SQL\", \"Multiple Queries\"]\n",
    "display(tab_2)"
   ]
  },
  {
   "cell_type": "markdown",
   "id": "9dcd8aaf-ba1b-4d70-aade-df49f483582a",
   "metadata": {},
   "source": [
    "_____"
   ]
  },
  {
   "cell_type": "code",
   "execution_count": null,
   "id": "94c36c65-098c-4bfd-9820-156c8cbc0d81",
   "metadata": {},
   "outputs": [],
   "source": [
    "from IPython.display import HTML\n",
    "logging.info(f\"[Query Profile Main Page] Running script for HTML display\")\n",
    "display(\n",
    "    HTML(\n",
    "        \"\"\"\n",
    "<style>\n",
    ".jupyter-widgets.widget-tab > .lm-TabBar .lm-TabBar-tab {\n",
    "    flex: 0 1 auto\n",
    "}\n",
    "</style>\n",
    "\"\"\"\n",
    "    )\n",
    ")"
   ]
  }
 ],
 "metadata": {
  "kernelspec": {
   "display_name": "Python 3 (ipykernel)",
   "language": "python",
   "name": "python3"
  },
  "language_info": {
   "codemirror_mode": {
    "name": "ipython",
    "version": 3
   },
   "file_extension": ".py",
   "mimetype": "text/x-python",
   "name": "python",
   "nbconvert_exporter": "python",
   "pygments_lexer": "ipython3",
   "version": "3.10.13"
  }
 },
 "nbformat": 4,
 "nbformat_minor": 5
}
