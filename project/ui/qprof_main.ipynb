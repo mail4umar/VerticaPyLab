{
 "cells": [
  {
   "cell_type": "code",
   "execution_count": 1,
   "id": "df021d4b-5dc7-4c43-b223-e5ba20728ab0",
   "metadata": {},
   "outputs": [],
   "source": [
    "from ipywidgets import interact, interactive, fixed, interact_manual\n",
    "import ipywidgets as widgets\n",
    "import verticapy as vp\n",
    "from IPython.display import display,clear_output, IFrame, HTML\n",
    "import pickle\n",
    "import webbrowser\n",
    "\n",
    "from verticapy.performance.vertica import QueryProfilerInterface"
   ]
  },
  {
   "cell_type": "code",
   "execution_count": null,
   "id": "e88d8a33-80a8-40fa-8151-7c238fdb977f",
   "metadata": {},
   "outputs": [],
   "source": [
    "def reset_values(query_val = None, key_val = None, target_schema_val = None, transaction_val = None, statement_val = None):    \n",
    "    if query_val:\n",
    "        %store query_val\n",
    "    else:\n",
    "        %store -d query_val\n",
    "    if key_val:\n",
    "        %store key_val\n",
    "    else: \n",
    "        %store -d key_val\n",
    "    if target_schema_val:\n",
    "        %store target_schema_val\n",
    "    else:\n",
    "        %store -d target_schema_val\n",
    "    notebook_url = '/voila/render/ui/qprof-ui.ipynb'\n",
    "    display(HTML(f\"<script>window.open('{notebook_url}');window.close();</script>\"))"
   ]
  },
  {
   "cell_type": "markdown",
   "id": "6c910b06-aea7-4b95-8a3c-eb3738d58e96",
   "metadata": {},
   "source": [
    "# Create"
   ]
  },
  {
   "cell_type": "markdown",
   "id": "d84cde79-a36c-415c-9d13-4b38e7c13daa",
   "metadata": {},
   "source": [
    "## From SQL Query"
   ]
  },
  {
   "cell_type": "code",
   "execution_count": null,
   "id": "ba2dd438-b28c-4a1f-bbc0-7e7c23299924",
   "metadata": {},
   "outputs": [],
   "source": [
    "query = widgets.Text(placeholder = \"Enter a SQL Query\")\n",
    "query"
   ]
  },
  {
   "cell_type": "code",
   "execution_count": null,
   "id": "592d893d-1803-41c4-a994-e9f3c36ecec2",
   "metadata": {},
   "outputs": [],
   "source": [
    "button = widgets.Button(description=\"Get Query Plan\")\n",
    "output_0 = widgets.Output()\n",
    "display(button, output_0)\n",
    "query_val = None\n",
    "\n",
    "def on_button_clicked_0(b):\n",
    "    global query_val\n",
    "    with output_0:\n",
    "        query_val = query.value\n",
    "        reset_values(query_val = query_val)\n",
    "\n",
    "button.on_click(on_button_clicked_0)"
   ]
  },
  {
   "cell_type": "markdown",
   "id": "35b1c489-4fc0-42a2-8525-59ebbc6b9aab",
   "metadata": {},
   "source": [
    "## From Transaction id and Statement id"
   ]
  },
  {
   "cell_type": "code",
   "execution_count": null,
   "id": "59c1d00b-0ecd-429f-8d39-af3b0ca8f215",
   "metadata": {},
   "outputs": [],
   "source": [
    "transaction = widgets.Text(placeholder = \"Enter a Transaction ID\")\n",
    "transaction"
   ]
  },
  {
   "cell_type": "code",
   "execution_count": null,
   "id": "a2056a2b-9dc6-4014-a912-29e641d0eadc",
   "metadata": {},
   "outputs": [],
   "source": [
    "statement = widgets.Text(placeholder = \"Enter a Statement ID\")\n",
    "statement"
   ]
  },
  {
   "cell_type": "code",
   "execution_count": null,
   "id": "69be4766-8633-4bd9-8588-42967d27a6fb",
   "metadata": {},
   "outputs": [],
   "source": [
    "button_1 = widgets.Button(description=\"Get Query Plan\")\n",
    "output_1 = widgets.Output()\n",
    "display(button_1, output_1)\n",
    "transaction_val = None\n",
    "statement_val = None\n",
    "\n",
    "def on_button_clicked_1(b):\n",
    "    with output_1:\n",
    "        transaction_val = transaction.value\n",
    "        statement_val = statement.value\n",
    "        reset_values(statement_val = statement_val, transaction_val = transaction_val)\n",
    "\n",
    "button_1.on_click(on_button_clicked_1)"
   ]
  },
  {
   "cell_type": "markdown",
   "id": "9dcd8aaf-ba1b-4d70-aade-df49f483582a",
   "metadata": {},
   "source": [
    "_____"
   ]
  },
  {
   "cell_type": "markdown",
   "id": "b96dfa8e-6212-4ce0-b69a-3f9f2e9fd490",
   "metadata": {},
   "source": [
    "# Load"
   ]
  },
  {
   "cell_type": "markdown",
   "id": "4ec51e03-7525-4b34-a79d-5e58fa9d551a",
   "metadata": {},
   "source": [
    "## Enter Key"
   ]
  },
  {
   "cell_type": "code",
   "execution_count": null,
   "id": "d7224416-c14f-4465-8bac-df7940123472",
   "metadata": {},
   "outputs": [],
   "source": [
    "key = widgets.Text(placeholder = \"Enter Key\")\n",
    "key"
   ]
  },
  {
   "cell_type": "markdown",
   "id": "0d268604-18ab-4b20-9a2a-19f10b44461a",
   "metadata": {},
   "source": [
    "## Enter Target Schema"
   ]
  },
  {
   "cell_type": "code",
   "execution_count": null,
   "id": "ba6b959c-3c42-499e-9abf-d1dcf9093fc1",
   "metadata": {},
   "outputs": [],
   "source": [
    "target_schema = widgets.Text(placeholder = \"Enter Key\")\n",
    "target_schema"
   ]
  },
  {
   "cell_type": "code",
   "execution_count": null,
   "id": "c62d67c8-7b5a-4331-8f1b-c8c80abfe3bd",
   "metadata": {},
   "outputs": [],
   "source": [
    "\n",
    "button_2 = widgets.Button(description=\"Get Query Plan\")\n",
    "output_2 = widgets.Output()\n",
    "display(button_2, output_2)\n",
    "key_val = None\n",
    "target_schema_val = None\n",
    "\n",
    "\n",
    "def on_button_clicked_2(b):\n",
    "    global key_val, target_schema_val\n",
    "    with output_2:\n",
    "        key_val = key.value\n",
    "        target_schema_val = target_schema.value\n",
    "        reset_values(key_val = key_val, target_schema_val = target_schema_val)\n",
    "\n",
    "button_2.on_click(on_button_clicked_2)"
   ]
  },
  {
   "cell_type": "markdown",
   "id": "4a608b68-b0b7-4455-aa55-ecb36060a656",
   "metadata": {},
   "source": [
    "_____"
   ]
  }
 ],
 "metadata": {
  "kernelspec": {
   "display_name": "Python 3 (ipykernel)",
   "language": "python",
   "name": "python3"
  },
  "language_info": {
   "codemirror_mode": {
    "name": "ipython",
    "version": 3
   },
   "file_extension": ".py",
   "mimetype": "text/x-python",
   "name": "python",
   "nbconvert_exporter": "python",
   "pygments_lexer": "ipython3",
   "version": "3.10.12"
  }
 },
 "nbformat": 4,
 "nbformat_minor": 5
}
