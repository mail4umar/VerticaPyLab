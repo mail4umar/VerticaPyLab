{
 "cells": [
  {
   "cell_type": "code",
   "execution_count": 1,
   "id": "739353e9-44cd-4dbb-8891-f1dea998067f",
   "metadata": {},
   "outputs": [],
   "source": [
    "from ipywidgets import interact, interactive, fixed, interact_manual\n",
    "import ipywidgets as widgets\n",
    "from IPython.display import display,clear_output, HTML\n",
    "\n",
    "import verticapy as vp"
   ]
  },
  {
   "cell_type": "code",
   "execution_count": 2,
   "id": "8ed8016c-dacf-437d-af27-7005b66f6739",
   "metadata": {},
   "outputs": [],
   "source": [
    "# style = {'description_width': '150px', 'width' : '400px'}\n",
    "host = widgets.Text(description = \"Host\",placeholder = \"Enter Host (default is 'verticadb')\")\n",
    "port = widgets.Text(description = \"Port\", placeholder = \"Enter Port (default is 5433)\")\n",
    "user = widgets.Text(description = \"User name\", placeholder = \"Enter User Name (default is 'dbadmin')\")\n",
    "password = widgets.Password(description = \"Password\", placeholder = \"Enter Password (default is Empty)\")\n",
    "database = widgets.Text(description = \"Database\", placeholder = \"Enter Database (default is 'demo')\")\n",
    "name = widgets.Text(description = \"Name\", placeholder = \"Enter Name (default is 'VerticaDSN')\")\n",
    "backup_server_node = [\"localhost\"]"
   ]
  },
  {
   "cell_type": "markdown",
   "id": "e5731b71-031a-40ff-ac8e-7e88c2f5c170",
   "metadata": {},
   "source": [
    "## Please enter connection details"
   ]
  },
  {
   "cell_type": "code",
   "execution_count": 3,
   "id": "1cdf1aa6-6310-4764-823c-c0aff71e396a",
   "metadata": {},
   "outputs": [
    {
     "data": {
      "application/vnd.jupyter.widget-view+json": {
       "model_id": "09fd8c1943344c58ade9173242e7e43f",
       "version_major": 2,
       "version_minor": 0
      },
      "text/plain": [
       "VBox(children=(Text(value='', description='Host', placeholder=\"Enter Host (default is 'verticadb')\"), Text(val…"
      ]
     },
     "metadata": {},
     "output_type": "display_data"
    }
   ],
   "source": [
    "import ipywidgets as widgets\n",
    "\n",
    "display(widgets.VBox([\n",
    "    host,\n",
    "    port,\n",
    "    user,\n",
    "    password,\n",
    "    database,\n",
    "    name,\n",
    "]))"
   ]
  },
  {
   "cell_type": "code",
   "execution_count": 4,
   "id": "a70eb307-19eb-4ecd-866f-54864d981032",
   "metadata": {},
   "outputs": [
    {
     "data": {
      "application/vnd.jupyter.widget-view+json": {
       "model_id": "ec3f62d585ee463da4c13e30b491b62d",
       "version_major": 2,
       "version_minor": 0
      },
      "text/plain": [
       "Button(description='Create a Connection', style=ButtonStyle())"
      ]
     },
     "metadata": {},
     "output_type": "display_data"
    },
    {
     "data": {
      "application/vnd.jupyter.widget-view+json": {
       "model_id": "62eeee9a4c154b7fa341937bb05bb531",
       "version_major": 2,
       "version_minor": 0
      },
      "text/plain": [
       "Output(layout=Layout(border_bottom='1px solid black', border_left='1px solid black', border_right='1px solid b…"
      ]
     },
     "metadata": {},
     "output_type": "display_data"
    }
   ],
   "source": [
    "\n",
    "button = widgets.Button(description=\"Create a Connection\")\n",
    "output = widgets.Output(layout={'border': '1px solid black'})\n",
    "display(button, output)\n",
    "\n",
    "\n",
    "\n",
    "def on_button_clicked(b):\n",
    "    output.clear_output(wait=True)  # Clear the output\n",
    "    with output:\n",
    "        conn_info = {\n",
    "           'host': host.value if host.value else \"verticadb\", \n",
    "           'port': port.value if port.value else 5433,\n",
    "           'user': user.value if user.value else \"dbadmin\",\n",
    "           'password': password.value if password.value else \"\",\n",
    "           'database': database.value if database.value else \"demo\",\n",
    "        }\n",
    "        vp.new_connection(\n",
    "           conn_info,\n",
    "           name = name.value if name.value else \"VerticaDSN\",\n",
    "           auto = True,\n",
    "           overwrite = True,)\n",
    "        print(\"Successfully connected to the database:\", vp.current_connection().options['database'])\n",
    "button.on_click(on_button_clicked)\n",
    "\n"
   ]
  },
  {
   "cell_type": "markdown",
   "id": "4caf85a1-a3f9-4dd2-af9f-f2a43d239ed1",
   "metadata": {},
   "source": [
    "## Or Select From List"
   ]
  },
  {
   "cell_type": "code",
   "execution_count": 9,
   "id": "074edcaf-2212-4dbf-9d3e-0b430ef514ac",
   "metadata": {},
   "outputs": [
    {
     "data": {
      "application/vnd.jupyter.widget-view+json": {
       "model_id": "0a1d68d3a20e4c09a2bde924745e8504",
       "version_major": 2,
       "version_minor": 0
      },
      "text/plain": [
       "Dropdown(description='Available Coneections:', layout=Layout(width='300px'), options=('Yuanzhe', 'VerticaDSN')…"
      ]
     },
     "metadata": {},
     "output_type": "display_data"
    },
    {
     "data": {
      "application/vnd.jupyter.widget-view+json": {
       "model_id": "9821d701390645ae98d18fdd9bd8784c",
       "version_major": 2,
       "version_minor": 0
      },
      "text/plain": [
       "Button(description='Create a Connection', style=ButtonStyle())"
      ]
     },
     "metadata": {},
     "output_type": "display_data"
    },
    {
     "data": {
      "application/vnd.jupyter.widget-view+json": {
       "model_id": "5eaf0e2b73004f838a77404fa4be150f",
       "version_major": 2,
       "version_minor": 0
      },
      "text/plain": [
       "Output(layout=Layout(border_bottom='1px solid black', border_left='1px solid black', border_right='1px solid b…"
      ]
     },
     "metadata": {},
     "output_type": "display_data"
    }
   ],
   "source": [
    "from verticapy.connection import change_auto_connection\n",
    "\n",
    "selection = widgets.Dropdown(\n",
    "    options=vp.available_connections(),\n",
    "    description='Available Coneections:',\n",
    "    disabled=False, layout=widgets.Layout(width='300px'))\n",
    "selection.style.description_width = '150px'\n",
    "\n",
    "button_select = widgets.Button(description=\"Create a Connection\")\n",
    "output_2 = widgets.Output(layout={'border': '1px solid black'})\n",
    "display(selection,button_select, output_2)\n",
    "\n",
    "def on_button_clicked_select(b):\n",
    "    output_2.clear_output(wait=True)  # Clear the output\n",
    "    with output_2:\n",
    "        vp.connect(selection.value)\n",
    "        change_auto_connection(selection.value)\n",
    "        print(\"Successfully connected to the database:\", vp.current_connection().options['database'])\n",
    "button_select.on_click(on_button_clicked_select)"
   ]
  },
  {
   "cell_type": "markdown",
   "id": "b3ef9cd5-0769-4586-98f1-0f460a22ff1c",
   "metadata": {},
   "source": [
    "____"
   ]
  },
  {
   "cell_type": "code",
   "execution_count": 6,
   "id": "14e6b51c-72d8-4611-b991-47f9aeaa1473",
   "metadata": {
    "collapsed": true,
    "jupyter": {
     "outputs_hidden": true
    }
   },
   "outputs": [
    {
     "data": {
      "application/vnd.jupyter.widget-view+json": {
       "model_id": "1d01048d0ffd4a88a33456ba7a857415",
       "version_major": 2,
       "version_minor": 0
      },
      "text/plain": [
       "HBox(children=(HTML(value=\"<a href='http://127.0.0.1:8889/lab/workspaces/auto-3' style='text-decoration: none;…"
      ]
     },
     "metadata": {},
     "output_type": "display_data"
    }
   ],
   "source": [
    "import ipywidgets as widgets\n",
    "from IPython.display import display, HTML\n",
    "\n",
    "# Define the URLs for the links\n",
    "url1 = \"/lab/workspaces/auto-3\"\n",
    "url2 = \"/voila/render/ui/qprof_main.ipynb\"\n",
    "\n",
    "# Define the button labels\n",
    "button_label1 = \"Go to Home Page\"\n",
    "button_label2 = \"Go to Query Profiler\"\n",
    "\n",
    "# Define HTML links for buttons\n",
    "button_html1 = f\"<a href='{url1}' style='text-decoration: none; padding: 10px; background-color: #007bff; color: white; border-radius: 5px; margin-right: 10px;'><i class='fa fa-home'></i></a>\"\n",
    "button_html2 = f\"<a href='{url2}' style='text-decoration: none; padding: 10px; background-color: #007bff; color: white; border-radius: 5px;'>{button_label2}</a>\"\n",
    "\n",
    "\n",
    "# Create HTML widgets\n",
    "html_button1 = widgets.HTML(value=button_html1)\n",
    "html_button2 = widgets.HTML(value=button_html2)\n",
    "\n",
    "# Display buttons\n",
    "display(widgets.HBox([html_button1, html_button2]))\n"
   ]
  },
  {
   "cell_type": "markdown",
   "id": "32f3c37b-1446-4114-99a0-8dc62998ac5d",
   "metadata": {},
   "source": [
    "____"
   ]
  },
  {
   "cell_type": "code",
   "execution_count": 29,
   "id": "dd19b4c5-f99f-4467-b885-3cc34a58a7ae",
   "metadata": {},
   "outputs": [],
   "source": [
    "from verticapy._utils._sql._vertica_version import vertica_version\n",
    "\n",
    "button_version = widgets.Button(description=\"Click to refresh\")\n",
    "output_version = widgets.Output()\n",
    "\n",
    "def on_button_clicked_version(b):\n",
    "    output_version.clear_output(wait=True)  # Clear the output\n",
    "    with output_version:\n",
    "        print(\"Vertica version:\", vertica_version()[0], \".\", vertica_version()[1], \".\", vertica_version()[2], \".\", vertica_version()[3])\n",
    "        print(\"VerticaPy version:\", vp.__version__)\n",
    "        print(\"VerticaPy long version:\", vp.__long_version__)\n",
    "button_version.on_click(on_button_clicked_version)\n",
    "version_details = widgets.VBox([button_version, output_version])"
   ]
  },
  {
   "cell_type": "code",
   "execution_count": 27,
   "id": "db3e615b-7ed6-4b14-a508-432a0e6735a5",
   "metadata": {},
   "outputs": [
    {
     "data": {
      "application/vnd.jupyter.widget-view+json": {
       "model_id": "2100538297184c6494d87fa467acb6f5",
       "version_major": 2,
       "version_minor": 0
      },
      "text/plain": [
       "Accordion(children=(VBox(children=(Button(description='Click to display', style=ButtonStyle()), Output(outputs…"
      ]
     },
     "execution_count": 27,
     "metadata": {},
     "output_type": "execute_result"
    }
   ],
   "source": [
    "accordion = widgets.Accordion(children=[version_details], titles=('Version Details',))\n",
    "accordion"
   ]
  },
  {
   "cell_type": "code",
   "execution_count": null,
   "id": "c7e6ed2f-af31-48a8-80fc-f5a9402647b4",
   "metadata": {},
   "outputs": [],
   "source": []
  }
 ],
 "metadata": {
  "kernelspec": {
   "display_name": "Python 3 (ipykernel)",
   "language": "python",
   "name": "python3"
  },
  "language_info": {
   "codemirror_mode": {
    "name": "ipython",
    "version": 3
   },
   "file_extension": ".py",
   "mimetype": "text/x-python",
   "name": "python",
   "nbconvert_exporter": "python",
   "pygments_lexer": "ipython3",
   "version": "3.10.12"
  }
 },
 "nbformat": 4,
 "nbformat_minor": 5
}
