{
 "cells": [
  {
   "cell_type": "code",
   "execution_count": null,
   "id": "739353e9-44cd-4dbb-8891-f1dea998067f",
   "metadata": {},
   "outputs": [],
   "source": [
    "from ipywidgets import interact, interactive, fixed, interact_manual\n",
    "import ipywidgets as widgets"
   ]
  },
  {
   "cell_type": "code",
   "execution_count": null,
   "id": "8ed8016c-dacf-437d-af27-7005b66f6739",
   "metadata": {},
   "outputs": [],
   "source": [
    "# style = {'description_width': '150px', 'width' : '400px'}\n",
    "host = widgets.Text(description = \"Host\",placeholder = \"Enter Host (default is 'verticadb')\")\n",
    "port = widgets.Text(description = \"Port\", placeholder = \"Enter Port (default is 5433)\")\n",
    "user = widgets.Text(description = \"User name\", placeholder = \"Enter User Name (default is 'dbadmin')\")\n",
    "password = widgets.Password(description = \"Password\", placeholder = \"Enter Password (default is Empty)\")\n",
    "database = widgets.Text(description = \"Database\", placeholder = \"Enter Database (default is 'demo')\")\n",
    "name = widgets.Text(description = \"Name\", placeholder = \"Enter Name (default is 'VerticaDSN')\")\n",
    "backup_server_node = [\"localhost\"]"
   ]
  },
  {
   "cell_type": "markdown",
   "id": "e5731b71-031a-40ff-ac8e-7e88c2f5c170",
   "metadata": {},
   "source": [
    "## Please enter connection details"
   ]
  },
  {
   "cell_type": "code",
   "execution_count": null,
   "id": "1cdf1aa6-6310-4764-823c-c0aff71e396a",
   "metadata": {},
   "outputs": [],
   "source": [
    "import ipywidgets as widgets\n",
    "\n",
    "display(widgets.VBox([\n",
    "    host,\n",
    "    port,\n",
    "    user,\n",
    "    password,\n",
    "    database,\n",
    "    name,\n",
    "]))"
   ]
  },
  {
   "cell_type": "code",
   "execution_count": null,
   "id": "a70eb307-19eb-4ecd-866f-54864d981032",
   "metadata": {},
   "outputs": [],
   "source": [
    "import verticapy as vp\n",
    "from IPython.display import display\n",
    "button = widgets.Button(description=\"Create a Connection\")\n",
    "output = widgets.Output()\n",
    "display(button, output)\n",
    "\n",
    "\n",
    "\n",
    "def on_button_clicked(b):\n",
    "    with output:\n",
    "        conn_info = {\n",
    "           'host': host.value if host.value else \"verticadb\", \n",
    "           'port': port.value if port.value else 5433,\n",
    "           'user': user.value if user.value else \"dbadmin\",\n",
    "           'password': password.value if password.value else \"\",\n",
    "           'database': database.value if database.value else \"demo\",\n",
    "        }\n",
    "        vp.new_connection(\n",
    "           conn_info,\n",
    "           name = name.value if name.value else \"VerticaDSN\",\n",
    "           auto = True,\n",
    "           overwrite = True,)\n",
    "        print(\"Connected to:\", vp.current_connection())\n",
    "\n",
    "button.on_click(on_button_clicked)"
   ]
  },
  {
   "cell_type": "code",
   "execution_count": null,
   "id": "14cbb78c-bcfb-4cc4-946c-ad1ac566d119",
   "metadata": {},
   "outputs": [],
   "source": []
  }
 ],
 "metadata": {
  "kernelspec": {
   "display_name": "Python 3 (ipykernel)",
   "language": "python",
   "name": "python3"
  },
  "language_info": {
   "codemirror_mode": {
    "name": "ipython",
    "version": 3
   },
   "file_extension": ".py",
   "mimetype": "text/x-python",
   "name": "python",
   "nbconvert_exporter": "python",
   "pygments_lexer": "ipython3",
   "version": "3.10.12"
  }
 },
 "nbformat": 4,
 "nbformat_minor": 5
}
