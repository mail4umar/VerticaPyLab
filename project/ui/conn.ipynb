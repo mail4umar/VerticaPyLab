{
 "cells": [
  {
   "cell_type": "code",
   "execution_count": null,
   "id": "646eaee7-3870-4fee-af2a-3e2df937d88c",
   "metadata": {},
   "outputs": [],
   "source": [
    "import ipywidgets as widgets\n",
    "from IPython.display import display, HTML\n",
    "\n",
    "# Define the URLs for the links\n",
    "url1 = \"/lab/\"\n",
    "url2 = \"/voila/render/ui/qprof_main.ipynb\"\n",
    "\n",
    "# Define the button labels\n",
    "button_label1 = \"Go to Home Page\"\n",
    "button_label2 = \"Go to Query Profiler\"\n",
    "\n",
    "# Define HTML links for buttons\n",
    "button_html1 = f\"<a href='{url1}' style='text-decoration: none; padding: 8px; background-color: #007bff; color: white; border-radius: 5px; margin-right: 10px;'><i class='fa fa-home'></i></a>\"\n",
    "button_html2 = f\"<a href='{url2}' style='text-decoration: none; padding: 8px; background-color: #007bff; color: white; border-radius: 5px;'>{button_label2}</a>\"\n",
    "\n",
    "\n",
    "# Create HTML widgets\n",
    "html_button1 = widgets.HTML(value=button_html1)\n",
    "html_button2 = widgets.HTML(value=button_html2)\n",
    "\n",
    "# Display buttons\n",
    "display(widgets.HBox([html_button1, html_button2]))\n"
   ]
  },
  {
   "cell_type": "markdown",
   "id": "6537d006-71a5-45ae-b6d9-032a4b2879e9",
   "metadata": {},
   "source": [
    "_________"
   ]
  },
  {
   "cell_type": "code",
   "execution_count": null,
   "id": "739353e9-44cd-4dbb-8891-f1dea998067f",
   "metadata": {},
   "outputs": [],
   "source": [
    "from ipywidgets import interact, interactive, fixed, interact_manual\n",
    "import ipywidgets as widgets\n",
    "from IPython.display import display,clear_output, HTML\n",
    "\n",
    "import verticapy as vp"
   ]
  },
  {
   "cell_type": "code",
   "execution_count": null,
   "id": "8ed8016c-dacf-437d-af27-7005b66f6739",
   "metadata": {},
   "outputs": [],
   "source": [
    "# style = {'description_width': '150px', 'width' : '400px'}\n",
    "host = widgets.Text(description = \"Host\",placeholder = \"Enter Host (default is 'verticadb')\")\n",
    "port = widgets.Text(description = \"Port\", placeholder = \"Enter Port (default is 5433)\")\n",
    "user = widgets.Text(description = \"User name\", placeholder = \"Enter User Name (default is 'dbadmin')\")\n",
    "password = widgets.Password(description = \"Password\", placeholder = \"Enter Password (default is Empty)\")\n",
    "database = widgets.Text(description = \"Database\", placeholder = \"Enter Database (default is 'demo')\")\n",
    "name = widgets.Text(description = \"Name\", placeholder = \"Enter Name (default is 'VerticaDSN')\")\n",
    "ssl = widgets.Text(description = \"SSL/TLS\", placeholder = \"TLS/SSL. (default is false)\", layout=widgets.Layout(width='350px'))\n",
    "ssl.style.description_width = '130px'\n",
    "connection_timeout = widgets.Text(description = \"Connection Timeout\", placeholder = \"Time in seconds (default is 5)\", layout=widgets.Layout(width='350px'))\n",
    "connection_timeout.style.description_width = '130px'\n",
    "autocommit = widgets.Checkbox(value = False, description = 'Autocommit', disabled = False, indent = False,layout=widgets.Layout(width = '350px',align_items='flex-end'))\n",
    "\n",
    "#Oauth\n",
    "oauth_access_token = widgets.Password(description = \"OAuth Access Token\", placeholder = \"Enter Access Token\", layout=widgets.Layout(width='500px'))\n",
    "oauth_access_token.style.description_width = '150px'\n",
    "oauth_refresh_token = widgets.Password(description = \"OAuth Refresh Token\", placeholder = \"Enter Refresh Token\", layout=widgets.Layout(width='500px'))\n",
    "oauth_refresh_token.style.description_width = '150px'\n",
    "\n",
    "#Kerberos\n",
    "kerberos_host_name = widgets.Text(description = \"Kerberos host name\", placeholder = \"Enter Host\", layout=widgets.Layout(width='500px'))\n",
    "kerberos_host_name.style.description_width = '150px'\n",
    "kerberos_service_name = widgets.Text(description = \"Kerberos service name\", placeholder = \"Enter Name\", layout=widgets.Layout(width='500px'))\n",
    "kerberos_service_name.style.description_width = '150px'\n",
    "\n",
    "backup_server_node = [\"localhost\"]"
   ]
  },
  {
   "cell_type": "markdown",
   "id": "e5731b71-031a-40ff-ac8e-7e88c2f5c170",
   "metadata": {},
   "source": [
    "## Please enter connection details"
   ]
  },
  {
   "cell_type": "code",
   "execution_count": null,
   "id": "1cdf1aa6-6310-4764-823c-c0aff71e396a",
   "metadata": {},
   "outputs": [],
   "source": [
    "import ipywidgets as widgets\n",
    "\n",
    "display(widgets.VBox([\n",
    "    host,\n",
    "    port,\n",
    "    user,\n",
    "    password,\n",
    "    database,\n",
    "    name,\n",
    "]))"
   ]
  },
  {
   "cell_type": "code",
   "execution_count": null,
   "id": "640cf2ec-5c0f-4c45-89e0-a5d025e2d26c",
   "metadata": {},
   "outputs": [],
   "source": [
    "more_options = widgets.VBox([\n",
    "    ssl,\n",
    "    connection_timeout,\n",
    "])\n",
    "\n",
    "\n",
    "tab = widgets.Tab()\n",
    "child_1 = widgets.VBox([oauth_access_token,oauth_refresh_token])\n",
    "child_2 = widgets.VBox([kerberos_host_name,kerberos_service_name])\n",
    "tab.children = [child_1, child_2]\n",
    "tab.titles = [\"OAuth\", \"Kerberos\"]\n",
    "\n",
    "advanced_options = widgets.VBox([more_options, tab, autocommit,])\n",
    "\n",
    "accordion = widgets.Accordion(children=[advanced_options], titles=('Advanced Options',))\n",
    "accordion"
   ]
  },
  {
   "cell_type": "code",
   "execution_count": null,
   "id": "a70eb307-19eb-4ecd-866f-54864d981032",
   "metadata": {},
   "outputs": [],
   "source": [
    "\n",
    "button = widgets.Button(description=\"Create a Connection\")\n",
    "output = widgets.Output(layout={'border': '1px solid black'})\n",
    "display(button, output)\n",
    "\n",
    "\n",
    "\n",
    "def on_button_clicked(b):\n",
    "    output.clear_output(wait=True)  # Clear the output\n",
    "    with output:\n",
    "        conn_info = {\n",
    "           'host': host.value if host.value else \"verticadb\", \n",
    "           'port': port.value if port.value else 5433,\n",
    "           'user': user.value if user.value else \"dbadmin\",\n",
    "           'password': password.value if password.value else \"\",\n",
    "           'database': database.value if database.value else \"demo\",\n",
    "        }\n",
    "        vp.new_connection(\n",
    "           conn_info,\n",
    "           name = name.value if name.value else \"VerticaDSN\",\n",
    "           auto = True,\n",
    "           overwrite = True,)\n",
    "        print(\"Successfully connected to the database:\", vp.current_connection().options['database'])\n",
    "button.on_click(on_button_clicked)\n",
    "\n"
   ]
  },
  {
   "cell_type": "markdown",
   "id": "4caf85a1-a3f9-4dd2-af9f-f2a43d239ed1",
   "metadata": {},
   "source": [
    "## Or Select From List"
   ]
  },
  {
   "cell_type": "code",
   "execution_count": null,
   "id": "074edcaf-2212-4dbf-9d3e-0b430ef514ac",
   "metadata": {},
   "outputs": [],
   "source": [
    "from verticapy.connection import change_auto_connection\n",
    "\n",
    "selection = widgets.Dropdown(\n",
    "    options=vp.available_connections(),\n",
    "    description='Available Coneections:',\n",
    "    disabled=False, layout=widgets.Layout(width='300px'))\n",
    "selection.style.description_width = '150px'\n",
    "\n",
    "button_select = widgets.Button(description=\"Create a Connection\")\n",
    "output_2 = widgets.Output(layout={'border': '1px solid black'})\n",
    "display(selection,button_select, output_2)\n",
    "\n",
    "def on_button_clicked_select(b):\n",
    "    output_2.clear_output(wait=True)  # Clear the output\n",
    "    with output_2:\n",
    "        vp.connect(selection.value)\n",
    "        change_auto_connection(selection.value)\n",
    "        print(\"Successfully connected to the database:\", vp.current_connection().options['database'])\n",
    "button_select.on_click(on_button_clicked_select)"
   ]
  },
  {
   "cell_type": "code",
   "execution_count": null,
   "id": "dd19b4c5-f99f-4467-b885-3cc34a58a7ae",
   "metadata": {},
   "outputs": [],
   "source": [
    "from verticapy._utils._sql._vertica_version import vertica_version\n",
    "\n",
    "button_version = widgets.Button(description=\"Click to refresh\")\n",
    "output_version = widgets.Output()\n",
    "\n",
    "def on_button_clicked_version(b):\n",
    "    output_version.clear_output(wait=True)  # Clear the output\n",
    "    with output_version:\n",
    "        print(\"Vertica version:\", vertica_version()[0], \".\", vertica_version()[1], \".\", vertica_version()[2], \".\", vertica_version()[3])\n",
    "        print(\"VerticaPy version:\", vp.__version__)\n",
    "        print(\"VerticaPy long version:\", vp.__long_version__)\n",
    "button_version.on_click(on_button_clicked_version)\n",
    "version_details = widgets.VBox([button_version, output_version])"
   ]
  },
  {
   "cell_type": "code",
   "execution_count": null,
   "id": "db3e615b-7ed6-4b14-a508-432a0e6735a5",
   "metadata": {},
   "outputs": [],
   "source": [
    "accordion = widgets.Accordion(children=[version_details], titles=('Version Details',))\n",
    "accordion"
   ]
  },
  {
   "cell_type": "markdown",
   "id": "b295fdd4-b6c3-4749-a639-d9a589e1d46b",
   "metadata": {},
   "source": [
    "_________"
   ]
  },
  {
   "cell_type": "code",
   "execution_count": null,
   "id": "c7e6ed2f-af31-48a8-80fc-f5a9402647b4",
   "metadata": {},
   "outputs": [],
   "source": [
    "import subprocess\n",
    "output_install = widgets.Output()\n",
    "\n",
    "def install_verticapy(_):\n",
    "    with output_install:\n",
    "        subprocess.run([\"pip\", \"install\", \"git+https://github.com/vertica/VerticaPy.git@master\"])\n",
    "        print(\"Successfully installed latest verticapy from the master branch.\")\n",
    "        print(\"Note: You must refresh to get the latest version.\")\n",
    "\n",
    "install_button = widgets.Button(description=\"Install latest verticapy\")\n",
    "install_button.on_click(install_verticapy)\n",
    "\n",
    "display(install_button, output_install)"
   ]
  },
  {
   "cell_type": "markdown",
   "id": "a935e70f-9cad-4149-9f66-a8c6b95e9405",
   "metadata": {},
   "source": [
    "_________"
   ]
  }
 ],
 "metadata": {
  "kernelspec": {
   "display_name": "Python 3 (ipykernel)",
   "language": "python",
   "name": "python3"
  },
  "language_info": {
   "codemirror_mode": {
    "name": "ipython",
    "version": 3
   },
   "file_extension": ".py",
   "mimetype": "text/x-python",
   "name": "python",
   "nbconvert_exporter": "python",
   "pygments_lexer": "ipython3",
   "version": "3.10.13"
  }
 },
 "nbformat": 4,
 "nbformat_minor": 5
}
