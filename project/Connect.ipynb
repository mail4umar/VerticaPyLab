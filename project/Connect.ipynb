{
 "cells": [
  {
   "cell_type": "code",
   "execution_count": null,
   "id": "c4ccea9f-000e-4868-b6e6-84344c09d3ea",
   "metadata": {},
   "outputs": [],
   "source": [
    "import verticapy as vp\n",
    "%load_ext verticapy.sql"
   ]
  },
  {
   "cell_type": "code",
   "execution_count": null,
   "id": "1261c4d4-89f5-48c7-ac30-9b88f7b70d0e",
   "metadata": {},
   "outputs": [],
   "source": [
    "%%sql\n",
    "select version();"
   ]
  }
 ],
 "metadata": {
  "kernelspec": {
   "display_name": "Python 3 (ipykernel)",
   "language": "python",
   "name": "python3"
  },
  "language_info": {
   "codemirror_mode": {
    "name": "ipython",
    "version": 3
   },
   "file_extension": ".py",
   "mimetype": "text/x-python",
   "name": "python",
   "nbconvert_exporter": "python",
   "pygments_lexer": "ipython3",
   "version": "3.8.16"
  }
 },
 "nbformat": 4,
 "nbformat_minor": 5
}
