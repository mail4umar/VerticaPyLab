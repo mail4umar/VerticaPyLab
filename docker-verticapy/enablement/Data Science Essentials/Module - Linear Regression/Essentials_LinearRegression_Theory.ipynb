{
 "cells": [
  {
   "cell_type": "code",
   "execution_count": 1,
   "id": "d8813b06",
   "metadata": {},
   "outputs": [],
   "source": [
    "import ipywidgets as widgets\n",
    "from IPython.display import display, clear_output"
   ]
  },
  {
   "cell_type": "code",
   "execution_count": 2,
   "id": "73c74fd4",
   "metadata": {},
   "outputs": [
    {
     "data": {
      "application/vnd.jupyter.widget-view+json": {
       "model_id": "13a9875cd53f4b519e54d846e00b98a1",
       "version_major": 2,
       "version_minor": 0
      },
      "text/plain": [
       "VBox(children=(Image(value=b'\\x89PNG\\r\\n\\x1a\\n\\x00\\x00\\x00\\rIHDR\\x00\\x00\\x04\\xd4\\x00\\x00\\x01\\x04\\x08\\x06\\x00\\x…"
      ]
     },
     "metadata": {},
     "output_type": "display_data"
    }
   ],
   "source": [
    "file = open(\"Figures/vertica.png\", \"rb\")\n",
    "image = file.read()\n",
    "\n",
    "image_headline = widgets.Image(\n",
    "                    value=image,\n",
    "                    format='png',\n",
    "                    #height='80%',\n",
    "                    width='20%'\n",
    "                )\n",
    "\n",
    "vbox_headline = widgets.VBox([image_headline])\n",
    "vbox_headline.layout.align_items = 'center'\n",
    "display(vbox_headline)"
   ]
  },
  {
   "cell_type": "code",
   "execution_count": 3,
   "id": "82e00749",
   "metadata": {},
   "outputs": [
    {
     "data": {
      "application/vnd.jupyter.widget-view+json": {
       "model_id": "499e2ab42ba447c292ff6426271f41f4",
       "version_major": 2,
       "version_minor": 0
      },
      "text/plain": [
       "HBox(children=(Image(value=b'\\x89PNG\\r\\n\\x1a\\n\\x00\\x00\\x00\\rIHDR\\x00\\x00\\x00Q\\x00\\x00\\x00;\\x08\\x03\\x00\\x00\\x00…"
      ]
     },
     "metadata": {},
     "output_type": "display_data"
    }
   ],
   "source": [
    "\n",
    "file = open(\"Figures/back.png\", \"rb\")\n",
    "image = file.read()\n",
    "\n",
    "image_headline = widgets.Image(\n",
    "                    value=image,\n",
    "                    format='png',layout=widgets.Layout(width='30px', height='24px')\n",
    "                )\n",
    "\n",
    "text_0=link = widgets.HTML(\n",
    "    value=\"<a href=http://localhost:8888/voila/render/Documents/Template/MAIN_v1.ipynb target='_blank'><font size='2' color='blue'>Go Back to Main Page</font></a>\",\n",
    ")\n",
    "hbox_line2 = widgets.HBox([image_headline,text_0])\n",
    "display(hbox_line2)"
   ]
  },
  {
   "cell_type": "markdown",
   "id": "1eb61592",
   "metadata": {},
   "source": [
    "# Linear Regression\n",
    "## Fundamentals"
   ]
  },
  {
   "cell_type": "code",
   "execution_count": 4,
   "id": "ac11e2e2",
   "metadata": {},
   "outputs": [
    {
     "data": {
      "application/vnd.jupyter.widget-view+json": {
       "model_id": "5b5c7e42af0249ec8a63a17f57217206",
       "version_major": 2,
       "version_minor": 0
      },
      "text/plain": [
       "HBox(children=(Image(value=b'\\x89PNG\\r\\n\\x1a\\n\\x00\\x00\\x00\\rIHDR\\x00\\x00\\x00J\\x00\\x00\\x00`\\x08\\x03\\x00\\x00\\x00…"
      ]
     },
     "metadata": {},
     "output_type": "display_data"
    }
   ],
   "source": [
    "file = open(\"Figures/time.png\", \"rb\")\n",
    "image = file.read()\n",
    "\n",
    "image_headline = widgets.Image(\n",
    "                    value=image,\n",
    "                    format='png',layout=widgets.Layout(width='14px', height='19px')\n",
    "                )\n",
    "\n",
    "text_0=link = widgets.HTML(value=\"<font size='2'>15 mins</font>\")\n",
    "hbox_line2 = widgets.HBox([image_headline,text_0])\n",
    "display(hbox_line2)"
   ]
  },
  {
   "cell_type": "markdown",
   "id": "95f6fb4f",
   "metadata": {},
   "source": [
    "__Table of Contents__\n",
    "\n",
    "- [Regression](#regression_cell)\n",
    "- [Linear Regression](#regression_cell)\n",
    "- [Multiple Linear Regression](#regression_cell)\n",
    "- [Assumptions](#assumptions_cell)"
   ]
  },
  {
   "cell_type": "markdown",
   "id": "1a1629bb",
   "metadata": {},
   "source": [
    "Linear regression is one of the most fundamental and highly effective tools in data analysis and, as the bedrock for more advanced techniques, it has no prerequisites knowledge beyond a basic understanding of algebra.\n",
    "\n",
    "This lesson goes over the key ideas of linear regression, the contexts where it should be used, and how to create and improve linear regression models."
   ]
  },
  {
   "cell_type": "markdown",
   "id": "e359fcc6",
   "metadata": {},
   "source": [
    "### Covered in This Module\n",
    "- The motivation and key ideas behind regression\n",
    "- Linear and multiple linear regression\n",
    "- When to use linear regression\n",
    "- How to improve a linear regression model"
   ]
  },
  {
   "cell_type": "markdown",
   "id": "a563ee14",
   "metadata": {},
   "source": [
    "***"
   ]
  },
  {
   "cell_type": "markdown",
   "id": "e91b7444",
   "metadata": {},
   "source": [
    "### Regression\n",
    "\n",
    "<a id='regression_cell'></a>"
   ]
  },
  {
   "cell_type": "markdown",
   "id": "7050ec65",
   "metadata": {},
   "source": [
    "Regression is data analysis tool that identifies relationships between a continuous, quantitaive/numeric dependent variable (e.g. the price of a house) and one or more independent variables (e.g. the size of the house, the number of rooms).\n",
    "\n",
    "Regression is fundamentally different from classification; in classification the independent variables are a set of categorical, discrete values (e.g. the type of house, like a condo or apartment). However, the independent variables for both regression and classification can take on any form (numeric or categorical).\n",
    "\n",
    "The key idea behind regression is to use a set of data points to estimate the some true underlying function:\n",
    "\n",
    "$Y=\\hat{f}(X)$\n",
    "\n",
    "Where $X$ is the independent variable, $Y$ is the dependent variable, and $\\hat{f}$ is the approximation of the true underlying function.\n",
    "\n",
    "After using regression to identify the relationship between the independent and dependent variables, you can make inferences and predictions.\n",
    "\n",
    "Making inferences is the act of creating insights from the data. This could be figuring out the strength of the relationship is between the independent and dependent variables, or how a change in the independent variable could affect the dependent variable.\n",
    "\n",
    "Prediction involves using the estimated relationship (identified by the regression and expressed as a function) and the independent variable to estimate changes to the dependent variable. For example, you could use regression to approximate the underlying cost function of houses with respect to their size, then use the function to predict the price of a house with a given size."
   ]
  },
  {
   "cell_type": "markdown",
   "id": "31b5eb48",
   "metadata": {},
   "source": [
    "***"
   ]
  },
  {
   "cell_type": "markdown",
   "id": "3fd84ef3",
   "metadata": {},
   "source": [
    "### Linear Regression\n",
    "\n",
    "<a id='linear_regression_cell'></a>"
   ]
  },
  {
   "cell_type": "markdown",
   "id": "f289fe64",
   "metadata": {},
   "source": [
    "As the name suggests, linear regression is a type of regression that assumes that the underlying relationship of independent and dependent variables is linear. This results in the following parametric equation, where X is the independent variable, Y is the dependent variable, and $\\beta_{0}$ and $\\beta_{1}$ are the intercept and slope:\n",
    "\n",
    " $Y\\approx\\ \\beta_{0}+\\beta_{1}X$\n",
    "\n",
    "This parametric equation produces a line, and the goal of linear regression is to identify values for $\\beta_{0}$ and $\\beta_{1}$ that produce a line that best fits a given dataset.\n",
    "\n",
    "For example, you could create a simple equation for the fuel consumption of a car based on its engine size:\n",
    "\n",
    " $ consumption= \\beta_{0} + \\beta_{1} \\times engine$  $size$\n",
    "\n",
    "The question here is: how do you get the values for $\\beta_{0}$ and $\\beta_{1}$?\n",
    "        \n",
    "As previously stated, $\\beta_{0}$ and $\\beta_{1}$ represent the intercept and slope, so any given combination of $\\beta_{0}$ and $\\beta_{1}$ creates a unique line through a dataset. The most common method for finding the line of best fit is with the \"least squares\" method, where the goal is to minimize the square of the error between the predicted line and the observations in the dataset.\n",
    "\n",
    "For example, the graph below plots a dataset and contains three lines (that is, three unique combinations of $\\beta_{0}$ and $\\beta_{1}$). Of these three lines, the solid one highlighted in red is considered the line of best fit because it minimizes the squared error between the points on the line and the points in the dataset:"
   ]
  },
  {
   "cell_type": "code",
   "execution_count": 14,
   "id": "6fc3dd28",
   "metadata": {},
   "outputs": [
    {
     "data": {
      "application/vnd.jupyter.widget-view+json": {
       "model_id": "185ba6b4115140dd99e8272ad8ba0658",
       "version_major": 2,
       "version_minor": 0
      },
      "text/plain": [
       "Image(value=b'\\x89PNG\\r\\n\\x1a\\n\\x00\\x00\\x00\\rIHDR\\x00\\x00\\x02?\\x00\\x00\\x01\\xb9\\x08\\x06\\x00\\x00\\x00a\\xadUo\\x00\\…"
      ]
     },
     "metadata": {},
     "output_type": "display_data"
    }
   ],
   "source": [
    "file = open(\"Figures/Theory_Fig1.png\", \"rb\")\n",
    "image = file.read()\n",
    "\n",
    "image= widgets.Image(\n",
    "                    value=image,\n",
    "                    format='png',\n",
    "                    width='500px'\n",
    "                )\n",
    "display(image)"
   ]
  },
  {
   "cell_type": "markdown",
   "id": "8f3097df",
   "metadata": {},
   "source": [
    "<b>Finding the Line of Best Fit</b>"
   ]
  },
  {
   "cell_type": "code",
   "execution_count": 140,
   "id": "8a202938",
   "metadata": {},
   "outputs": [],
   "source": [
    "def create_multipleChoice_widget(options, correct_answer):\n",
    "    if correct_answer not in options:\n",
    "        options.append(correct_answer)\n",
    "    \n",
    "    correct_answer_index = options.index(correct_answer)\n",
    "    \n",
    "    radio_options = [(words, i) for i, words in enumerate(options)]\n",
    "    alternativ = widgets.RadioButtons(\n",
    "        options = radio_options,\n",
    "        description = '',\n",
    "        disabled = False\n",
    "    )\n",
    "    \n",
    "    description_out = widgets.Output()\n",
    "#    with description_out:\n",
    "#        print(description)\n",
    "        \n",
    "    feedback_out = widgets.Output()\n",
    "\n",
    "    def check_selection(b):\n",
    "        a = int(alternativ.value)\n",
    "        if a==correct_answer_index:\n",
    "            s = '\\x1b[6;30;42m' + \"Correct!\" + '\\x1b[0m' +\"\\n\" #green color\n",
    "        else:\n",
    "            s = '\\x1b[5;30;41m' + \"Try again\" + '\\x1b[0m' +\"\\n\" #red color\n",
    "        with feedback_out:\n",
    "            clear_output()\n",
    "            print(s)\n",
    "        return\n",
    "    \n",
    "    check = widgets.Button(description=\"submit\")\n",
    "    check.on_click(check_selection)\n",
    "    \n",
    "    \n",
    "    return widgets.VBox([description_out, alternativ, check, feedback_out])"
   ]
  },
  {
   "cell_type": "code",
   "execution_count": 141,
   "id": "9aa8f7de",
   "metadata": {},
   "outputs": [],
   "source": [
    "Q1 = create_multipleChoice_widget(['Positively','Negatively'],'Positively')"
   ]
  },
  {
   "cell_type": "markdown",
   "id": "fd8151a5",
   "metadata": {},
   "source": [
    "<div class=\"alert alert-block alert-success\">\n",
    "<b>Knowledge check:</b> In the above plot, how are X and Y correlated?\n",
    "</div>"
   ]
  },
  {
   "cell_type": "code",
   "execution_count": 142,
   "id": "612a0bfd",
   "metadata": {
    "scrolled": true
   },
   "outputs": [
    {
     "data": {
      "application/vnd.jupyter.widget-view+json": {
       "model_id": "ffc130e12afd4607bca193188bade0e8",
       "version_major": 2,
       "version_minor": 0
      },
      "text/plain": [
       "VBox(children=(Output(), RadioButtons(options=(('Positively', 0), ('Negatively', 1)), value=0), Button(descrip…"
      ]
     },
     "metadata": {},
     "output_type": "display_data"
    }
   ],
   "source": [
    "display(Q1)"
   ]
  },
  {
   "cell_type": "markdown",
   "id": "1a440edb",
   "metadata": {},
   "source": [
    "***"
   ]
  },
  {
   "cell_type": "markdown",
   "id": "b6874761",
   "metadata": {},
   "source": [
    "### Multiple Linear Regression\n",
    "\n",
    "<a id='multiple_linear_regression_cell'></a>"
   ]
  },
  {
   "cell_type": "markdown",
   "id": "eb2bbaa9",
   "metadata": {},
   "source": [
    "In most datasets, you will not have a single predictor (independent variable); rather, your output (dependent variable) will depend on several elements. For example, the mileage of the car is not solely determined by its model year, and instead depends on other factors such as engine size and weight.\n",
    "\n",
    "To account for multiple independent variables, multiple linear regression extends the parametric equation as follows:\n",
    "\n",
    " $Y\\approx\\ \\beta_{0}+\\beta_{1}X_{1}+...+\\beta_{n}X_{n}$\n",
    " \n",
    "Where $n$ is the number of independent variables. "
   ]
  },
  {
   "cell_type": "markdown",
   "id": "7c400477",
   "metadata": {},
   "source": [
    "***"
   ]
  },
  {
   "cell_type": "markdown",
   "id": "f46b4488",
   "metadata": {},
   "source": [
    "### Assumptions\n",
    "\n",
    "<a id='assumptions_cell'></a>"
   ]
  },
  {
   "cell_type": "markdown",
   "id": "908a7463",
   "metadata": {},
   "source": [
    "Linear regression relies on the following assumptions:\n",
    "\n",
    "- __Linear__:  As the name suggests, linear regression assumes that the relationship between the dependent and independent variables is linear. However, you can work around this limitation if you know that the underlying relationship is non-linear (e.g. quadratic); you can create a new variable ($X_{1}^2$) and add it to the equation:\n",
    "\n",
    "  $Y\\approx\\ \\beta_{0}+\\beta_{1}X_{1}+\\beta_{2}X_{1}^2$\n",
    " \n",
    "  Depending on the underlying function, the original term $X_{1}$ can also be completely removed from the equation.\n",
    " \n",
    "- __Independence__: Linear regression assumes that the independent variables are not related to each other (i.e. they are not correlated).\n",
    "  \n",
    "  You can verify if the independent variables are correlated with a correlation matrix, but correlation matrices are limited to finding collinearity among pairs of two variables, and there may exist a multicollinear relationship (where more than two variables are collinear). In this case, you can compute the variance inflation factor to estimate the severity of the multicollinearity.\n",
    "  \n",
    "  After assessing the collinearity, some variables can be dropped to increase the accuracy of the linear regression.\n",
    " \n",
    "- __Additive__: All independent variables are additive. That is, the effect on one independent variable on the dependent variable does not depend on the effect of any other independent variable on that dependent variable. If you find that your dataset contains non-additive independent variables, you can work around them by creating a new interaction variable that encompasses their combined synergistic effects on the dependent variable.\n",
    "  \n",
    "  For example, the effect that weight of a car and its engine size are both independent variables that affect the car's mileage, the dependent variable. However, the weight of the car and its engine size are not additive because engine size necessarily has implications on the weight of the car. To address this, you can introduce an interaction variable $X_{1} X_{2}$. This results in the following equation:\n",
    "\n",
    "  $Y\\approx\\ \\beta_{0}+\\beta_{1}X_{1}+\\beta_{2}X_{2}+ \\beta_{3}X_{1}X_{2}$\n",
    " \n",
    "\n",
    "- __Homoscedastic noise__: The variance of errors (noise) must be consistent throughout the dataset. The opposite of consistent noise is __heteroscedastic noise__, which is shown on the right side in the figure below; the data points vary significantly when the prediction values are higher, while the lower prediction values have relatively low variance. Compare this to the __homoscedastic noise__ where the errors are uniformly distributed throughout all predictions.\n",
    "\n"
   ]
  },
  {
   "cell_type": "code",
   "execution_count": 15,
   "id": "56035751",
   "metadata": {
    "scrolled": true
   },
   "outputs": [
    {
     "data": {
      "application/vnd.jupyter.widget-view+json": {
       "model_id": "f8b049d1ba74444eb89c5d69327dc7e5",
       "version_major": 2,
       "version_minor": 0
      },
      "text/plain": [
       "Image(value=b'\\x89PNG\\r\\n\\x1a\\n\\x00\\x00\\x00\\rIHDR\\x00\\x00\\x0f\\x96\\x00\\x00\\x06\\x96\\x08\\x06\\x00\\x00\\x00\\xcc)\\xb0…"
      ]
     },
     "metadata": {},
     "output_type": "display_data"
    }
   ],
   "source": [
    "file = open(\"Figures/Theory_Fig4.png\", \"rb\")\n",
    "image = file.read()\n",
    "\n",
    "image= widgets.Image(\n",
    "                    value=image,\n",
    "                    format='png',\n",
    "                    width='800px'\n",
    "                )\n",
    "display(image)"
   ]
  },
  {
   "cell_type": "markdown",
   "id": "87cda2d6",
   "metadata": {},
   "source": [
    "  In cases where a dataset contains __heteroscedastic noise__, you can mitigate the effect by changing the dependent variable to $log (Y)$ or $\\sqrt{Y}$. In the Figure below we can see how taking the Log of output makes the variance of errors more evenly distributed. \n"
   ]
  },
  {
   "cell_type": "code",
   "execution_count": 17,
   "id": "d09342d9",
   "metadata": {},
   "outputs": [
    {
     "data": {
      "application/vnd.jupyter.widget-view+json": {
       "model_id": "8a1eb82634454edcb1e57534d907bc14",
       "version_major": 2,
       "version_minor": 0
      },
      "text/plain": [
       "Image(value=b'\\x89PNG\\r\\n\\x1a\\n\\x00\\x00\\x00\\rIHDR\\x00\\x00\\x0f7\\x00\\x00\\x06\\x98\\x08\\x06\\x00\\x00\\x00\\xb0\\xb9\\xb0…"
      ]
     },
     "metadata": {},
     "output_type": "display_data"
    }
   ],
   "source": [
    "file = open(\"Figures/Theory_Fig7.png\", \"rb\")\n",
    "image = file.read()\n",
    "\n",
    "image= widgets.Image(\n",
    "                    value=image,\n",
    "                    format='png',\n",
    "                    width='800px'\n",
    "                )\n",
    "display(image)"
   ]
  },
  {
   "cell_type": "markdown",
   "id": "b05f28c2",
   "metadata": {},
   "source": [
    "***"
   ]
  },
  {
   "cell_type": "markdown",
   "id": "734218b4",
   "metadata": {},
   "source": [
    "<font style=\"font-family:Calibri\"> Author Name: Umar Farooq Ghumman\n",
    "<br>\n",
    "Author Contact: abs@verticapy.com</font>"
   ]
  },
  {
   "cell_type": "markdown",
   "id": "185edfa5",
   "metadata": {},
   "source": [
    "### Resources\n",
    "\n",
    "- [<font size='2'>Auto Data</font>](https://raw.githubusercontent.com/mail4umar/ISLR-python/master/Notebooks/Data/Auto.csv)\n",
    "\n",
    "- [<font size='2'>An Introduction to Statistical Learning</font>](https://www.statlearning.com/)"
   ]
  }
 ],
 "metadata": {
  "kernelspec": {
   "display_name": "Python 3 (ipykernel)",
   "language": "python",
   "name": "python3"
  },
  "language_info": {
   "codemirror_mode": {
    "name": "ipython",
    "version": 3
   },
   "file_extension": ".py",
   "mimetype": "text/x-python",
   "name": "python",
   "nbconvert_exporter": "python",
   "pygments_lexer": "ipython3",
   "version": "3.9.12"
  }
 },
 "nbformat": 4,
 "nbformat_minor": 5
}
