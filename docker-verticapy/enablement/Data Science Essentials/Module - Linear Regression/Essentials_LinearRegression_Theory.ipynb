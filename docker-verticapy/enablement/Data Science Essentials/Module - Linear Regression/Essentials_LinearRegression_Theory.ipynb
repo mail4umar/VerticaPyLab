{
 "cells": [
  {
   "cell_type": "code",
   "execution_count": 2,
   "id": "d8813b06",
   "metadata": {},
   "outputs": [],
   "source": [
    "import ipywidgets as widgets\n",
    "from IPython.display import display, clear_output"
   ]
  },
  {
   "cell_type": "code",
   "execution_count": 1,
   "id": "73c74fd4",
   "metadata": {},
   "outputs": [
    {
     "ename": "NameError",
     "evalue": "name 'widgets' is not defined",
     "output_type": "error",
     "traceback": [
      "\u001b[1;31m---------------------------------------------------------------------------\u001b[0m",
      "\u001b[1;31mNameError\u001b[0m                                 Traceback (most recent call last)",
      "Input \u001b[1;32mIn [1]\u001b[0m, in \u001b[0;36m<cell line: 4>\u001b[1;34m()\u001b[0m\n\u001b[0;32m      1\u001b[0m file \u001b[38;5;241m=\u001b[39m \u001b[38;5;28mopen\u001b[39m(\u001b[38;5;124m\"\u001b[39m\u001b[38;5;124mFigures/vertica.png\u001b[39m\u001b[38;5;124m\"\u001b[39m, \u001b[38;5;124m\"\u001b[39m\u001b[38;5;124mrb\u001b[39m\u001b[38;5;124m\"\u001b[39m)\n\u001b[0;32m      2\u001b[0m image \u001b[38;5;241m=\u001b[39m file\u001b[38;5;241m.\u001b[39mread()\n\u001b[1;32m----> 4\u001b[0m image_headline \u001b[38;5;241m=\u001b[39m \u001b[43mwidgets\u001b[49m\u001b[38;5;241m.\u001b[39mImage(\n\u001b[0;32m      5\u001b[0m                     value\u001b[38;5;241m=\u001b[39mimage,\n\u001b[0;32m      6\u001b[0m                     \u001b[38;5;28mformat\u001b[39m\u001b[38;5;241m=\u001b[39m\u001b[38;5;124m'\u001b[39m\u001b[38;5;124mpng\u001b[39m\u001b[38;5;124m'\u001b[39m,\n\u001b[0;32m      7\u001b[0m                     height\u001b[38;5;241m=\u001b[39m\u001b[38;5;124m'\u001b[39m\u001b[38;5;124m100\u001b[39m\u001b[38;5;124m'\u001b[39m,\n\u001b[0;32m      8\u001b[0m                     width\u001b[38;5;241m=\u001b[39m\u001b[38;5;124m'\u001b[39m\u001b[38;5;124m1000\u001b[39m\u001b[38;5;124m'\u001b[39m\n\u001b[0;32m      9\u001b[0m                 )\n\u001b[0;32m     11\u001b[0m vbox_headline \u001b[38;5;241m=\u001b[39m widgets\u001b[38;5;241m.\u001b[39mVBox([image_headline])\n\u001b[0;32m     12\u001b[0m vbox_headline\n",
      "\u001b[1;31mNameError\u001b[0m: name 'widgets' is not defined"
     ]
    }
   ],
   "source": [
    "file = open(\"Figures/vertica.png\", \"rb\")\n",
    "image = file.read()\n",
    "\n",
    "image_headline = widgets.Image(\n",
    "                    value=image,\n",
    "                    format='png',\n",
    "                    #height='80%',\n",
    "                    width='20%'\n",
    "                )\n",
    "\n",
    "vbox_headline = widgets.VBox([image_headline])\n",
    "vbox_headline.layout.align_items = 'center'\n",
    "display(vbox_headline)"
   ]
  },
  {
   "cell_type": "code",
   "execution_count": 4,
   "id": "82e00749",
   "metadata": {},
   "outputs": [
    {
     "data": {
      "application/vnd.jupyter.widget-view+json": {
       "model_id": "476527ca72d541e89d46e30470b6b05a",
       "version_major": 2,
       "version_minor": 0
      },
      "text/plain": [
       "HBox(children=(Image(value=b'\\x89PNG\\r\\n\\x1a\\n\\x00\\x00\\x00\\rIHDR\\x00\\x00\\x00Q\\x00\\x00\\x00;\\x08\\x03\\x00\\x00\\x00…"
      ]
     },
     "metadata": {},
     "output_type": "display_data"
    }
   ],
   "source": [
    "\n",
    "file = open(\"Figures/back.png\", \"rb\")\n",
    "image = file.read()\n",
    "\n",
    "image_headline = widgets.Image(\n",
    "                    value=image,\n",
    "                    format='png',layout=widgets.Layout(width='30px', height='24px')\n",
    "                )\n",
    "\n",
    "text_0=link = widgets.HTML(\n",
    "    value=\"<a href=http://localhost:8888/voila/render/Documents/Template/MAIN_v1.ipynb target='_blank'><font size='2' color='blue'>Go Back to Main Page</font></a>\",\n",
    ")\n",
    "hbox_line2 = widgets.HBox([image_headline,text_0])\n",
    "display(hbox_line2)"
   ]
  },
  {
   "cell_type": "markdown",
   "id": "1eb61592",
   "metadata": {},
   "source": [
    "# Linear Regression\n",
    "## Fundamentals"
   ]
  },
  {
   "cell_type": "code",
   "execution_count": 5,
   "id": "ac11e2e2",
   "metadata": {},
   "outputs": [
    {
     "data": {
      "application/vnd.jupyter.widget-view+json": {
       "model_id": "2c5e8906a34d487dbe28498d93542f03",
       "version_major": 2,
       "version_minor": 0
      },
      "text/plain": [
       "HBox(children=(Image(value=b'\\x89PNG\\r\\n\\x1a\\n\\x00\\x00\\x00\\rIHDR\\x00\\x00\\x00J\\x00\\x00\\x00`\\x08\\x03\\x00\\x00\\x00…"
      ]
     },
     "metadata": {},
     "output_type": "display_data"
    }
   ],
   "source": [
    "file = open(\"Figures/time.png\", \"rb\")\n",
    "image = file.read()\n",
    "\n",
    "image_headline = widgets.Image(\n",
    "                    value=image,\n",
    "                    format='png',layout=widgets.Layout(width='14px', height='19px')\n",
    "                )\n",
    "\n",
    "text_0=link = widgets.HTML(value=\"<font size='2'>15 mins</font>\")\n",
    "hbox_line2 = widgets.HBox([image_headline,text_0])\n",
    "display(hbox_line2)"
   ]
  },
  {
   "cell_type": "markdown",
   "id": "95f6fb4f",
   "metadata": {},
   "source": [
    "__Table of Contents__\n",
    "\n",
    "- [Regression](#regression_cell)\n",
    "- [Linear Regression](#regression_cell)\n",
    "- [Multiple Linear Regression](#regression_cell)\n",
    "- [Assumptions](#assumptions_cell)"
   ]
  },
  {
   "cell_type": "markdown",
   "id": "1a1629bb",
   "metadata": {},
   "source": [
    "In this ever-growing world of data, it is crucial to be able to efficiently draw insights from the data which can help you make well-informed decisions. Data analytics is not limited to one particular field any more, it has infact become ubiqioutous. Data analytics encompasses many statistical tools including advanced tools like neural networks and random forests, but quite often the simplest ones are the most efficient ones. Linear regression is one such basic analytics tool. However, using any of the statistics tools without having a good understanding of its limitations can be detrimental. In this lesson, we will try to cover some important aspects of Linear Regression to enable any user with some basic understanding of algebra to be able to use it."
   ]
  },
  {
   "cell_type": "markdown",
   "id": "e359fcc6",
   "metadata": {},
   "source": [
    "### What you will learn in this module\n",
    "\n",
    "- What is regression and why do we need it?\n",
    "- What is linear and multiple linear regression?\n",
    "- In which cases can we use linear regression?\n",
    "- How can we modify linear regression to overcome the assumption limitations?"
   ]
  },
  {
   "cell_type": "markdown",
   "id": "a563ee14",
   "metadata": {},
   "source": [
    "***"
   ]
  },
  {
   "cell_type": "markdown",
   "id": "e91b7444",
   "metadata": {},
   "source": [
    "### Regression\n",
    "\n",
    "<a id='regression_cell'></a>"
   ]
  },
  {
   "cell_type": "markdown",
   "id": "7050ec65",
   "metadata": {},
   "source": [
    "Regression is data analytics tool which draws relationship between a quantitaive dependent variable, such as the price of a house, and independent variables, such as the area of the house or the number of rooms in the house. It is quite differernt from classification, where the independent variables is a categorical variables i.e., it can only take on certain predefnied categorical values. However, the independent variables for both regression and classification can take on any form (numeric or categorical).\n",
    "\n",
    "The main idea of regression is to use data points, or observation, to make an estimate of the true underlying function:\n",
    "\n",
    "$Y=\\hat{f}(X) ,$\n",
    "\n",
    "where $X$ is the independent variable, $Y$ is the dependent variable, and $\\hat{f}$ is the approximation of the true underlying function.\n",
    "\n",
    "Once we have figured out the relationship between independent and dependent variables, then we can do two things:\n",
    "- Inference\n",
    "- Prediction\n",
    "\n",
    "Inference involves drawing singihts from the data. It can involve figuring out how strong is the relationship between the independent and dependent variable, or what effect can a change in dependent variable have on the indepedent variable. \n",
    "\n",
    "Prediction involves using the approximated relationship to estimate the dependent variable by using the depndent variable. For example, if we can approximate the underlying cost function of houses with respect to their area, then if we are given a new value of area, then using the approximated function, we can predict the price of the house for that particular area. "
   ]
  },
  {
   "cell_type": "markdown",
   "id": "31b5eb48",
   "metadata": {},
   "source": [
    "***"
   ]
  },
  {
   "cell_type": "markdown",
   "id": "3fd84ef3",
   "metadata": {},
   "source": [
    "### Linear Regression\n",
    "\n",
    "<a id='linear_regression_cell'></a>"
   ]
  },
  {
   "cell_type": "markdown",
   "id": "0ef0675d",
   "metadata": {},
   "source": [
    "As the name suggests, Linear Regression assumes the underlying relationship of independent and dependent variables to be linear. This results in the following parametric form:\n",
    "\n",
    " $Y\\approx\\ \\beta_{0}+\\beta_{1}X$\n",
    "    \n",
    "As an example, we could simplifying the fuel consumption of car based on it's engine size:\n",
    "    $ consumption= \\beta_{0} + \\beta_{1} \\times engine$  $size$\n",
    "\n",
    "Now the question becomes: how do we estimate the values of these betas ($\\beta_{0}$ and $\\beta_{1}$).\n",
    "        \n",
    "A unique combination of these betas, represents an equation of a unique line with betas representing the intercept and slope. The most common method of finding the best line of fit is by the least squares method in which the square of error between the predicted line and  the observation is reduced. As an example, please look at the plot below where three unique lines are fitted to the data, and the best one is highlighted by the red color."
   ]
  },
  {
   "attachments": {
    "image-2.png": {
     "image/png": "[encoded data removed]"
    }
   },
   "cell_type": "markdown",
   "id": "c85c4a6a",
   "metadata": {},
   "source": [
    "![image-2.png](attachment:image-2.png)"
   ]
  },
  {
   "cell_type": "markdown",
   "id": "8f3097df",
   "metadata": {},
   "source": [
    "<b>Fitting a line through a bunch of data points</b>"
   ]
  },
  {
   "cell_type": "code",
   "execution_count": 140,
   "id": "8a202938",
   "metadata": {},
   "outputs": [],
   "source": [
    "def create_multipleChoice_widget(options, correct_answer):\n",
    "    if correct_answer not in options:\n",
    "        options.append(correct_answer)\n",
    "    \n",
    "    correct_answer_index = options.index(correct_answer)\n",
    "    \n",
    "    radio_options = [(words, i) for i, words in enumerate(options)]\n",
    "    alternativ = widgets.RadioButtons(\n",
    "        options = radio_options,\n",
    "        description = '',\n",
    "        disabled = False\n",
    "    )\n",
    "    \n",
    "    description_out = widgets.Output()\n",
    "#    with description_out:\n",
    "#        print(description)\n",
    "        \n",
    "    feedback_out = widgets.Output()\n",
    "\n",
    "    def check_selection(b):\n",
    "        a = int(alternativ.value)\n",
    "        if a==correct_answer_index:\n",
    "            s = '\\x1b[6;30;42m' + \"Correct!\" + '\\x1b[0m' +\"\\n\" #green color\n",
    "        else:\n",
    "            s = '\\x1b[5;30;41m' + \"Try again\" + '\\x1b[0m' +\"\\n\" #red color\n",
    "        with feedback_out:\n",
    "            clear_output()\n",
    "            print(s)\n",
    "        return\n",
    "    \n",
    "    check = widgets.Button(description=\"submit\")\n",
    "    check.on_click(check_selection)\n",
    "    \n",
    "    \n",
    "    return widgets.VBox([description_out, alternativ, check, feedback_out])"
   ]
  },
  {
   "cell_type": "code",
   "execution_count": 141,
   "id": "9aa8f7de",
   "metadata": {},
   "outputs": [],
   "source": [
    "Q1 = create_multipleChoice_widget(['Positively','Negatively'],'Positively')"
   ]
  },
  {
   "cell_type": "markdown",
   "id": "fd8151a5",
   "metadata": {},
   "source": [
    "<div class=\"alert alert-block alert-success\">\n",
    "<b>Knowledge check:</b> In the above plot, how are X and Y correalted?\n",
    "</div>"
   ]
  },
  {
   "cell_type": "code",
   "execution_count": 142,
   "id": "612a0bfd",
   "metadata": {
    "scrolled": true
   },
   "outputs": [
    {
     "data": {
      "application/vnd.jupyter.widget-view+json": {
       "model_id": "ffc130e12afd4607bca193188bade0e8",
       "version_major": 2,
       "version_minor": 0
      },
      "text/plain": [
       "VBox(children=(Output(), RadioButtons(options=(('Positively', 0), ('Negatively', 1)), value=0), Button(descrip…"
      ]
     },
     "metadata": {},
     "output_type": "display_data"
    }
   ],
   "source": [
    "display(Q1)"
   ]
  },
  {
   "cell_type": "markdown",
   "id": "1a440edb",
   "metadata": {},
   "source": [
    "***"
   ]
  },
  {
   "cell_type": "markdown",
   "id": "b6874761",
   "metadata": {},
   "source": [
    "### Multiple Linear Regression\n",
    "\n",
    "<a id='multiple_linear_regression_cell'></a>"
   ]
  },
  {
   "cell_type": "markdown",
   "id": "eb2bbaa9",
   "metadata": {},
   "source": [
    "Most of the times, we do not have a single predictor (independent variable), and the output (dependent variable) depends upon more than just one element. For example, the mileage of the car cannot only just depend on its make year. Other factors such as engine size and weight could also contribute to the mileage.\n",
    "\n",
    "To cater for multiple independent varialbes multiple linear regression just extends the equation of simple linear regression as follows:\n",
    "\n",
    " $Y\\approx\\ \\beta_{0}+\\beta_{1}X_{1}+...+\\beta_{n}X_{n}$\n",
    " \n",
    " where the $n$ is the total number of independent variables. "
   ]
  },
  {
   "cell_type": "markdown",
   "id": "7c400477",
   "metadata": {},
   "source": [
    "***"
   ]
  },
  {
   "cell_type": "markdown",
   "id": "f46b4488",
   "metadata": {},
   "source": [
    "### Assumptions\n",
    "\n",
    "<a id='assumptions_cell'></a>"
   ]
  },
  {
   "cell_type": "markdown",
   "id": "908a7463",
   "metadata": {},
   "source": [
    "There are some exlpicit and implicit assumptions of a linear model that are crucial to understand.\n",
    "- __Linear__\n",
    "<p> As the name suggests, Linear Regression assumes that the relationship between the dependent and idependent variables is linear. But if it known that the underlying relationship in non-linear, e.g., quadratic, then we can createa a new variable ($X_{1}^2$) and add it to the equation:</p>\n",
    "\n",
    " $Y\\approx\\ \\beta_{0}+\\beta_{1}X_{1}+\\beta_{2}X_{1}^2$\n",
    " \n",
    " <p> Depending on the underlfying function, the original term, $X_{1}$ can be completely disregarded from the equation. </p>\n",
    " <p></p>\n",
    " \n",
    "- <b>Independence</b>\n",
    "<p>It is assumed that the independent variables are not related to each other i.e., they are not correlated. The correlation of the independent variables can be computed using the famour correlation matrix. However, the correlation matrix is only limited to finding collinearity among pairs of two variables, whereas there may exist multicollinearity where more than two variables can aslo be collinear. For this variance ifnlation factor can be computed. After assessing the collenarity, some variables can be dropped to ensure the accuracy of linear regression.</p>\n",
    " \n",
    " \n",
    "- <b>Additive</b>\n",
    "<p> All the independent variables are additive i.e., the effect on one independent variable on the dependent variable does not depend on the effect of any other independent variable on the dependent variable. For example, the effect on mileage of increasing weight does is independent of the engine size. As one can imagine, this assumption does not make sense because there would be some underlying synergy effects. To overcome this limitation, an interaction term, $X_{1} X_{2}$, can be added which is treated as an additional variable in our model. This results in the following equation:</p>\n",
    "\n",
    " $Y\\approx\\ \\beta_{0}+\\beta_{1}X_{1}+\\beta_{2}X_{2}+ \\beta_{3}X_{1}X_{2}$\n",
    " \n",
    "\n",
    "- <b>Homoscedistic noise</b>\n",
    "<p>The variance of errors, or noise, is assumed to be constant throughout. But some times it is also possible that the noise is different at different lcoations. Taking example of the figure below, we can see that the residual ($Actual-Prediction$) is higher at higher prediction values.</p>\n",
    "\n",
    "In such scenarios, it is possible to mitigate the effect by converting our dependent variable using functions such as $log (Y)$ or $\\sqrt{Y}$.\n"
   ]
  },
  {
   "attachments": {
    "image.png": {
     "image/png": "[encoded data removed]"
    }
   },
   "cell_type": "markdown",
   "id": "55390dcb",
   "metadata": {},
   "source": [
    "![image.png](attachment:image.png)"
   ]
  },
  {
   "cell_type": "markdown",
   "id": "b05f28c2",
   "metadata": {},
   "source": [
    "***"
   ]
  },
  {
   "cell_type": "markdown",
   "id": "734218b4",
   "metadata": {},
   "source": [
    "<font style=\"font-family:Calibri\"> Author Name: Umar Farooq Ghumman\n",
    "<br>\n",
    "Author Contact: abs@verticapy.com</font>"
   ]
  },
  {
   "cell_type": "markdown",
   "id": "185edfa5",
   "metadata": {},
   "source": [
    "### Resources\n",
    "\n",
    "- [<font size='2'>Auto Data</font>](https://raw.githubusercontent.com/mail4umar/ISLR-python/master/Notebooks/Data/Auto.csv)\n",
    "\n",
    "- [<font size='2'>Citation 2</font>](https://www.statlearning.com/)"
   ]
  },
  {
   "cell_type": "code",
   "execution_count": null,
   "id": "a86816bb",
   "metadata": {},
   "outputs": [],
   "source": []
  }
 ],
 "metadata": {
  "kernelspec": {
   "display_name": "Python 3 (ipykernel)",
   "language": "python",
   "name": "python3"
  },
  "language_info": {
   "codemirror_mode": {
    "name": "ipython",
    "version": 3
   },
   "file_extension": ".py",
   "mimetype": "text/x-python",
   "name": "python",
   "nbconvert_exporter": "python",
   "pygments_lexer": "ipython3",
   "version": "3.9.12"
  }
 },
 "nbformat": 4,
 "nbformat_minor": 5
}
