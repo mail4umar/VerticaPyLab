{
 "cells": [
  {
   "cell_type": "code",
   "execution_count": 2,
   "id": "d8813b06",
   "metadata": {},
   "outputs": [],
   "source": [
    "import ipywidgets as widgets\n",
    "from IPython.display import display, clear_output"
   ]
  },
  {
   "cell_type": "code",
   "execution_count": 1,
   "id": "73c74fd4",
   "metadata": {},
   "outputs": [
    {
     "ename": "NameError",
     "evalue": "name 'widgets' is not defined",
     "output_type": "error",
     "traceback": [
      "\u001b[1;31m---------------------------------------------------------------------------\u001b[0m",
      "\u001b[1;31mNameError\u001b[0m                                 Traceback (most recent call last)",
      "Input \u001b[1;32mIn [1]\u001b[0m, in \u001b[0;36m<cell line: 4>\u001b[1;34m()\u001b[0m\n\u001b[0;32m      1\u001b[0m file \u001b[38;5;241m=\u001b[39m \u001b[38;5;28mopen\u001b[39m(\u001b[38;5;124m\"\u001b[39m\u001b[38;5;124mFigures/vertica.png\u001b[39m\u001b[38;5;124m\"\u001b[39m, \u001b[38;5;124m\"\u001b[39m\u001b[38;5;124mrb\u001b[39m\u001b[38;5;124m\"\u001b[39m)\n\u001b[0;32m      2\u001b[0m image \u001b[38;5;241m=\u001b[39m file\u001b[38;5;241m.\u001b[39mread()\n\u001b[1;32m----> 4\u001b[0m image_headline \u001b[38;5;241m=\u001b[39m \u001b[43mwidgets\u001b[49m\u001b[38;5;241m.\u001b[39mImage(\n\u001b[0;32m      5\u001b[0m                     value\u001b[38;5;241m=\u001b[39mimage,\n\u001b[0;32m      6\u001b[0m                     \u001b[38;5;28mformat\u001b[39m\u001b[38;5;241m=\u001b[39m\u001b[38;5;124m'\u001b[39m\u001b[38;5;124mpng\u001b[39m\u001b[38;5;124m'\u001b[39m,\n\u001b[0;32m      7\u001b[0m                     height\u001b[38;5;241m=\u001b[39m\u001b[38;5;124m'\u001b[39m\u001b[38;5;124m100\u001b[39m\u001b[38;5;124m'\u001b[39m,\n\u001b[0;32m      8\u001b[0m                     width\u001b[38;5;241m=\u001b[39m\u001b[38;5;124m'\u001b[39m\u001b[38;5;124m1000\u001b[39m\u001b[38;5;124m'\u001b[39m\n\u001b[0;32m      9\u001b[0m                 )\n\u001b[0;32m     11\u001b[0m vbox_headline \u001b[38;5;241m=\u001b[39m widgets\u001b[38;5;241m.\u001b[39mVBox([image_headline])\n\u001b[0;32m     12\u001b[0m vbox_headline\n",
      "\u001b[1;31mNameError\u001b[0m: name 'widgets' is not defined"
     ]
    }
   ],
   "source": [
    "file = open(\"Figures/vertica.png\", \"rb\")\n",
    "image = file.read()\n",
    "\n",
    "image_headline = widgets.Image(\n",
    "                    value=image,\n",
    "                    format='png',\n",
    "                    #height='80%',\n",
    "                    width='20%'\n",
    "                )\n",
    "\n",
    "vbox_headline = widgets.VBox([image_headline])\n",
    "vbox_headline.layout.align_items = 'center'\n",
    "vbox_headline"
   ]
  },
  {
   "cell_type": "code",
   "execution_count": 16,
   "id": "8b0862f1",
   "metadata": {},
   "outputs": [],
   "source": [
    "def create_multipleChoice_widget(options, correct_answer):\n",
    "    if correct_answer not in options:\n",
    "        options.append(correct_answer)\n",
    "    \n",
    "    correct_answer_index = options.index(correct_answer)\n",
    "    \n",
    "    radio_options = [(words, i) for i, words in enumerate(options)]\n",
    "    alternativ = widgets.RadioButtons(\n",
    "        options = radio_options,\n",
    "        description = '',\n",
    "        disabled = False\n",
    "    )\n",
    "    \n",
    "    description_out = widgets.Output()\n",
    "#    with description_out:\n",
    "#        print(description)\n",
    "        \n",
    "    feedback_out = widgets.Output()\n",
    "\n",
    "    def check_selection(b):\n",
    "        a = int(alternativ.value)\n",
    "        if a==correct_answer_index:\n",
    "            s = '\\x1b[6;30;42m' + \"Correct!\" + '\\x1b[0m' +\"\\n\" #green color\n",
    "        else:\n",
    "            s = '\\x1b[5;30;41m' + \"Try again\" + '\\x1b[0m' +\"\\n\" #red color\n",
    "        with feedback_out:\n",
    "            clear_output()\n",
    "            print(s)\n",
    "        return\n",
    "    \n",
    "    check = widgets.Button(description=\"submit\")\n",
    "    check.on_click(check_selection)\n",
    "    \n",
    "    \n",
    "    return widgets.VBox([description_out, alternativ, check, feedback_out])"
   ]
  },
  {
   "cell_type": "code",
   "execution_count": 17,
   "id": "cef26fd2",
   "metadata": {},
   "outputs": [],
   "source": [
    "def create_numeric_widget(correct_answer):\n",
    "    \n",
    "    #correct_answer_index = options.index(correct_answer)\n",
    "    \n",
    "    #radio_options = [(words, i) for i, words in enumerate(options)]\n",
    "    alternativ = widgets.Text(\n",
    "        #options = radio_options,\n",
    "        #description = '',\n",
    "        disabled = False\n",
    "    )\n",
    "    \n",
    "    description_out = widgets.Output()\n",
    "#    with description_out:\n",
    "#        print(description)\n",
    "        \n",
    "    feedback_out = widgets.Output()\n",
    "\n",
    "    def check_selection(b):\n",
    "        try:\n",
    "            a = int(alternativ.value)\n",
    "        except ValueError:\n",
    "            a = float(alternativ.value)\n",
    "        if a==correct_answer:\n",
    "            s = '\\x1b[6;30;42m' + \"Correct!\" + '\\x1b[0m' +\"\\n\" #green color\n",
    "        else:\n",
    "            s = '\\x1b[5;30;41m' + \"Try again\" + '\\x1b[0m' +\"\\n\" #red color\n",
    "        with feedback_out:\n",
    "            clear_output()\n",
    "            print(s)\n",
    "        return\n",
    "    \n",
    "    check = widgets.Button(description=\"submit\")\n",
    "    check.on_click(check_selection)\n",
    "    \n",
    "    \n",
    "    return widgets.VBox([description_out, alternativ, check, feedback_out])"
   ]
  },
  {
   "cell_type": "code",
   "execution_count": 6,
   "id": "bd4f7d2d",
   "metadata": {},
   "outputs": [
    {
     "data": {
      "application/vnd.jupyter.widget-view+json": {
       "model_id": "e1ea517934c74265a59320cb8e49837d",
       "version_major": 2,
       "version_minor": 0
      },
      "text/plain": [
       "HBox(children=(Image(value=b'\\x89PNG\\r\\n\\x1a\\n\\x00\\x00\\x00\\rIHDR\\x00\\x00\\x00Q\\x00\\x00\\x00;\\x08\\x03\\x00\\x00\\x00…"
      ]
     },
     "metadata": {},
     "output_type": "display_data"
    }
   ],
   "source": [
    "\n",
    "file = open(\"Figures/back.png\", \"rb\")\n",
    "image = file.read()\n",
    "\n",
    "image_headline = widgets.Image(\n",
    "                    value=image,\n",
    "                    format='png',layout=widgets.Layout(width='30px', height='24px')\n",
    "                )\n",
    "\n",
    "text_0=link = widgets.HTML(\n",
    "    value=\"<a href=http://localhost:8888/voila/render/Documents/GitHub/VerticaPy-Enablement-Template/Template/Course_Page_v1.ipynb target='_blank'><font size='2' color='blue'>Return to main page</font></a>\",\n",
    ")\n",
    "hbox_line2 = widgets.HBox([image_headline,text_0])\n",
    "display(hbox_line2)"
   ]
  },
  {
   "cell_type": "markdown",
   "id": "1eb61592",
   "metadata": {},
   "source": [
    "# Linear Regression\n",
    "## Exercise"
   ]
  },
  {
   "cell_type": "code",
   "execution_count": 7,
   "id": "e0deb276",
   "metadata": {},
   "outputs": [
    {
     "data": {
      "application/vnd.jupyter.widget-view+json": {
       "model_id": "93d54a9d77bb487a90f99fe6f812dd9f",
       "version_major": 2,
       "version_minor": 0
      },
      "text/plain": [
       "HBox(children=(Image(value=b'\\x89PNG\\r\\n\\x1a\\n\\x00\\x00\\x00\\rIHDR\\x00\\x00\\x00J\\x00\\x00\\x00`\\x08\\x03\\x00\\x00\\x00…"
      ]
     },
     "metadata": {},
     "output_type": "display_data"
    }
   ],
   "source": [
    "file = open(\"Figures/time.png\", \"rb\")\n",
    "image = file.read()\n",
    "\n",
    "image_headline = widgets.Image(\n",
    "                    value=image,\n",
    "                    format='png',layout=widgets.Layout(width='14px', height='19px')\n",
    "                )\n",
    "\n",
    "text_0 = widgets.HTML(value=\"<font size='2'>30 mins</font>\")\n",
    "hbox_line2 = widgets.HBox([image_headline,text_0])\n",
    "display(hbox_line2)"
   ]
  },
  {
   "cell_type": "markdown",
   "id": "7a49c17e",
   "metadata": {},
   "source": [
    "The following exercise uses linear regression with VerticaPy to solve data science problems."
   ]
  },
  {
   "cell_type": "markdown",
   "id": "e4eae0c4",
   "metadata": {},
   "source": [
    "***"
   ]
  },
  {
   "cell_type": "markdown",
   "id": "e91b7444",
   "metadata": {},
   "source": [
    "<a id='h1_cell'></a>\n",
    "### Visualizing Data\n",
    "\n",
    "Download the [Auto dataset](#https://r-data.pmagunia.com/system/files/datasets/dataset-38913.csv) with the following:\n",
    "\n",
    "```Python\n",
    "import requests\n",
    "URL =\"https://r-data.pmagunia.com/system/files/datasets/dataset-38913.csv\"\n",
    "response = requests.get(URL)\n",
    "open(\"data.csv\", \"wb\").write(response.content)\n",
    "```"
   ]
  },
  {
   "cell_type": "code",
   "execution_count": 8,
   "id": "4e6614e6",
   "metadata": {
    "scrolled": true
   },
   "outputs": [
    {
     "data": {
      "application/vnd.jupyter.widget-view+json": {
       "model_id": "f2dd9b6ef5844f6097cba6d676c96115",
       "version_major": 2,
       "version_minor": 0
      },
      "text/plain": [
       "VBox(children=(HTML(value=\"<font size='3'><b> Question 1: </b> Looking at the scatter matrix, which combinatio…"
      ]
     },
     "metadata": {},
     "output_type": "display_data"
    }
   ],
   "source": [
    "text_1 = widgets.HTML(value=\"<font size='3'><b> Question 1: </b> Looking at the scatter matrix, which combination of features look linearly correlated? (Hint Second)</font>\")\n",
    "Q1 = create_multipleChoice_widget(['Weight & Year','Horsepower & MPG','Weight & Displacement','Acceleration & MPG'],'Weight & Displacement')\n",
    "display(widgets.VBox([text_1,Q1]))"
   ]
  },
  {
   "cell_type": "code",
   "execution_count": 10,
   "id": "30817d65",
   "metadata": {
    "scrolled": true
   },
   "outputs": [
    {
     "data": {
      "application/vnd.jupyter.widget-view+json": {
       "model_id": "13782528869f446a82304c098560cbd1",
       "version_major": 2,
       "version_minor": 0
      },
      "text/plain": [
       "VBox(children=(HTML(value=\"<font size='3'><b> Question 1: </b> Based on our understanding of the assumptions o…"
      ]
     },
     "metadata": {},
     "output_type": "display_data"
    }
   ],
   "source": [
    "text_1 = widgets.HTML(value=\"<font size='3'><b> Question 2: </b> Based on our understanding of the assumptions of linear regression, can the above selected pair be used as features together in a linear regression model?\")\n",
    "Q1 = create_multipleChoice_widget(['Yes','No'],'No')\n",
    "display(widgets.VBox([text_1,Q1]))"
   ]
  },
  {
   "cell_type": "code",
   "execution_count": 76,
   "id": "733023c3",
   "metadata": {
    "scrolled": false
   },
   "outputs": [
    {
     "data": {
      "application/vnd.jupyter.widget-view+json": {
       "model_id": "c1baa124a27f45c591caff7ec63b570a",
       "version_major": 2,
       "version_minor": 0
      },
      "text/plain": [
       "VBox(children=(HTML(value=\"<font size='3'><b> Question 2: </b> What was the numeric Answer? (Hint 100)</font>\"…"
      ]
     },
     "metadata": {},
     "output_type": "display_data"
    }
   ],
   "source": [
    "text_2 = widgets.HTML(value=\"<font size='3'><b> Question 3: </b> How many total datapoints do we have in the dataset?</font>\")\n",
    "Q2 = create_numeric_widget(392)\n",
    "display(widgets.VBox([text_2,Q2]))"
   ]
  },
  {
   "cell_type": "code",
   "execution_count": 18,
   "id": "0d276534",
   "metadata": {
    "scrolled": true
   },
   "outputs": [
    {
     "data": {
      "application/vnd.jupyter.widget-view+json": {
       "model_id": "5f27220c9af9447b82c9df020bf85816",
       "version_major": 2,
       "version_minor": 0
      },
      "text/plain": [
       "VBox(children=(HTML(value=\"<font size='3'><b> Question 2: </b> What is the spearman correlation value between …"
      ]
     },
     "metadata": {},
     "output_type": "display_data"
    }
   ],
   "source": [
    "text_2 = widgets.HTML(value=\"<font size='3'><b> Question 4: </b> What is Spearman's rank correlation coefficient between Origin & Year (to three significant figures)?</font>\")\n",
    "Q2 = create_numeric_widget(0.158)\n",
    "display(widgets.VBox([text_2,Q2]))"
   ]
  },
  {
   "cell_type": "code",
   "execution_count": null,
   "id": "7f963edd",
   "metadata": {},
   "outputs": [],
   "source": [
    "text_1 = widgets.HTML(value=\"<font size='3'><b> Question 5: </b> Based on our understanding of the assumptions of linear regresion, can the above selected pair be used as features together in a linear regression model?\")\n",
    "Q1 = create_multipleChoice_widget(['Yes','No'],'Yes')\n",
    "display(widgets.VBox([text_1,Q1]))"
   ]
  },
  {
   "cell_type": "markdown",
   "id": "3b946cb8",
   "metadata": {},
   "source": [
    "***"
   ]
  },
  {
   "cell_type": "markdown",
   "id": "3fd84ef3",
   "metadata": {},
   "source": [
    "<a id='h2_cell'></a>\n",
    "### Model Building\n",
    "\n"
   ]
  },
  {
   "cell_type": "code",
   "execution_count": 19,
   "id": "589218ac",
   "metadata": {
    "scrolled": false
   },
   "outputs": [
    {
     "data": {
      "application/vnd.jupyter.widget-view+json": {
       "model_id": "15a0d95eef2f4b408f6ea94432093cb9",
       "version_major": 2,
       "version_minor": 0
      },
      "text/plain": [
       "VBox(children=(HTML(value=\"<font size='3'><b> Question 1: </b> With acceleration, year, and cylinders as input…"
      ]
     },
     "metadata": {},
     "output_type": "display_data"
    }
   ],
   "source": [
    "text_1 = widgets.HTML(value=\"<font size='3'><b> Question 1: </b> With Acceleration, Year, and Cylinders as inputs and MPG as output, which feature has the highest p-values in a linear regression model?</font>\")\n",
    "Q1 = create_multipleChoice_widget(['Cylinders','Acceleration','MPG'],'Acceleration')\n",
    "display(widgets.VBox([text_1,Q1]))"
   ]
  },
  {
   "cell_type": "code",
   "execution_count": 20,
   "id": "b7a3a8ef",
   "metadata": {
    "scrolled": true
   },
   "outputs": [
    {
     "data": {
      "application/vnd.jupyter.widget-view+json": {
       "model_id": "9d9f61362183454696a89a7b9de254e4",
       "version_major": 2,
       "version_minor": 0
      },
      "text/plain": [
       "VBox(children=(HTML(value=\"<font size='3'><b> Question 2: </b> What is the p-value for Cylinders? (Hint 100)</…"
      ]
     },
     "metadata": {},
     "output_type": "display_data"
    },
    {
     "ename": "ValueError",
     "evalue": "could not convert string to float: ''",
     "output_type": "error",
     "traceback": [
      "\u001b[1;31m---------------------------------------------------------------------------\u001b[0m",
      "\u001b[1;31mValueError\u001b[0m                                Traceback (most recent call last)",
      "Input \u001b[1;32mIn [17]\u001b[0m, in \u001b[0;36mcreate_numeric_widget.<locals>.check_selection\u001b[1;34m(b)\u001b[0m\n\u001b[0;32m     19\u001b[0m \u001b[38;5;28;01mtry\u001b[39;00m:\n\u001b[1;32m---> 20\u001b[0m     a \u001b[38;5;241m=\u001b[39m \u001b[38;5;28;43mint\u001b[39;49m\u001b[43m(\u001b[49m\u001b[43malternativ\u001b[49m\u001b[38;5;241;43m.\u001b[39;49m\u001b[43mvalue\u001b[49m\u001b[43m)\u001b[49m\n\u001b[0;32m     21\u001b[0m \u001b[38;5;28;01mexcept\u001b[39;00m \u001b[38;5;167;01mValueError\u001b[39;00m:\n",
      "\u001b[1;31mValueError\u001b[0m: invalid literal for int() with base 10: ''",
      "\nDuring handling of the above exception, another exception occurred:\n",
      "\u001b[1;31mValueError\u001b[0m                                Traceback (most recent call last)",
      "Input \u001b[1;32mIn [17]\u001b[0m, in \u001b[0;36mcreate_numeric_widget.<locals>.check_selection\u001b[1;34m(b)\u001b[0m\n\u001b[0;32m     20\u001b[0m     a \u001b[38;5;241m=\u001b[39m \u001b[38;5;28mint\u001b[39m(alternativ\u001b[38;5;241m.\u001b[39mvalue)\n\u001b[0;32m     21\u001b[0m \u001b[38;5;28;01mexcept\u001b[39;00m \u001b[38;5;167;01mValueError\u001b[39;00m:\n\u001b[1;32m---> 22\u001b[0m     a \u001b[38;5;241m=\u001b[39m \u001b[38;5;28;43mfloat\u001b[39;49m\u001b[43m(\u001b[49m\u001b[43malternativ\u001b[49m\u001b[38;5;241;43m.\u001b[39;49m\u001b[43mvalue\u001b[49m\u001b[43m)\u001b[49m\n\u001b[0;32m     23\u001b[0m \u001b[38;5;28;01mif\u001b[39;00m a\u001b[38;5;241m==\u001b[39mcorrect_answer:\n\u001b[0;32m     24\u001b[0m     s \u001b[38;5;241m=\u001b[39m \u001b[38;5;124m'\u001b[39m\u001b[38;5;130;01m\\x1b\u001b[39;00m\u001b[38;5;124m[6;30;42m\u001b[39m\u001b[38;5;124m'\u001b[39m \u001b[38;5;241m+\u001b[39m \u001b[38;5;124m\"\u001b[39m\u001b[38;5;124mCorrect!\u001b[39m\u001b[38;5;124m\"\u001b[39m \u001b[38;5;241m+\u001b[39m \u001b[38;5;124m'\u001b[39m\u001b[38;5;130;01m\\x1b\u001b[39;00m\u001b[38;5;124m[0m\u001b[39m\u001b[38;5;124m'\u001b[39m \u001b[38;5;241m+\u001b[39m\u001b[38;5;124m\"\u001b[39m\u001b[38;5;130;01m\\n\u001b[39;00m\u001b[38;5;124m\"\u001b[39m \u001b[38;5;66;03m#green color\u001b[39;00m\n",
      "\u001b[1;31mValueError\u001b[0m: could not convert string to float: ''"
     ]
    }
   ],
   "source": [
    "text_2 = widgets.HTML(value=\"<font size='3'><b> Question 2: </b> What is the p-value for cylinders? </font>\")\n",
    "Q2 = create_numeric_widget(0)\n",
    "display(widgets.VBox([text_2,Q2]))"
   ]
  },
  {
   "cell_type": "code",
   "execution_count": null,
   "id": "80007971",
   "metadata": {},
   "outputs": [],
   "source": [
    "text_2 = widgets.HTML(value=\"<font size='3'><b> Question 3: </b> What is the R-squared value of the model above (up to three significant figures)? </font>\")\n",
    "Q2 = create_numeric_widget(0.715)\n",
    "display(widgets.VBox([text_2,Q2]))"
   ]
  },
  {
   "cell_type": "code",
   "execution_count": null,
   "id": "351950cb",
   "metadata": {},
   "outputs": [],
   "source": [
    "text_2 = widgets.HTML(value=\"<font size='3'><b> Question 4: </b> What is the new R-squared value if Acceleration is removed from the input (upto three significant figures)? </font>\")\n",
    "Q2 = create_numeric_widget(0.715)\n",
    "display(widgets.VBox([text_2,Q2]))"
   ]
  },
  {
   "cell_type": "code",
   "execution_count": null,
   "id": "4501fb90",
   "metadata": {},
   "outputs": [],
   "source": [
    "text_1 = widgets.HTML(value=\"<font size='3'><b> Question 5: </b> Based on the two answers above, should you include Acceleration?\")\n",
    "Q1 = create_multipleChoice_widget(['Yes','No'],'No')\n",
    "display(widgets.VBox([text_1,Q1]))"
   ]
  },
  {
   "cell_type": "markdown",
   "id": "c02f25ee",
   "metadata": {},
   "source": [
    "***"
   ]
  },
  {
   "cell_type": "markdown",
   "id": "ca2aa185",
   "metadata": {},
   "source": [
    "<font style=\"font-family:Calibri\"> Author Name: Calibri Font Default Size\n",
    "<br>\n",
    "Author Contact: abs@verticapy.com</font>"
   ]
  },
  {
   "cell_type": "markdown",
   "id": "185edfa5",
   "metadata": {},
   "source": [
    "### Resources\n",
    "\n",
    "- [<font size='2'>Citation 1</font>](https://www.vertica.com/python/)\n",
    "\n",
    "- [<font size='2'>Citation 2</font>](https://www.vertica.com/python/)\n",
    "\n",
    "- [<font size='2'>Cittaion 3</font>](https://www.vertica.com/python/)"
   ]
  }
 ],
 "metadata": {
  "kernelspec": {
   "display_name": "Python 3 (ipykernel)",
   "language": "python",
   "name": "python3"
  },
  "language_info": {
   "codemirror_mode": {
    "name": "ipython",
    "version": 3
   },
   "file_extension": ".py",
   "mimetype": "text/x-python",
   "name": "python",
   "nbconvert_exporter": "python",
   "pygments_lexer": "ipython3",
   "version": "3.9.12"
  }
 },
 "nbformat": 4,
 "nbformat_minor": 5
}
