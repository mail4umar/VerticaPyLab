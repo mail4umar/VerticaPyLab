{
 "cells": [
  {
   "cell_type": "code",
   "execution_count": null,
   "id": "d8813b06",
   "metadata": {},
   "outputs": [],
   "source": [
    "import ipywidgets as widgets\n",
    "from IPython.display import display, clear_output\n",
    "from ipywidgets import Layout"
   ]
  },
  {
   "cell_type": "code",
   "execution_count": null,
   "id": "73c74fd4",
   "metadata": {},
   "outputs": [],
   "source": [
    "%%html\n",
    "<!--The top Logo and the menu bar-->\n",
    "\n",
    "<head>\n",
    "<meta name=\"viewport\" content=\"width=device-width, initial-scale=1\">\n",
    "<style>\n",
    "body {\n",
    "  font-family: Arial, Helvetica, sans-serif;\n",
    "  margin: 0 0 0 0px;\n",
    "}\n",
    ".back{\n",
    "    height: 130px;\n",
    "    width: 100%;\n",
    "    background-color:#263133;\n",
    "    display: flex;\n",
    "    align-items: center;\n",
    "}\n",
    ".navbar_0 {\n",
    "  overflow: hidden;\n",
    "  background-color: #263133; \n",
    "  display: block;\n",
    "}\n",
    ".navbar_0 a {\n",
    "  float: left;\n",
    "  font-size: 16px;\n",
    "  color: white;\n",
    "  text-align: center;\n",
    "  padding: 14px 16px;\n",
    "  text-decoration: none;\n",
    "  overflow: visible;\n",
    "  display: inline-block;\n",
    "}\n",
    ".subnav {\n",
    "  float: left;\n",
    "  overflow: hidden;\n",
    "}\n",
    ".subnav .subnavbtn {\n",
    "  font-size: 16px;\n",
    "  border: none;\n",
    "  outline: none;\n",
    "  color: white;\n",
    "  padding: 14px 16px;\n",
    "  background-color: inherit;\n",
    "  font-family: inherit;\n",
    "  margin: 0;\n",
    "  position: relative;\n",
    "}\n",
    ".navbar_0 a:hover, .subnav:hover .subnavbtn {\n",
    "  position:relative;\n",
    "  display:inlije-block;\n",
    "  overflow:visible;\n",
    "  background-color: #F48B34;\n",
    "}\n",
    ".subnav-content {\n",
    "  display: none;\n",
    "  position: absolute;\n",
    "  left: 0;\n",
    "  background-color: #263133;\n",
    "  width: 100%;\n",
    "  z-index: 1;\n",
    "    border-style: solid;\n",
    "  border-color: white;\n",
    "    border-width:1px;\n",
    "}\n",
    ".subnav-content a {\n",
    "  float: left;\n",
    "  overflow:visible;\n",
    "  color: white;\n",
    "  text-decoration: none;\n",
    "}\n",
    ".subnav-content a:hover {\n",
    "  background-color: #F48B34;\n",
    "  color: black;\n",
    "}\n",
    ".subnav:hover .subnav-content {\n",
    "  display: block;\n",
    "}\n",
    "</style>\n",
    "</head>\n",
    "\n",
    "\n",
    "\n",
    "\n",
    "\n",
    "<style>\n",
    ".content_0 {\n",
    "  display: flex;\n",
    "  text-align: center;\n",
    "  vertical-align: middle;\n",
    "}\n",
    "\n",
    "\n",
    ".icon-container {\n",
    "  margin-top: 0px;\n",
    "  width: 100%;\n",
    "  height: 70px;\n",
    "}\n",
    "\n",
    ".icon {\n",
    "  cursor: pointer;\n",
    "  position: relative;\n",
    "  display: inline-block;\n",
    "  width: 45px;\n",
    "  height: 45px;\n",
    "  margin-left: 12px;\n",
    "  margin-right: 12px;\n",
    "  border-radius: 30px;\n",
    "  overflow: hidden;\n",
    "  background-color:white;\n",
    "}\n",
    ".icon::before, .icon::after {\n",
    "  content: \"\";\n",
    "  position: absolute;\n",
    "  top: 0;\n",
    "  left: 0;\n",
    "  height: 100%;\n",
    "  width: 100%;\n",
    "  transition: all 0.25s ease;\n",
    "  border-radius: 30px;\n",
    "}\n",
    ".icon i {\n",
    "  position: relative;\n",
    "  color: #263133;\n",
    "  font-size: 24px;\n",
    "  margin-top: 10px;\n",
    "  transition: all 0.25s ease;\n",
    "}\n",
    "\n",
    ".icon-fill::before {\n",
    "  transition-duration: 0.7s;\n",
    "}\n",
    ".icon-fill:hover::before {\n",
    "  box-shadow: inset 0 0 0 60px #F48B34;\n",
    "    \n",
    "}\n",
    "</style>\n",
    "\n",
    "\n",
    "\n",
    "\n",
    "\n",
    "<body>\n",
    "<div class=back>\n",
    "<img src=\"Figures/v2.svg.png\" alt=\"Vertica logo\" width=\"300\">\n",
    "</div>\n",
    "<div class=\"navbar_0\">\n",
    "\n",
    "  <div class=\"subnav\">\n",
    "    <div class=\"content_0\">\n",
    "      <div class=\"icon-container\">\n",
    "        <div class=\"icon icon-fill\" onclick=\"window.location.href = 'http://localhost:8888/voila/render/Documents/GitHub/vertica-demo/docker-verticapy/enablement/Template/Course_Page_v1.ipynb';\"><i class=\"fa fa-home\"></i></div>\n",
    "      </div>\n",
    "    </div>\n",
    "  </div>\n",
    "\n",
    "  <div class=\"subnav\">\n",
    "    <button class=\"subnavbtn\">Courses <i class=\"fa fa-caret-down\"></i></button>\n",
    "    <div class=\"subnav-content\">\n",
    "      <a href=\"#\">Course 1</a>\n",
    "      <a href=\"#\">Course 2</a>\n",
    "      <a href=\"#\">Course 3</a>\n",
    "    </div>\n",
    "  </div> \n",
    "  <div class=\"subnav\">\n",
    "    <button class=\"subnavbtn\">Documentation <i class=\"fa fa-caret-down\"></i></button>\n",
    "    <div class=\"subnav-content\">\n",
    "      <a href=\"#\">Topic 1</a>\n",
    "      <a href=\"#\">Topic 2</a>\n",
    "      <a href=\"#\">Topic 3</a>\n",
    "    </div>\n",
    "  </div> \n",
    "    <div class=\"subnav\">\n",
    "    <button class=\"subnavbtn\">Quick Examples <i class=\"fa fa-caret-down\"></i></button>\n",
    "    <div class=\"subnav-content\">\n",
    "      <a href=\"#\">Example 1</a>\n",
    "      <a href=\"#\">Example 2</a>\n",
    "      <a href=\"#\">Example 3 3</a>\n",
    "    </div>\n",
    "  </div> \n",
    "  <a href=\"#contact\">Contact</a>\n",
    "</div>\n",
    "</body>"
   ]
  },
  {
   "cell_type": "code",
   "execution_count": null,
   "id": "b1fec60f",
   "metadata": {},
   "outputs": [],
   "source": [
    "%%html\n",
    "<!--Style for correct and incorrect prompts-->\n",
    "<style>\n",
    "\n",
    ".correct-prompt {\n",
    "  font-family: \"Helvetica\", \"Arial\", sans-serif;\n",
    "  display: inline-block;\n",
    "  font-size: 17px;\n",
    "  background-color: green;\n",
    "  color: #fff;\n",
    "  border-radius: 4px;\n",
    "  position: relative;\n",
    "  box-shadow: 0 2px 25px rgba(25,163,97,0.75);\n",
    "  padding:5px;\n",
    "}\n",
    ".incorrect-prompt {\n",
    "  font-family: \"Helvetica\", \"Arial\", sans-serif;\n",
    "  display: inline-block;\n",
    "  font-size: 17px;\n",
    "  background-color: red;\n",
    "  color: #fff;\n",
    "  border-radius: 4px;\n",
    "  position: relative;\n",
    "  box-shadow: 0 2px 25px rgba(255, 0, 130, 0.5);\n",
    "  padding:5px;\n",
    "}  \n",
    "</style>"
   ]
  },
  {
   "cell_type": "code",
   "execution_count": null,
   "id": "8b0862f1",
   "metadata": {},
   "outputs": [],
   "source": [
    "# Defining a function for multiple choice widgets\n",
    "\n",
    "def create_multipleChoice_widget(options, correct_answer):\n",
    "    if correct_answer not in options:\n",
    "        options.append(correct_answer)\n",
    "    \n",
    "    correct_answer_index = options.index(correct_answer)\n",
    "    \n",
    "    radio_options = [(words, i) for i, words in enumerate(options)]\n",
    "    alternativ = widgets.RadioButtons(\n",
    "        options = radio_options,\n",
    "        description = '',\n",
    "        disabled = False\n",
    "    )\n",
    "    \n",
    "    description_out = widgets.Output()\n",
    "#    with description_out:\n",
    "#        print(description)\n",
    "        \n",
    "    feedback_out = widgets.Output()\n",
    "\n",
    "    def check_selection(b):\n",
    "        a = int(alternativ.value)\n",
    "        if a==correct_answer_index:\n",
    "            s = widgets.HTML('<div class=\"correct-prompt\">Correct!</div>')\n",
    "        else:\n",
    "            s = widgets.HTML('<div class=\"incorrect-prompt\">Try Again!</div>')\n",
    "        with feedback_out:\n",
    "            clear_output()\n",
    "            display(s)\n",
    "        return\n",
    "    \n",
    "    check = widgets.Button(description=\"submit\")\n",
    "    check.on_click(check_selection)\n",
    "    \n",
    "    \n",
    "    return widgets.VBox([description_out, alternativ, check, feedback_out])\n",
    "\n",
    "def create_numeric_widget(correct_answer):\n",
    "    \n",
    "    #correct_answer_index = options.index(correct_answer)\n",
    "    \n",
    "    #radio_options = [(words, i) for i, words in enumerate(options)]\n",
    "    alternativ = widgets.Text(\n",
    "        #options = radio_options,\n",
    "        #description = '',\n",
    "        disabled = False\n",
    "    )\n",
    "    \n",
    "    description_out = widgets.Output()\n",
    "#    with description_out:\n",
    "#        print(description)\n",
    "        \n",
    "    feedback_out = widgets.Output()\n",
    "\n",
    "    def check_selection(b):\n",
    "        try:\n",
    "            a = int(alternativ.value)\n",
    "        except ValueError:\n",
    "            a = float(alternativ.value)\n",
    "        if a==correct_answer:\n",
    "            s = widgets.HTML('<div class=\"correct-prompt\">Correct!</div>')\n",
    "        else:\n",
    "            s = widgets.HTML('<div class=\"incorrect-prompt\">Try Again!</div>')\n",
    "        with feedback_out:\n",
    "            clear_output()\n",
    "            display(s)\n",
    "        return\n",
    "    \n",
    "    check = widgets.Button(description=\"submit\")\n",
    "    check.on_click(check_selection)\n",
    "    \n",
    "    \n",
    "    return widgets.VBox([description_out, alternativ, check, feedback_out])"
   ]
  },
  {
   "cell_type": "code",
   "execution_count": null,
   "id": "dab1e034",
   "metadata": {},
   "outputs": [
    {
     "ename": "SyntaxError",
     "evalue": "invalid syntax (2195513585.py, line 1)",
     "output_type": "error",
     "traceback": [
      "\u001b[0;36m  Cell \u001b[0;32mIn [2], line 1\u001b[0;36m\u001b[0m\n\u001b[0;31m    <!--Module Button-->\u001b[0m\n\u001b[0m    ^\u001b[0m\n\u001b[0;31mSyntaxError\u001b[0m\u001b[0;31m:\u001b[0m invalid syntax\n"
     ]
    }
   ],
   "source": [
    "%%html\n",
    "<!--Module Button-->\n",
    "\n",
    "<style>\n",
    ".moduler{\n",
    "    box-shadow: 0px 15px 10px -15px #F48B34;  \n",
    "    font-size:30px;\n",
    "    color: blue;\n",
    "}\n",
    "    </style>\n",
    "    \n",
    "<div class=\"moduler\">\n",
    "  <a href=\"http://localhost:8888/voila/render/Documents/GitHub/vertica-demo/docker-verticapy/enablement/Template/Module_Page_v1.ipynb\">\n",
    "    Data Preparation</a>\n",
    "</div>\n"
   ]
  },
  {
   "cell_type": "markdown",
   "id": "1eb61592",
   "metadata": {},
   "source": [
    "## Data Loading"
   ]
  },
  {
   "cell_type": "code",
   "execution_count": 3,
   "id": "6f6880a3-2471-4995-a556-034c41d71af5",
   "metadata": {
    "tags": []
   },
   "outputs": [
    {
     "data": {
      "text/html": [
       "<!--Time required-->\n",
       "<i class=\"fas fa-clock\" style='color:#F48B34;font-size:18px;'></i> 15 mins\n"
      ],
      "text/plain": [
       "<IPython.core.display.HTML object>"
      ]
     },
     "metadata": {},
     "output_type": "display_data"
    }
   ],
   "source": [
    "%%html\n",
    "<!--Time required-->\n",
    "<i class=\"fas fa-clock\" style='color:#F48B34;font-size:18px;'></i> 15 mins"
   ]
  },
  {
   "cell_type": "markdown",
   "id": "989fd8da",
   "metadata": {
    "tags": []
   },
   "source": [
    "<a id='toc_cell'></a>\n",
    "### Table of Contents\n",
    "\n",
    "- [Downloading Dataset](#h1_cell)\n",
    "- [Loading Data](#h2_cell)\n",
    "   - [VerticaPy vDataframe Creation](#h4_cell)\n",
    "   \n"
   ]
  },
  {
   "cell_type": "markdown",
   "id": "7a49c17e",
   "metadata": {},
   "source": [
    "Data loading and preperation is the first step in an Operational ML Pipeline. \n",
    "\n",
    "This multi-stage process <b> Extracts (E) </b>the data from one or more data sources, <b>Loads (L) </b>the data into Python and/or VerticaPy dataframes, and then <b>Transforms (T) </b>the data through cleansing and aggregation steps. \n",
    "\n",
    "This<b> ELT </b>process standardizes and integrates diverse data affording data exploration, modeling, and visualization."
   ]
  },
  {
   "cell_type": "markdown",
   "id": "e359fcc6",
   "metadata": {},
   "source": [
    "### What you will learn in this module?\n",
    "\n",
    "- How to <b>Extract</b> an open-source Kaggle dataset and <b>Load</b> the data into Python using an API.\n",
    "- How to create a vDataFrame by ingesting a CSV file.\n",
    "- How to <b>Transform</b> the Pandas dataframe into a VerticaPy dataframe in preparation for data exploration using VerticaPy."
   ]
  },
  {
   "cell_type": "markdown",
   "id": "e4eae0c4",
   "metadata": {},
   "source": [
    "***"
   ]
  },
  {
   "cell_type": "markdown",
   "id": "e91b7444",
   "metadata": {},
   "source": [
    "<a id='h1_cell'></a>\n",
    "### Load Dataset"
   ]
  },
  {
   "cell_type": "markdown",
   "id": "7050ec65",
   "metadata": {},
   "source": [
    "In this section an open-source dataset is imported from Kaggle"
   ]
  },
  {
   "cell_type": "markdown",
   "id": "3b2dd636",
   "metadata": {},
   "source": [
    "- An open-source Kaggle dataset along with the Kaggle API are used for this demo.\n",
    "\n",
    "- The Python <a href=\"https://pypi.org/project/opendatasets/\" target=\"_blank\">opendatasets</a> package is used to ingest this Kaggle dataset URL into the jupyter notebook.\n",
    "\n"
   ]
  },
  {
   "cell_type": "markdown",
   "id": "058b3d8c-b0ed-4cc4-aaee-15dcc6830fad",
   "metadata": {},
   "source": [
    "\n",
    "<h2 style=\"font-size:16px;\">Retrieve Login Credentials</h2>\n",
    "\n",
    "Perform the Following Steps to Retrieve Your Kaggle Login Credentials for API Access:\n",
    "\n",
    "1. Open a web browser\n",
    "2. Navigate to <a href=\"https://www.kaggle.com/\" target=\"_blank\">Kaggle</a> \n",
    "3. Use your Kaggle credentials to sign in <br>(if you do not have a Kaggle account, create one, it's free)</br>\n",
    "4. Navigate to Account \n",
    "5. Click on Create New API Token\n",
    "6. Using a text editor, open the downloaded <i>kaggle.json</i> file\n",
    "7. Verify this file contains your Kaggle ID and API token"
   ]
  },
  {
   "cell_type": "markdown",
   "id": "8383b3d0-c14e-4bea-87e5-1503018314a6",
   "metadata": {},
   "source": [
    "<u>Instructional Video:</u>\n",
    "\n",
    "<i>The following 40 second instructional video will guide you through this process, if needed</i>"
   ]
  },
  {
   "cell_type": "code",
   "execution_count": null,
   "id": "3642456b-c2da-4e5b-b1cc-7729979e73a8",
   "metadata": {},
   "outputs": [],
   "source": [
    "\"\"\"\n",
    "    Helper video showing how to create a Kaggle API key for Jupyter Notebook access\n",
    "    Video Title/URL: kaggle_login_api_key --- https://youtu.be/XOv-F8hByB4\n",
    "    Ensure that your YouTube video resolution is set to 1080p\n",
    "\"\"\"\n",
    "\n",
    "from IPython.display import YouTubeVideo\n",
    "YouTubeVideo('XOv-F8hByB4')"
   ]
  },
  {
   "cell_type": "markdown",
   "id": "35dde652-7dc7-48d6-9f88-359ff04414ef",
   "metadata": {},
   "source": [
    "<h2 style=\"font-size:16px;\">Import Dataset</h2>\n",
    "\n",
    "Perform the Following Steps to Import the Kaggle Dataset into a Python 3 Jupyter Notebook:\n",
    "\n",
    "<b>From Kaggle, navigate to the Search bar: </b>\n",
    "- Type in \"Prudential\"\n",
    "- <i>Select</i> Prudential Life Insurance Assessment\n",
    "- <i>Copy</i> the dataset URL: <br>https://www.kaggle.com/competitions/prudential-life-insurance-assessment/rules</br>\n",
    "- <i>Accept</i> the rules for the competition\n",
    "\n",
    "<b>From a text editor: </b>\n",
    "- <i>Open</i> the downloaded kaggle.json file\n",
    "- <i>Copy </i> your API token\n",
    "\n",
    "<b>From Jupyter: </b>\n",
    "<br>(python code-snippet included below) </br>\n",
    "\n",
    "- <i>Paste </i>the URL into the <b>od.download</b> dataset_url field, then execute the cell\n",
    "- <i>Enter </i>your kaggle ID when prompted, press enter/return\n",
    "- <i>Paste</i> your Kaggle API token, press enter/return the dataset download from Kaggle should commence\n",
    "\n",
    "<br>\n",
    "<p style=\"color:dimgrey;\"><br><b><u> NOTE:</u></b><i> The kaggle.json file can also be placed the same directory as the Jupyter notebook, and the credentials will then be read automatically. </i></p>\n",
    "<br>"
   ]
  },
  {
   "cell_type": "markdown",
   "id": "36310325-f6c3-453c-acb2-a4ab79b4c65a",
   "metadata": {},
   "source": [
    "<div class=\"alert alert-block alert-info\">\n",
    "<i> <p style=\"color:black;\">The following code snippet can be copied/pasted into your Python 3 Jupyter Notebook and altered as needed for your environment:</i>\n",
    "\n",
    "```python\n",
    "!pip install opendatasets\n",
    "import opendatasets as od\n",
    "od.download(\"https://www.kaggle.com/competitions/prudential-life-insurance-assessment/rules\")\n",
    "```"
   ]
  },
  {
   "cell_type": "markdown",
   "id": "5de6ac86-d66c-411b-95be-a1eb18cb57c7",
   "metadata": {
    "jupyter": {
     "source_hidden": true
    },
    "tags": []
   },
   "source": [
    "<u>Instructional Video:</u>\n",
    "\n",
    "<i>The following 75 second instructional video will guide you through the Data Import process, if needed</i>"
   ]
  },
  {
   "cell_type": "code",
   "execution_count": null,
   "id": "541f4ebe-ae31-44eb-8214-fdcf0afeee4f",
   "metadata": {},
   "outputs": [],
   "source": [
    "\"\"\"\n",
    "    Helper video showing how to copy the Kaggle Dataset URL, paste it into the opendatasets URL\n",
    "    in the Jupyter Notebook and enter the Kaggle API key login information\n",
    "    Video Title/URL: kaggle_prudential_copy_import --- https://youtu.be/Mo2DFXZTCyY\n",
    "    Ensure that your YouTube video resolution is set to 1080p\n",
    "\"\"\"\n",
    "\n",
    "YouTubeVideo('Mo2DFXZTCyY')"
   ]
  },
  {
   "cell_type": "markdown",
   "id": "371c82e3-89a3-4ef3-96fd-bca2ae781269",
   "metadata": {},
   "source": [
    "#### [Return to the Table of Contents](#toc_cell)"
   ]
  },
  {
   "cell_type": "markdown",
   "id": "3b946cb8",
   "metadata": {},
   "source": [
    "***"
   ]
  },
  {
   "cell_type": "markdown",
   "id": "3fd84ef3",
   "metadata": {},
   "source": [
    "### Data Preperation\n",
    "\n",
    "<a id='h2_cell'></a>"
   ]
  },
  {
   "cell_type": "markdown",
   "id": "34cdae0d",
   "metadata": {},
   "source": [
    "In this section we will load the downloaded data into a vDataFrame. We can start by unzipping the downloaded files:"
   ]
  },
  {
   "cell_type": "markdown",
   "id": "6f4de49b",
   "metadata": {},
   "source": [
    "<div class=\"alert alert-block alert-info\">\n",
    "<i> <p style=\"color:black;\">The following code snippet can be copied/pasted into your Python 3 Jupyter Notebook and altered as needed for your environment:</p></i>\n",
    "\n",
    "```python\n",
    "import shutil\n",
    "shutil.unpack_archive(\"prudential-life-insurance-assessment/train.csv.zip\")\n",
    "shutil.unpack_archive(\"prudential-life-insurance-assessment/test.csv.zip\")\n",
    "```"
   ]
  },
  {
   "cell_type": "markdown",
   "id": "3b60f2da-e388-48de-a503-c9f950bf4d30",
   "metadata": {},
   "source": [
    "<a id='h4_cell'></a>\n",
    "#### VerticaPy vDataframe Creation"
   ]
  },
  {
   "cell_type": "markdown",
   "id": "74cae374",
   "metadata": {},
   "source": [
    "We can easily create the vDataFrame from the uncompressed files using the <a href=\"https://www.vertica.com/python/documentation_last/utilities/read_csv/\">read_csv</a> function of VerticaPy."
   ]
  },
  {
   "cell_type": "markdown",
   "id": "3a0b06ff",
   "metadata": {},
   "source": [
    "<div class=\"alert alert-block alert-info\">\n",
    "<i> <p style=\"color:black;\">The following code snippet can be copied/pasted into your Python 3 Jupyter Notebook and altered as needed for your environment:</p></i>\n",
    "\n",
    "```python\n",
    "import verticapy as vp\n",
    "train_df=vp.read_csv('train.csv')\n",
    "test_df=read_csv('test.csv')\n",
    "```"
   ]
  },
  {
   "cell_type": "markdown",
   "id": "e4dc28ae",
   "metadata": {},
   "source": [
    "<b>Note:</b> When we read a CSV file using the <a href=\"https://www.vertica.com/python/documentation_last/utilities/read_csv/\">read_csv</a>, it creates a temporary local table which is stored in memory. If we want to make a copy of the table inside Vertica, then we can provide the database references like schema and table name in the function parameters."
   ]
  },
  {
   "cell_type": "markdown",
   "id": "e70943ff",
   "metadata": {},
   "source": [
    "<h3 style=\"font-size:14px;\">Retrieve the Shape of the Dataframes</h3><br>\n",
    "The dataframe's shape tells you how many rows and columns it contains. For ML models, the test dataset is typically smaller than the training dataset.\n",
    "\n",
    "<b>From Jupyter: </b>\n",
    "- The train_df should have one more column than the test_df to account for the <b>Response</b> column \n",
    "- The test_df should be approximately 30% the size of the train_df<br>"
   ]
  },
  {
   "cell_type": "markdown",
   "id": "77513be3",
   "metadata": {},
   "source": [
    "<div class=\"alert alert-block alert-info\">\n",
    "<i> <p style=\"color:black;\">The following code snippet can be copied/pasted into your Python 3 Jupyter Notebook and altered as needed for your environment:</p></i>\n",
    "\n",
    "```python\n",
    "print(\"Shape of Train Dataset {}\".format(train_df.shape()))\n",
    "print(\"Shape of Test Dataset {}\".format(test_df.shape()))\n",
    "```"
   ]
  },
  {
   "cell_type": "markdown",
   "id": "1254a844-bb9a-4006-b7a7-d74a6d85fe52",
   "metadata": {},
   "source": [
    "<u>Instructional Video:</u>\n",
    "\n",
    "<i>The following 80 second instructional video will guide you through all Pandas dataframe to VerticaPy vDataframe conversion steps covered in this section</i>"
   ]
  },
  {
   "cell_type": "markdown",
   "id": "582af5ef",
   "metadata": {},
   "source": [
    "#### Pandas to VerticaPy conversion"
   ]
  },
  {
   "cell_type": "markdown",
   "id": "2ec2cd7c",
   "metadata": {},
   "source": [
    "If you are familiar with pandas dataframe and would like to load your data from it into VerticaPy then you can conveiently use the [pandas_to_vertica](#https://www.vertica.com/python/documentation_last/utilities/pandas_to_vertica/) function."
   ]
  },
  {
   "cell_type": "markdown",
   "id": "728a803f",
   "metadata": {},
   "source": [
    "<div class=\"alert alert-block alert-info\">\n",
    "<i> <p style=\"color:black;\">The following code snippet can be copied/pasted into your Python 3 Jupyter Notebook and altered as needed for your environment:</p></i>\n",
    "\n",
    "```python\n",
    "vDataFrame_data = pandas_to_vertica(pandas_DataFrame_data)\n",
    "```"
   ]
  },
  {
   "cell_type": "markdown",
   "id": "0866369a",
   "metadata": {},
   "source": [
    "For a video tutorial highlighting pandas to vDataFrame conversion, please see the video below:"
   ]
  },
  {
   "cell_type": "code",
   "execution_count": null,
   "id": "c1891e02-e58b-4fb6-a044-8ef8ff6cdd85",
   "metadata": {},
   "outputs": [],
   "source": [
    "\"\"\"\n",
    "    Helper video showing how to create a Pandas dataframes for the 3 zipped-csv Kaggle files\n",
    "    Video Title/URL: kaggle_prudential_copy_import --- https://youtu.be/zhY9OSEDpFs\n",
    "    Ensure that your YouTube video resolution is set to 1080p\n",
    "    \"\"\"\n",
    "\n",
    "YouTubeVideo('zhY9OSEDpFs')"
   ]
  },
  {
   "cell_type": "markdown",
   "id": "18dfb4f9-0165-4459-a891-17e83e66e58f",
   "metadata": {},
   "source": [
    "#### [Return to the Table of Contents](#toc_cell)"
   ]
  },
  {
   "cell_type": "markdown",
   "id": "c02f25ee",
   "metadata": {},
   "source": [
    "***"
   ]
  },
  {
   "cell_type": "markdown",
   "id": "ca2aa185",
   "metadata": {},
   "source": [
    "<font style=\"font-family:Calibri\"> Author Name: Theresa Melvin\n",
    "<br>\n",
    "Author Contact: theresa.melvin@verticapy.com</font>"
   ]
  }
 ],
 "metadata": {
  "kernelspec": {
   "display_name": "Python 3 (ipykernel)",
   "language": "python",
   "name": "python3"
  },
  "language_info": {
   "codemirror_mode": {
    "name": "ipython",
    "version": 3
   },
   "file_extension": ".py",
   "mimetype": "text/x-python",
   "name": "python",
   "nbconvert_exporter": "python",
   "pygments_lexer": "ipython3",
   "version": "3.9.12"
  }
 },
 "nbformat": 4,
 "nbformat_minor": 5
}
