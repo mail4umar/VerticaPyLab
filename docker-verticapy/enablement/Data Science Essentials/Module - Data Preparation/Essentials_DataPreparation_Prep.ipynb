{
 "cells": [
  {
   "cell_type": "code",
   "execution_count": 5,
   "id": "d8813b06",
   "metadata": {},
   "outputs": [],
   "source": [
    "import ipywidgets as widgets\n",
    "from IPython.display import display, clear_output\n",
    "from ipywidgets import Layout"
   ]
  },
  {
   "cell_type": "code",
   "execution_count": 6,
   "id": "73c74fd4",
   "metadata": {},
   "outputs": [
    {
     "data": {
      "text/html": [
       "<!--The top Logo and the menu bar-->\n",
       "\n",
       "<head>\n",
       "<meta name=\"viewport\" content=\"width=device-width, initial-scale=1\">\n",
       "<style>\n",
       "body {\n",
       "  font-family: Arial, Helvetica, sans-serif;\n",
       "  margin: 0 0 0 0px;\n",
       "}\n",
       ".back{\n",
       "    height: 130px;\n",
       "    width: 100%;\n",
       "    background-color:#263133;\n",
       "    display: flex;\n",
       "    align-items: center;\n",
       "}\n",
       ".navbar_0 {\n",
       "  overflow: hidden;\n",
       "  background-color: #263133; \n",
       "  display: block;\n",
       "}\n",
       ".navbar_0 a {\n",
       "  float: left;\n",
       "  font-size: 16px;\n",
       "  color: white;\n",
       "  text-align: center;\n",
       "  padding: 14px 16px;\n",
       "  text-decoration: none;\n",
       "  overflow: visible;\n",
       "  display: inline-block;\n",
       "}\n",
       ".subnav {\n",
       "  float: left;\n",
       "  overflow: hidden;\n",
       "}\n",
       ".subnav .subnavbtn {\n",
       "  font-size: 16px;\n",
       "  border: none;\n",
       "  outline: none;\n",
       "  color: white;\n",
       "  padding: 14px 16px;\n",
       "  background-color: inherit;\n",
       "  font-family: inherit;\n",
       "  margin: 0;\n",
       "  position: relative;\n",
       "}\n",
       ".navbar_0 a:hover, .subnav:hover .subnavbtn {\n",
       "  position:relative;\n",
       "  display:inlije-block;\n",
       "  overflow:visible;\n",
       "  background-color: #F48B34;\n",
       "}\n",
       ".subnav-content {\n",
       "  display: none;\n",
       "  position: absolute;\n",
       "  left: 0;\n",
       "  background-color: #263133;\n",
       "  width: 100%;\n",
       "  z-index: 1;\n",
       "    border-style: solid;\n",
       "  border-color: white;\n",
       "    border-width:1px;\n",
       "}\n",
       ".subnav-content a {\n",
       "  float: left;\n",
       "  overflow:visible;\n",
       "  color: white;\n",
       "  text-decoration: none;\n",
       "}\n",
       ".subnav-content a:hover {\n",
       "  background-color: #F48B34;\n",
       "  color: black;\n",
       "}\n",
       ".subnav:hover .subnav-content {\n",
       "  display: block;\n",
       "}\n",
       "</style>\n",
       "</head>\n",
       "\n",
       "\n",
       "\n",
       "\n",
       "\n",
       "<style>\n",
       ".content_0 {\n",
       "  display: flex;\n",
       "  text-align: center;\n",
       "  vertical-align: middle;\n",
       "}\n",
       "\n",
       "\n",
       ".icon-container {\n",
       "  margin-top: 0px;\n",
       "  width: 100%;\n",
       "  height: 70px;\n",
       "}\n",
       "\n",
       ".icon {\n",
       "  cursor: pointer;\n",
       "  position: relative;\n",
       "  display: inline-block;\n",
       "  width: 45px;\n",
       "  height: 45px;\n",
       "  margin-left: 12px;\n",
       "  margin-right: 12px;\n",
       "  border-radius: 30px;\n",
       "  overflow: hidden;\n",
       "  background-color:white;\n",
       "}\n",
       ".icon::before, .icon::after {\n",
       "  content: \"\";\n",
       "  position: absolute;\n",
       "  top: 0;\n",
       "  left: 0;\n",
       "  height: 100%;\n",
       "  width: 100%;\n",
       "  transition: all 0.25s ease;\n",
       "  border-radius: 30px;\n",
       "}\n",
       ".icon i {\n",
       "  position: relative;\n",
       "  color: #263133;\n",
       "  font-size: 24px;\n",
       "  margin-top: 10px;\n",
       "  transition: all 0.25s ease;\n",
       "}\n",
       "\n",
       ".icon-fill::before {\n",
       "  transition-duration: 0.7s;\n",
       "}\n",
       ".icon-fill:hover::before {\n",
       "  box-shadow: inset 0 0 0 60px #F48B34;\n",
       "    \n",
       "}\n",
       "</style>\n",
       "\n",
       "\n",
       "\n",
       "\n",
       "\n",
       "<body>\n",
       "<div class=back>\n",
       "<img src=\"Figures/v2.svg.png\" alt=\"Vertica logo\" width=\"300\">\n",
       "</div>\n",
       "<div class=\"navbar_0\">\n",
       "\n",
       "  <div class=\"subnav\">\n",
       "    <div class=\"content_0\">\n",
       "      <div class=\"icon-container\">\n",
       "        <div class=\"icon icon-fill\" onclick=\"window.location.href = 'http://localhost:8888/voila/render/Documents/GitHub/vertica-demo/docker-verticapy/enablement/Template/Course_Page_v1.ipynb';\"><i class=\"fa fa-home\"></i></div>\n",
       "      </div>\n",
       "    </div>\n",
       "  </div>\n",
       "\n",
       "  <div class=\"subnav\">\n",
       "    <button class=\"subnavbtn\">Courses <i class=\"fa fa-caret-down\"></i></button>\n",
       "    <div class=\"subnav-content\">\n",
       "      <a href=\"#\">Course 1</a>\n",
       "      <a href=\"#\">Course 2</a>\n",
       "      <a href=\"#\">Course 3</a>\n",
       "    </div>\n",
       "  </div> \n",
       "  <div class=\"subnav\">\n",
       "    <button class=\"subnavbtn\">Documentation <i class=\"fa fa-caret-down\"></i></button>\n",
       "    <div class=\"subnav-content\">\n",
       "      <a href=\"#\">Topic 1</a>\n",
       "      <a href=\"#\">Topic 2</a>\n",
       "      <a href=\"#\">Topic 3</a>\n",
       "    </div>\n",
       "  </div> \n",
       "    <div class=\"subnav\">\n",
       "    <button class=\"subnavbtn\">Quick Examples <i class=\"fa fa-caret-down\"></i></button>\n",
       "    <div class=\"subnav-content\">\n",
       "      <a href=\"#\">Example 1</a>\n",
       "      <a href=\"#\">Example 2</a>\n",
       "      <a href=\"#\">Example 3 3</a>\n",
       "    </div>\n",
       "  </div> \n",
       "  <a href=\"#contact\">Contact</a>\n",
       "</div>\n",
       "</body>\n"
      ],
      "text/plain": [
       "<IPython.core.display.HTML object>"
      ]
     },
     "metadata": {},
     "output_type": "display_data"
    }
   ],
   "source": [
    "%%html\n",
    "<!--The top Logo and the menu bar-->\n",
    "\n",
    "<head>\n",
    "<meta name=\"viewport\" content=\"width=device-width, initial-scale=1\">\n",
    "<style>\n",
    "body {\n",
    "  font-family: Arial, Helvetica, sans-serif;\n",
    "  margin: 0 0 0 0px;\n",
    "}\n",
    ".back{\n",
    "    height: 130px;\n",
    "    width: 100%;\n",
    "    background-color:#263133;\n",
    "    display: flex;\n",
    "    align-items: center;\n",
    "}\n",
    ".navbar_0 {\n",
    "  overflow: hidden;\n",
    "  background-color: #263133; \n",
    "  display: block;\n",
    "}\n",
    ".navbar_0 a {\n",
    "  float: left;\n",
    "  font-size: 16px;\n",
    "  color: white;\n",
    "  text-align: center;\n",
    "  padding: 14px 16px;\n",
    "  text-decoration: none;\n",
    "  overflow: visible;\n",
    "  display: inline-block;\n",
    "}\n",
    ".subnav {\n",
    "  float: left;\n",
    "  overflow: hidden;\n",
    "}\n",
    ".subnav .subnavbtn {\n",
    "  font-size: 16px;\n",
    "  border: none;\n",
    "  outline: none;\n",
    "  color: white;\n",
    "  padding: 14px 16px;\n",
    "  background-color: inherit;\n",
    "  font-family: inherit;\n",
    "  margin: 0;\n",
    "  position: relative;\n",
    "}\n",
    ".navbar_0 a:hover, .subnav:hover .subnavbtn {\n",
    "  position:relative;\n",
    "  display:inlije-block;\n",
    "  overflow:visible;\n",
    "  background-color: #F48B34;\n",
    "}\n",
    ".subnav-content {\n",
    "  display: none;\n",
    "  position: absolute;\n",
    "  left: 0;\n",
    "  background-color: #263133;\n",
    "  width: 100%;\n",
    "  z-index: 1;\n",
    "    border-style: solid;\n",
    "  border-color: white;\n",
    "    border-width:1px;\n",
    "}\n",
    ".subnav-content a {\n",
    "  float: left;\n",
    "  overflow:visible;\n",
    "  color: white;\n",
    "  text-decoration: none;\n",
    "}\n",
    ".subnav-content a:hover {\n",
    "  background-color: #F48B34;\n",
    "  color: black;\n",
    "}\n",
    ".subnav:hover .subnav-content {\n",
    "  display: block;\n",
    "}\n",
    "</style>\n",
    "</head>\n",
    "\n",
    "\n",
    "\n",
    "\n",
    "\n",
    "<style>\n",
    ".content_0 {\n",
    "  display: flex;\n",
    "  text-align: center;\n",
    "  vertical-align: middle;\n",
    "}\n",
    "\n",
    "\n",
    ".icon-container {\n",
    "  margin-top: 0px;\n",
    "  width: 100%;\n",
    "  height: 70px;\n",
    "}\n",
    "\n",
    ".icon {\n",
    "  cursor: pointer;\n",
    "  position: relative;\n",
    "  display: inline-block;\n",
    "  width: 45px;\n",
    "  height: 45px;\n",
    "  margin-left: 12px;\n",
    "  margin-right: 12px;\n",
    "  border-radius: 30px;\n",
    "  overflow: hidden;\n",
    "  background-color:white;\n",
    "}\n",
    ".icon::before, .icon::after {\n",
    "  content: \"\";\n",
    "  position: absolute;\n",
    "  top: 0;\n",
    "  left: 0;\n",
    "  height: 100%;\n",
    "  width: 100%;\n",
    "  transition: all 0.25s ease;\n",
    "  border-radius: 30px;\n",
    "}\n",
    ".icon i {\n",
    "  position: relative;\n",
    "  color: #263133;\n",
    "  font-size: 24px;\n",
    "  margin-top: 10px;\n",
    "  transition: all 0.25s ease;\n",
    "}\n",
    "\n",
    ".icon-fill::before {\n",
    "  transition-duration: 0.7s;\n",
    "}\n",
    ".icon-fill:hover::before {\n",
    "  box-shadow: inset 0 0 0 60px #F48B34;\n",
    "    \n",
    "}\n",
    "</style>\n",
    "\n",
    "\n",
    "\n",
    "\n",
    "\n",
    "<body>\n",
    "<div class=back>\n",
    "<img src=\"Figures/v2.svg.png\" alt=\"Vertica logo\" width=\"300\">\n",
    "</div>\n",
    "<div class=\"navbar_0\">\n",
    "\n",
    "  <div class=\"subnav\">\n",
    "    <div class=\"content_0\">\n",
    "      <div class=\"icon-container\">\n",
    "        <div class=\"icon icon-fill\" onclick=\"window.location.href = 'http://localhost:8888/voila/render/Documents/GitHub/vertica-demo/docker-verticapy/enablement/Template/Course_Page_v1.ipynb';\"><i class=\"fa fa-home\"></i></div>\n",
    "      </div>\n",
    "    </div>\n",
    "  </div>\n",
    "\n",
    "  <div class=\"subnav\">\n",
    "    <button class=\"subnavbtn\">Courses <i class=\"fa fa-caret-down\"></i></button>\n",
    "    <div class=\"subnav-content\">\n",
    "      <a href=\"#\">Course 1</a>\n",
    "      <a href=\"#\">Course 2</a>\n",
    "      <a href=\"#\">Course 3</a>\n",
    "    </div>\n",
    "  </div> \n",
    "  <div class=\"subnav\">\n",
    "    <button class=\"subnavbtn\">Documentation <i class=\"fa fa-caret-down\"></i></button>\n",
    "    <div class=\"subnav-content\">\n",
    "      <a href=\"#\">Topic 1</a>\n",
    "      <a href=\"#\">Topic 2</a>\n",
    "      <a href=\"#\">Topic 3</a>\n",
    "    </div>\n",
    "  </div> \n",
    "    <div class=\"subnav\">\n",
    "    <button class=\"subnavbtn\">Quick Examples <i class=\"fa fa-caret-down\"></i></button>\n",
    "    <div class=\"subnav-content\">\n",
    "      <a href=\"#\">Example 1</a>\n",
    "      <a href=\"#\">Example 2</a>\n",
    "      <a href=\"#\">Example 3 3</a>\n",
    "    </div>\n",
    "  </div> \n",
    "  <a href=\"#contact\">Contact</a>\n",
    "</div>\n",
    "</body>"
   ]
  },
  {
   "cell_type": "code",
   "execution_count": 7,
   "id": "b1fec60f",
   "metadata": {},
   "outputs": [
    {
     "data": {
      "text/html": [
       "<!--Style for correct and incorrect prompts-->\n",
       "<style>\n",
       "\n",
       ".correct-prompt {\n",
       "  font-family: \"Helvetica\", \"Arial\", sans-serif;\n",
       "  display: inline-block;\n",
       "  font-size: 17px;\n",
       "  background-color: green;\n",
       "  color: #fff;\n",
       "  border-radius: 4px;\n",
       "  position: relative;\n",
       "  box-shadow: 0 2px 25px rgba(25,163,97,0.75);\n",
       "  padding:5px;\n",
       "}\n",
       ".incorrect-prompt {\n",
       "  font-family: \"Helvetica\", \"Arial\", sans-serif;\n",
       "  display: inline-block;\n",
       "  font-size: 17px;\n",
       "  background-color: red;\n",
       "  color: #fff;\n",
       "  border-radius: 4px;\n",
       "  position: relative;\n",
       "  box-shadow: 0 2px 25px rgba(255, 0, 130, 0.5);\n",
       "  padding:5px;\n",
       "}  \n",
       "</style>\n"
      ],
      "text/plain": [
       "<IPython.core.display.HTML object>"
      ]
     },
     "metadata": {},
     "output_type": "display_data"
    }
   ],
   "source": [
    "%%html\n",
    "<!--Style for correct and incorrect prompts-->\n",
    "<style>\n",
    "\n",
    ".correct-prompt {\n",
    "  font-family: \"Helvetica\", \"Arial\", sans-serif;\n",
    "  display: inline-block;\n",
    "  font-size: 17px;\n",
    "  background-color: green;\n",
    "  color: #fff;\n",
    "  border-radius: 4px;\n",
    "  position: relative;\n",
    "  box-shadow: 0 2px 25px rgba(25,163,97,0.75);\n",
    "  padding:5px;\n",
    "}\n",
    ".incorrect-prompt {\n",
    "  font-family: \"Helvetica\", \"Arial\", sans-serif;\n",
    "  display: inline-block;\n",
    "  font-size: 17px;\n",
    "  background-color: red;\n",
    "  color: #fff;\n",
    "  border-radius: 4px;\n",
    "  position: relative;\n",
    "  box-shadow: 0 2px 25px rgba(255, 0, 130, 0.5);\n",
    "  padding:5px;\n",
    "}  \n",
    "</style>"
   ]
  },
  {
   "cell_type": "code",
   "execution_count": 8,
   "id": "8b0862f1",
   "metadata": {},
   "outputs": [],
   "source": [
    "# Defining a function for multiple choice widgets\n",
    "\n",
    "def create_multipleChoice_widget(options, correct_answer):\n",
    "    if correct_answer not in options:\n",
    "        options.append(correct_answer)\n",
    "    \n",
    "    correct_answer_index = options.index(correct_answer)\n",
    "    \n",
    "    radio_options = [(words, i) for i, words in enumerate(options)]\n",
    "    alternativ = widgets.RadioButtons(\n",
    "        options = radio_options,\n",
    "        description = '',\n",
    "        disabled = False\n",
    "    )\n",
    "    \n",
    "    description_out = widgets.Output()\n",
    "#    with description_out:\n",
    "#        print(description)\n",
    "        \n",
    "    feedback_out = widgets.Output()\n",
    "\n",
    "    def check_selection(b):\n",
    "        a = int(alternativ.value)\n",
    "        if a==correct_answer_index:\n",
    "            s = widgets.HTML('<div class=\"correct-prompt\">Correct!</div>')\n",
    "        else:\n",
    "            s = widgets.HTML('<div class=\"incorrect-prompt\">Try Again!</div>')\n",
    "        with feedback_out:\n",
    "            clear_output()\n",
    "            display(s)\n",
    "        return\n",
    "    \n",
    "    check = widgets.Button(description=\"submit\")\n",
    "    check.on_click(check_selection)\n",
    "    \n",
    "    \n",
    "    return widgets.VBox([description_out, alternativ, check, feedback_out])\n",
    "\n",
    "def create_numeric_widget(correct_answer):\n",
    "    \n",
    "    #correct_answer_index = options.index(correct_answer)\n",
    "    \n",
    "    #radio_options = [(words, i) for i, words in enumerate(options)]\n",
    "    alternativ = widgets.Text(\n",
    "        #options = radio_options,\n",
    "        #description = '',\n",
    "        disabled = False\n",
    "    )\n",
    "    \n",
    "    description_out = widgets.Output()\n",
    "#    with description_out:\n",
    "#        print(description)\n",
    "        \n",
    "    feedback_out = widgets.Output()\n",
    "\n",
    "    def check_selection(b):\n",
    "        try:\n",
    "            a = int(alternativ.value)\n",
    "        except ValueError:\n",
    "            a = float(alternativ.value)\n",
    "        if a==correct_answer:\n",
    "            s = widgets.HTML('<div class=\"correct-prompt\">Correct!</div>')\n",
    "        else:\n",
    "            s = widgets.HTML('<div class=\"incorrect-prompt\">Try Again!</div>')\n",
    "        with feedback_out:\n",
    "            clear_output()\n",
    "            display(s)\n",
    "        return\n",
    "    \n",
    "    check = widgets.Button(description=\"submit\")\n",
    "    check.on_click(check_selection)\n",
    "    \n",
    "    \n",
    "    return widgets.VBox([description_out, alternativ, check, feedback_out])"
   ]
  },
  {
   "cell_type": "code",
   "execution_count": 9,
   "id": "dab1e034",
   "metadata": {},
   "outputs": [
    {
     "data": {
      "text/html": [
       "<!--Module Button-->\n",
       "\n",
       "<style>\n",
       ".moduler{\n",
       "    box-shadow: 0px 15px 10px -15px #F48B34;  \n",
       "    font-size:30px;\n",
       "    color: blue;\n",
       "}\n",
       "    </style>\n",
       "    \n",
       "<div class=\"moduler\">\n",
       "  <a href=\"http://localhost:8888/voila/render/Documents/GitHub/vertica-demo/docker-verticapy/enablement/Template/Module_Page_v1.ipynb\">Data Preparation</a>\n",
       "</div>\n"
      ],
      "text/plain": [
       "<IPython.core.display.HTML object>"
      ]
     },
     "metadata": {},
     "output_type": "display_data"
    }
   ],
   "source": [
    "%%html\n",
    "<!--Module Button-->\n",
    "\n",
    "<style>\n",
    ".moduler{\n",
    "    box-shadow: 0px 15px 10px -15px #F48B34;  \n",
    "    font-size:30px;\n",
    "    color: blue;\n",
    "}\n",
    "    </style>\n",
    "    \n",
    "<div class=\"moduler\">\n",
    "  <a href=\"http://localhost:8888/voila/render/Documents/GitHub/vertica-demo/docker-verticapy/enablement/Template/Module_Page_v1.ipynb\">Data Preparation</a>\n",
    "</div>\n"
   ]
  },
  {
   "cell_type": "markdown",
   "id": "1eb61592",
   "metadata": {},
   "source": [
    "## Preparing Data"
   ]
  },
  {
   "cell_type": "code",
   "execution_count": 10,
   "id": "8e5bc7f2",
   "metadata": {},
   "outputs": [
    {
     "data": {
      "text/html": [
       "<!--Time required-->\n",
       "<i class=\"fas fa-clock\" style='color:#F48B34;font-size:18px;'></i> 15 mins\n"
      ],
      "text/plain": [
       "<IPython.core.display.HTML object>"
      ]
     },
     "metadata": {},
     "output_type": "display_data"
    }
   ],
   "source": [
    "%%html\n",
    "<!--Time required-->\n",
    "<i class=\"fas fa-clock\" style='color:#F48B34;font-size:18px;'></i> 15 mins"
   ]
  },
  {
   "cell_type": "markdown",
   "id": "989fd8da",
   "metadata": {},
   "source": [
    "### Table of Contents\n",
    "\n",
    "- [Missing Data](#h1_cell)\n",
    "- [Duplicate Data](#h2_cell)\n",
    "- [Normalization](#h3_cell)\n",
    "- [Joins](#h4_cell)"
   ]
  },
  {
   "cell_type": "markdown",
   "id": "7a49c17e",
   "metadata": {},
   "source": [
    "Quite frequently the data that we work with in not in the ready-to-use condition. There are some missing values, duplicates etc, which need to be treated in order to perform meaningful analysis. In this lesson we will go through some basic issues with the data and how we can treat each of them."
   ]
  },
  {
   "cell_type": "markdown",
   "id": "e359fcc6",
   "metadata": {},
   "source": [
    "### What you will learn in this module?\n",
    "\n",
    "- How to spot some basic issues with the data?\n",
    "- What are the types of missing values?\n",
    "- How to treat missing values?\n",
    "- How to find and remove duplicates?\n",
    "- When and how to normalize data?\n",
    "- How to perform a simple join?"
   ]
  },
  {
   "cell_type": "markdown",
   "id": "e4eae0c4",
   "metadata": {},
   "source": [
    "***"
   ]
  },
  {
   "cell_type": "markdown",
   "id": "e91b7444",
   "metadata": {},
   "source": [
    "<a id='h1_cell'></a>\n",
    "### Missing Data\n"
   ]
  },
  {
   "cell_type": "markdown",
   "id": "7050ec65",
   "metadata": {},
   "source": [
    "Missing values occur when no data value is stored for the variable in an observation and are most often represented with a NULL or None. Not handling them can lead to unexpected results (for example, some ML algorithms can't handle missing values at all) and worse, it can lead to incorrect conclusions.\n",
    "\n",
    "There are 3 main types of missing values:\n",
    "\n",
    "<b>MCAR (Missing Completely at Random) :</b> The events that lead to any particular data-item being missing occur entirely at random. For example, in IOT, we can lose sensory data in transmission.\n",
    "\n",
    "<b>MAR (Missing {Conditionally} at Random) :</b> Missing data doesn't happen at random and is instead related to some of the observed data. For example, some students may have not answered to some specific questions of a test because they were absent during the relevant lesson.\n",
    "\n",
    "<b>MNAR (Missing not at Random) :</b> The value of the variable that’s missing is related to the reason it’s missing. For example, if someone didn’t subscribe to a loyalty program, we can leave the cell empty.\n",
    "\n",
    "Different types of missing values tend to suggest different methods for imputing them. For example, when dealing with MCAR values, you can use mathematical aggregations to impute the missing values. For MNAR values, we can simply create another category. MAR values, however, we'll need to do some more investigation before deciding how to impute the data.\n",
    "\n",
    "To see how to handle missing values in VerticaPy, we'll use the well-known 'Titanic' dataset.\n",
    "\n",
    "```python\n",
    "from verticapy.datasets import load_titanic\n",
    "vdf = load_titanic()\n",
    "display(vdf)\n",
    "```\n",
    "\n"
   ]
  },
  {
   "cell_type": "code",
   "execution_count": 38,
   "id": "2f058531",
   "metadata": {},
   "outputs": [
    {
     "data": {
      "application/vnd.jupyter.widget-view+json": {
       "model_id": "c0d854fa49c148c6a4d879957ffb873c",
       "version_major": 2,
       "version_minor": 0
      },
      "text/plain": [
       "Image(value=b'\\x89PNG\\r\\n\\x1a\\n\\x00\\x00\\x00\\rIHDR\\x00\\x00\\x05l\\x00\\x00\\x02\\x0c\\x08\\x06\\x00\\x00\\x00aZ\\xe5\\xfc\\x…"
      ]
     },
     "metadata": {},
     "output_type": "display_data"
    }
   ],
   "source": [
    "file = open(\"Figures/titanic.png\", \"rb\")\n",
    "image = file.read()\n",
    "\n",
    "image= widgets.Image(\n",
    "                    value=image,\n",
    "                    format='png',\n",
    "                    width='900px'\n",
    "                )\n",
    "display(image)"
   ]
  },
  {
   "cell_type": "markdown",
   "id": "fe382bf5",
   "metadata": {},
   "source": [
    "We can check the count of data entries in each column by using the count function:\n",
    "\n",
    "```ptyhon\n",
    "vdf.count_percent()\n",
    "```\n"
   ]
  },
  {
   "cell_type": "code",
   "execution_count": 13,
   "id": "220a1f58",
   "metadata": {},
   "outputs": [
    {
     "data": {
      "application/vnd.jupyter.widget-view+json": {
       "model_id": "4169b36fd0ad4a59812e9752ec464cdc",
       "version_major": 2,
       "version_minor": 0
      },
      "text/plain": [
       "Image(value=b'\\x89PNG\\r\\n\\x1a\\n\\x00\\x00\\x00\\rIHDR\\x00\\x00\\x01\\xe8\\x00\\x00\\x01\\xee\\x08\\x06\\x00\\x00\\x00T\\t\\x9f\\x…"
      ]
     },
     "metadata": {},
     "output_type": "display_data"
    }
   ],
   "source": [
    "file = open(\"Figures/count.png\", \"rb\")\n",
    "image = file.read()\n",
    "\n",
    "image= widgets.Image(\n",
    "                    value=image,\n",
    "                    format='png',\n",
    "                    width='300px'\n",
    "                )\n",
    "display(image)"
   ]
  },
  {
   "cell_type": "markdown",
   "id": "3abcd130",
   "metadata": {},
   "source": [
    "The missing values for 'boat' are MNAR; missing values simply indicate that the passengers didn't pay for a lifeboat. We can replace all the missing values with a new category 'No Lifeboat' using the 'fillna' method.\n",
    "\n",
    "```python\n",
    "vdf[\"boat\"].fillna(\"No Lifeboat\")\n",
    "vdf[\"boat\"]\n",
    "```"
   ]
  },
  {
   "cell_type": "code",
   "execution_count": null,
   "id": "19410e58",
   "metadata": {},
   "outputs": [],
   "source": [
    "file = open(\"Figures/fillna.png\", \"rb\")\n",
    "image = file.read()\n",
    "\n",
    "image= widgets.Image(\n",
    "                    value=image,\n",
    "                    format='png',\n",
    "                    width='300px'\n",
    "                )\n",
    "display(image)"
   ]
  },
  {
   "cell_type": "markdown",
   "id": "2ab0813d",
   "metadata": {},
   "source": [
    "Missing values for 'age' seem to be MCAR, so the best way to impute them is with mathematical aggregations. Let's impute the age using the average age of passengers of the same sex and class.\n",
    "\n",
    "```python\n",
    "vdf[\"age\"].fillna(method = \"avg\",\n",
    "                  by = [\"pclass\", \"sex\"])\n",
    "vdf[\"age\"]\n",
    "```"
   ]
  },
  {
   "cell_type": "code",
   "execution_count": null,
   "id": "691993d7",
   "metadata": {},
   "outputs": [],
   "source": [
    "file = open(\"Figures/fillna_mcr.png\", \"rb\")\n",
    "image = file.read()\n",
    "\n",
    "image= widgets.Image(\n",
    "                    value=image,\n",
    "                    format='png',\n",
    "                    width='300px'\n",
    "                )\n",
    "display(image)"
   ]
  },
  {
   "cell_type": "markdown",
   "id": "9deef92a",
   "metadata": {},
   "source": [
    "The features 'embarked' and 'fare' have a couple missing values. Instead of using a technique to impute them, we can just drop them with the 'dropna' method.\n",
    "\n",
    "```python\n",
    "vdf[\"fare\"].dropna()\n",
    "vdf[\"embarked\"].dropna()\n",
    "```"
   ]
  },
  {
   "cell_type": "code",
   "execution_count": 17,
   "id": "fc5c39b1",
   "metadata": {},
   "outputs": [
    {
     "data": {
      "application/vnd.jupyter.widget-view+json": {
       "model_id": "8618476dbb5245178b9b16ee74680a01",
       "version_major": 2,
       "version_minor": 0
      },
      "text/plain": [
       "Image(value=b'\\x89PNG\\r\\n\\x1a\\n\\x00\\x00\\x00\\rIHDR\\x00\\x00\\x06\\xb7\\x00\\x00\\x02s\\x08\\x06\\x00\\x00\\x00\\xa5=HW\\x00\\…"
      ]
     },
     "metadata": {},
     "output_type": "display_data"
    }
   ],
   "source": [
    "file = open(\"Figures/just_drop.png\", \"rb\")\n",
    "image = file.read()\n",
    "\n",
    "image= widgets.Image(\n",
    "                    value=image,\n",
    "                    format='png',\n",
    "                    width='900px'\n",
    "                )\n",
    "display(image)"
   ]
  },
  {
   "cell_type": "markdown",
   "id": "f691e3b2",
   "metadata": {},
   "source": [
    "<div class=\"alert alert-block alert-success\">\n",
    "<b>Want to learn more about missing values?</b> Then have a look at the documentation page <a href=\"https://www.vertica.com/python/workshop/data_prep/missing_values/index.php\"> here</a>.\n",
    "</div>"
   ]
  },
  {
   "cell_type": "markdown",
   "id": "3b946cb8",
   "metadata": {},
   "source": [
    "***"
   ]
  },
  {
   "cell_type": "markdown",
   "id": "3fd84ef3",
   "metadata": {},
   "source": [
    "### Duplicates\n",
    "\n",
    "<a id='h2_cell'></a>"
   ]
  },
  {
   "cell_type": "markdown",
   "id": "0ef0675d",
   "metadata": {},
   "source": [
    "Often there can be duplicates inside a dataset. Sometimes, those are intentional and sometimes those are mistakes. In both cases, it is nice to know if such duplicates exist. Once we have found duplicates, we can try to find a remedy for them. \n",
    "\n",
    "Let us start by looking at the duplicates in our current titanic data:\n",
    "\n",
    "```python\n",
    "vdf.duplicated()\n",
    "```"
   ]
  },
  {
   "cell_type": "code",
   "execution_count": 18,
   "id": "4d788999",
   "metadata": {},
   "outputs": [
    {
     "data": {
      "application/vnd.jupyter.widget-view+json": {
       "model_id": "1d3a684f53eb476e9f67477304ff3e01",
       "version_major": 2,
       "version_minor": 0
      },
      "text/plain": [
       "Image(value=b'\\x89PNG\\r\\n\\x1a\\n\\x00\\x00\\x00\\rIHDR\\x00\\x00\\x05q\\x00\\x00\\x00\\xb8\\x08\\x06\\x00\\x00\\x00\\xa5\\xce\\xaf…"
      ]
     },
     "metadata": {},
     "output_type": "display_data"
    }
   ],
   "source": [
    "file = open(\"Figures/duplicate.png\", \"rb\")\n",
    "image = file.read()\n",
    "\n",
    "image= widgets.Image(\n",
    "                    value=image,\n",
    "                    format='png',\n",
    "                    width='900px'\n",
    "                )\n",
    "display(image)"
   ]
  },
  {
   "cell_type": "markdown",
   "id": "a54a049c",
   "metadata": {},
   "source": [
    "We notice that there are no duplicates in the current dataset. Let us try to manually add and then find them. We can use the append function to add the same table to the existing table.\n",
    "\n",
    "```python\n",
    "vdf=vdf.append(vdf)\n",
    "vdf.shape()\n",
    "```\n",
    "\n",
    "We will notice that the records doubled from 1234 to 2468.\n",
    "\n",
    "Now let us again look at the duplicates. \n",
    "\n",
    "```python\n",
    "vdf.duplicated()\n",
    "```"
   ]
  },
  {
   "cell_type": "code",
   "execution_count": 19,
   "id": "8edd78b0",
   "metadata": {},
   "outputs": [
    {
     "data": {
      "application/vnd.jupyter.widget-view+json": {
       "model_id": "d984b54369e54bdeb7a9218eeb291836",
       "version_major": 2,
       "version_minor": 0
      },
      "text/plain": [
       "Image(value=b'\\x89PNG\\r\\n\\x1a\\n\\x00\\x00\\x00\\rIHDR\\x00\\x00\\x05c\\x00\\x00\\x02\\x11\\x08\\x06\\x00\\x00\\x00/\\x19\\xaf4\\x…"
      ]
     },
     "metadata": {},
     "output_type": "display_data"
    }
   ],
   "source": [
    "file = open(\"Figures/duplicate-2.png\", \"rb\")\n",
    "image = file.read()\n",
    "\n",
    "image= widgets.Image(\n",
    "                    value=image,\n",
    "                    format='png',\n",
    "                    width='900px'\n",
    "                )\n",
    "display(image)"
   ]
  },
  {
   "cell_type": "markdown",
   "id": "a161bb89",
   "metadata": {},
   "source": [
    "We cans see that now we have 1234 duplicated records. We can use the <a href=\"https://www.vertica.com/python/documentation_last/vdataframe/main-methods/drop_duplicates/\">drop_duplicates</a> function to get rid of all duplicates:\n",
    "\n",
    "```python\n",
    "vdf.drop_duplicates()\n",
    "```\n",
    "\n",
    "We can then confirm by looking at the record number:\n",
    "\n",
    "```python\n",
    "vdf.shape()\n",
    "```\n",
    "\n",
    "<b>Note:</b> We should not drop duplicates in all cases. In certain cases, duplicate entries represent frequency, and they should be kept."
   ]
  },
  {
   "cell_type": "markdown",
   "id": "b3d45c5d",
   "metadata": {},
   "source": [
    "***"
   ]
  },
  {
   "cell_type": "markdown",
   "id": "faf474be",
   "metadata": {},
   "source": [
    "<a id='h3_cell'></a>\n",
    "### Normalization\n"
   ]
  },
  {
   "cell_type": "markdown",
   "id": "5c52fec2",
   "metadata": {},
   "source": [
    "Normalizing data is crucial when using machine learning algorithms because of how sensitive most of them are to un-normalized data. For example, the neighbors-based and k-means algorithms use the p-distance in their learning phase. Normalization is the first step before using a linear regression due to Gauss-Markov assumptions.\n",
    "\n",
    "Unnormalized data can also create complications for the convergence of some ML algorithms. Normalization is also a way to encode the data and to retain the global distribution. When we know the estimators to use to normalize the data, we can easily un-normalize the data and come back to the original distribution.\n",
    "\n",
    "There are three main normalization techniques:\n",
    "\n",
    "<b>Z-Score :</b> We reduce and center the feature values using the average and standard deviation. This normalization is sensitive to outliers.\n",
    "\n",
    "<b>Robust Z-Score :</b> We reduce and center the feature values using the median and the median absolute deviation. This normalization is robust to outliers.\n",
    "\n",
    "<b>Min-Max :</b> We reduce the feature values by using a bijection to [0,1]. The max will reach 1 and the min will reach 0. This normalization is robust to outliers.\n",
    "\n",
    "We will continue to work with our Titanic dataset for showcase normalization. If we look at our dataset, we will realize that there two interesting numeric columns: age and fare. Let us have a look at them to see their scales:\n",
    "\n",
    "```python\n",
    "vdf[\"age\", \"fare\"].min()\n",
    "```"
   ]
  },
  {
   "cell_type": "code",
   "execution_count": null,
   "id": "739511d8",
   "metadata": {},
   "outputs": [],
   "source": [
    "file = open(\"Figures/norm_min.png\", \"rb\")\n",
    "image = file.read()\n",
    "\n",
    "image= widgets.Image(\n",
    "                    value=image,\n",
    "                    format='png',\n",
    "                    width='230px'\n",
    "                )\n",
    "display(image)"
   ]
  },
  {
   "cell_type": "markdown",
   "id": "ab0c0ab6",
   "metadata": {},
   "source": [
    "```python\n",
    "vdf[\"age\", \"fare\"].max()\n",
    "```"
   ]
  },
  {
   "cell_type": "code",
   "execution_count": null,
   "id": "9ce256d5",
   "metadata": {},
   "outputs": [],
   "source": [
    "file = open(\"Figures/norm_max.png\", \"rb\")\n",
    "image = file.read()\n",
    "\n",
    "image= widgets.Image(\n",
    "                    value=image,\n",
    "                    format='png',\n",
    "                    width='230px'\n",
    "                )\n",
    "display(image)"
   ]
  },
  {
   "cell_type": "markdown",
   "id": "467ac833",
   "metadata": {},
   "source": [
    "We can observe that even though the minimum values of both quantities are almost equal, but the maximum values are quite different. Though the different in their range is not too significant in this case, but very often this different is in orders of magnitude. But the treatment is the same no matter how much the magnitude of difference.\n",
    "\n",
    "We can use the normalize function with the minimax method to normalize both the columns to ensure they have values between 0 and 1.\n",
    "\n",
    "```python\n",
    "vdf[\"age\"].normalize(method = \"minmax\")\n",
    "vdf[\"fare\"].normalize(method = \"minmax\")\n",
    "```\n",
    "\n",
    "Let us look at the minimum and maximum value:\n",
    "\n",
    "```python\n",
    "vdf.select([\"age\", \"fare\"])\n",
    "vdf[\"age\", \"fare\"].min()\n",
    "vdf[\"age\", \"fare\"].max()\n",
    "```"
   ]
  },
  {
   "cell_type": "code",
   "execution_count": 22,
   "id": "11c45084",
   "metadata": {
    "scrolled": true
   },
   "outputs": [
    {
     "data": {
      "application/vnd.jupyter.widget-view+json": {
       "model_id": "c7463b4540f749fa88863e68791e4515",
       "version_major": 2,
       "version_minor": 0
      },
      "text/plain": [
       "Image(value=b'\\x89PNG\\r\\n\\x1a\\n\\x00\\x00\\x00\\rIHDR\\x00\\x00\\x02c\\x00\\x00\\x02\\x06\\x08\\x06\\x00\\x00\\x00\\x18\\xf1\\x88…"
      ]
     },
     "metadata": {},
     "output_type": "display_data"
    }
   ],
   "source": [
    "file = open(\"Figures/norm1.png\", \"rb\")\n",
    "image = file.read()\n",
    "\n",
    "image= widgets.Image(\n",
    "                    value=image,\n",
    "                    format='png',\n",
    "                    width='400px'\n",
    "                )\n",
    "display(image)"
   ]
  },
  {
   "cell_type": "code",
   "execution_count": 26,
   "id": "899aca89",
   "metadata": {},
   "outputs": [
    {
     "data": {
      "application/vnd.jupyter.widget-view+json": {
       "model_id": "45c8a45c706e4b81846e1110527faf4e",
       "version_major": 2,
       "version_minor": 0
      },
      "text/plain": [
       "Image(value=b'\\x89PNG\\r\\n\\x1a\\n\\x00\\x00\\x00\\rIHDR\\x00\\x00\\x01=\\x00\\x00\\x00\\xd5\\x08\\x06\\x00\\x00\\x00%\\xfb\\'\\xc6\\…"
      ]
     },
     "metadata": {},
     "output_type": "display_data"
    }
   ],
   "source": [
    "file = open(\"Figures/norm2.png\", \"rb\")\n",
    "image = file.read()\n",
    "\n",
    "image= widgets.Image(\n",
    "                    value=image,\n",
    "                    format='png',\n",
    "                    width='230px'\n",
    "                )\n",
    "display(image)"
   ]
  },
  {
   "cell_type": "code",
   "execution_count": 27,
   "id": "ce3b2650",
   "metadata": {},
   "outputs": [
    {
     "data": {
      "application/vnd.jupyter.widget-view+json": {
       "model_id": "6a3c46d59d71426ca86f66313240762d",
       "version_major": 2,
       "version_minor": 0
      },
      "text/plain": [
       "Image(value=b'\\x89PNG\\r\\n\\x1a\\n\\x00\\x00\\x00\\rIHDR\\x00\\x00\\x01>\\x00\\x00\\x00\\xd5\\x08\\x06\\x00\\x00\\x00\\xce\\xcc\\x9c…"
      ]
     },
     "metadata": {},
     "output_type": "display_data"
    }
   ],
   "source": [
    "file = open(\"Figures/norm3.png\", \"rb\")\n",
    "image = file.read()\n",
    "\n",
    "image= widgets.Image(\n",
    "                    value=image,\n",
    "                    format='png',\n",
    "                    width='230px'\n",
    "                )\n",
    "display(image)"
   ]
  },
  {
   "cell_type": "markdown",
   "id": "eaf36cbd",
   "metadata": {},
   "source": [
    "We can see that our data columns have been successfly normalized. "
   ]
  },
  {
   "cell_type": "markdown",
   "id": "63be5a20",
   "metadata": {},
   "source": [
    "<div class=\"alert alert-block alert-success\">\n",
    "    <b>Did you know:</b> If you need help with any function, you can simple call the <b><i>help</b></i> function of VerticaPy to learn more.\n",
    "    \n",
    "For example:\n",
    "    \n",
    "    help(vp.vDataFrame.normalize)\n",
    "\n",
    "</div>"
   ]
  },
  {
   "cell_type": "markdown",
   "id": "c02f25ee",
   "metadata": {},
   "source": [
    "***"
   ]
  },
  {
   "cell_type": "markdown",
   "id": "b8bc6d97",
   "metadata": {},
   "source": [
    "<a id='h3_cell'></a>\n",
    "### Joins\n"
   ]
  },
  {
   "cell_type": "markdown",
   "id": "21819a51",
   "metadata": {},
   "source": [
    "When working with datasets, we often need to merge data from different sources. To do this, we need keys on which to join our data.\n",
    "\n",
    "Let's use the [US Flights 2015 datasets](#https://www.kaggle.com/datasets/usdot/flight-delays). We have three datasets:\n",
    "\n",
    "1. Flights Data\n",
    "2. Airports Data\n",
    "3. Airlines Data\n",
    "\n",
    "First, we can read each of these files seaprately into a vDataFrame.\n",
    "\n",
    "```python\n",
    "flight=vp.read_csv('flights.csv')\n",
    "airports=vp.read_csv('airports.csv')\n",
    "airlines=vp.read_csv('airlines.csv')\n",
    "```\n",
    "\n",
    "Let us look at each of these tables:\n",
    "\n",
    "```python\n",
    "flights\n",
    "```"
   ]
  },
  {
   "cell_type": "code",
   "execution_count": 30,
   "id": "33a7cd98",
   "metadata": {},
   "outputs": [
    {
     "data": {
      "application/vnd.jupyter.widget-view+json": {
       "model_id": "11941732351b44a89b4831e93ac597d1",
       "version_major": 2,
       "version_minor": 0
      },
      "text/plain": [
       "Image(value=b'\\x89PNG\\r\\n\\x1a\\n\\x00\\x00\\x00\\rIHDR\\x00\\x00\\x06\\xae\\x00\\x00\\x02\\'\\x08\\x06\\x00\\x00\\x00\\xe9\\x99\\xa…"
      ]
     },
     "metadata": {},
     "output_type": "display_data"
    }
   ],
   "source": [
    "file = open(\"Figures/join1.png\", \"rb\")\n",
    "image = file.read()\n",
    "\n",
    "image= widgets.Image(\n",
    "                    value=image,\n",
    "                    format='png',\n",
    "                    width='700px'\n",
    "                )\n",
    "display(image)"
   ]
  },
  {
   "cell_type": "markdown",
   "id": "ad2e1082",
   "metadata": {},
   "source": [
    "```python\n",
    "airports\n",
    "```"
   ]
  },
  {
   "cell_type": "code",
   "execution_count": 31,
   "id": "45e5e1ec",
   "metadata": {},
   "outputs": [
    {
     "data": {
      "application/vnd.jupyter.widget-view+json": {
       "model_id": "a7df4be478d148f6a0764c5c7a0b29d1",
       "version_major": 2,
       "version_minor": 0
      },
      "text/plain": [
       "Image(value=b'\\x89PNG\\r\\n\\x1a\\n\\x00\\x00\\x00\\rIHDR\\x00\\x00\\x05\\xc4\\x00\\x00\\x02\\x02\\x08\\x06\\x00\\x00\\x00\\xe1\\xdf\\…"
      ]
     },
     "metadata": {},
     "output_type": "display_data"
    }
   ],
   "source": [
    "file = open(\"Figures/join2.png\", \"rb\")\n",
    "image = file.read()\n",
    "\n",
    "image= widgets.Image(\n",
    "                    value=image,\n",
    "                    format='png',\n",
    "                    width='700px'\n",
    "                )\n",
    "display(image)"
   ]
  },
  {
   "cell_type": "markdown",
   "id": "15b1ffac",
   "metadata": {},
   "source": []
  },
  {
   "cell_type": "markdown",
   "id": "ca3bcdd4",
   "metadata": {},
   "source": [
    "```python\n",
    "airlines\n",
    "```"
   ]
  },
  {
   "cell_type": "code",
   "execution_count": 34,
   "id": "4210cb9e",
   "metadata": {},
   "outputs": [
    {
     "data": {
      "application/vnd.jupyter.widget-view+json": {
       "model_id": "f629ed95cda14d068361ffda2abee04c",
       "version_major": 2,
       "version_minor": 0
      },
      "text/plain": [
       "Image(value=b'\\x89PNG\\r\\n\\x1a\\n\\x00\\x00\\x00\\rIHDR\\x00\\x00\\x02@\\x00\\x00\\x02\\x08\\x08\\x06\\x00\\x00\\x00\\x86\\x91Q7\\x…"
      ]
     },
     "metadata": {},
     "output_type": "display_data"
    }
   ],
   "source": [
    "file = open(\"Figures/join3.png\", \"rb\")\n",
    "image = file.read()\n",
    "\n",
    "image= widgets.Image(\n",
    "                    value=image,\n",
    "                    format='png',\n",
    "                    width='400px'\n",
    "                )\n",
    "display(image)"
   ]
  },
  {
   "cell_type": "markdown",
   "id": "2ba0d784",
   "metadata": {},
   "source": [
    "We can observe that in each of the above tables, they have unique keys that we can use to join them.\n",
    "\n",
    "Let us first try to add airline information into the flights table. We can do this by linking them using the IATA_CODE column from airline table, and the AIRLINE column fron flights table.\n",
    "\n",
    "```python\n",
    "flights = flights.join(airlines,\n",
    "                       how = \"left\",\n",
    "                       on = {\"airline\": \"IATA_CODE\"},\n",
    "                       expr2 = [\"AIRLINE AS airline_long\"])\n",
    "display(flights)\n",
    "```"
   ]
  },
  {
   "cell_type": "code",
   "execution_count": 35,
   "id": "e74f9346",
   "metadata": {},
   "outputs": [
    {
     "data": {
      "application/vnd.jupyter.widget-view+json": {
       "model_id": "d41ef5b090f94067ad94b52252a045ce",
       "version_major": 2,
       "version_minor": 0
      },
      "text/plain": [
       "Image(value=b'\\x89PNG\\r\\n\\x1a\\n\\x00\\x00\\x00\\rIHDR\\x00\\x00\\x05a\\x00\\x00\\x02\\x06\\x08\\x06\\x00\\x00\\x005?M*\\x00\\x00…"
      ]
     },
     "metadata": {},
     "output_type": "display_data"
    }
   ],
   "source": [
    "file = open(\"Figures/join_fa.png\", \"rb\")\n",
    "image = file.read()\n",
    "\n",
    "image= widgets.Image(\n",
    "                    value=image,\n",
    "                    format='png',\n",
    "                    width='900px'\n",
    "                )\n",
    "display(image)"
   ]
  },
  {
   "cell_type": "markdown",
   "id": "e526db58",
   "metadata": {},
   "source": [
    "Now, we have the data from two tables joined into one. Such tables are very useful when we want to extract information form multiple tables. \n",
    "\n",
    "In another join, we can try to combine all three tables into one:\n",
    "\n",
    "```python\n",
    "flights = flights.join(airports,\n",
    "                       how = \"left\",\n",
    "                       on = {\"origin_airport\": \"IATA_CODE\"},\n",
    "                       expr2 = [\"LATITUDE AS origin_lat\",\n",
    "                                \"LONGITUDE AS origin_lon\"])\n",
    "flights = flights.join(airports,\n",
    "                       how = \"left\",\n",
    "                       on = {\"destination_airport\": \"IATA_CODE\"},\n",
    "                       expr2 = [\"LATITUDE AS destination_lat\",\n",
    "                                \"LONGITUDE AS destination_lon\"])\n",
    "display(flights)\n",
    "```"
   ]
  },
  {
   "cell_type": "code",
   "execution_count": 36,
   "id": "d9591fac",
   "metadata": {},
   "outputs": [
    {
     "data": {
      "application/vnd.jupyter.widget-view+json": {
       "model_id": "b704865cfc0c48b0a369c98ccb0b9701",
       "version_major": 2,
       "version_minor": 0
      },
      "text/plain": [
       "Image(value=b'\\x89PNG\\r\\n\\x1a\\n\\x00\\x00\\x00\\rIHDR\\x00\\x00\\x05\\\\\\x00\\x00\\x02\\n\\x08\\x06\\x00\\x00\\x00\\xdf\\xf0\\x84\\…"
      ]
     },
     "metadata": {},
     "output_type": "display_data"
    }
   ],
   "source": [
    "file = open(\"Figures/join_faa.png\", \"rb\")\n",
    "image = file.read()\n",
    "\n",
    "image= widgets.Image(\n",
    "                    value=image,\n",
    "                    format='png',\n",
    "                    width='900px'\n",
    "                )\n",
    "display(image)"
   ]
  },
  {
   "cell_type": "markdown",
   "id": "74315027",
   "metadata": {},
   "source": [
    "VerticaPy allows a lot more flexibility apart from the simple left joins above. To learn more about joins, click <a href=\"https://www.vertica.com/python/documentation_last/vdataframe/main-methods/join/index.php\">here</a>."
   ]
  },
  {
   "cell_type": "markdown",
   "id": "95d099e2",
   "metadata": {},
   "source": [
    "***"
   ]
  },
  {
   "cell_type": "markdown",
   "id": "ca2aa185",
   "metadata": {},
   "source": [
    "<font style=\"font-family:Calibri\"> Author Name: Umar Farooq Ghumman\n",
    "<br>\n",
    "Author Contact: umarfarooq.ghumman@vertica.com</font>"
   ]
  },
  {
   "cell_type": "markdown",
   "id": "185edfa5",
   "metadata": {},
   "source": [
    "### Resources\n",
    "\n",
    "- [<font size='2'>US Flights 2015 dataset</font>](https://www.kaggle.com/datasets/usdot/flight-delays)"
   ]
  }
 ],
 "metadata": {
  "kernelspec": {
   "display_name": "Python 3 (ipykernel)",
   "language": "python",
   "name": "python3"
  },
  "language_info": {
   "codemirror_mode": {
    "name": "ipython",
    "version": 3
   },
   "file_extension": ".py",
   "mimetype": "text/x-python",
   "name": "python",
   "nbconvert_exporter": "python",
   "pygments_lexer": "ipython3",
   "version": "3.9.12"
  }
 },
 "nbformat": 4,
 "nbformat_minor": 5
}
