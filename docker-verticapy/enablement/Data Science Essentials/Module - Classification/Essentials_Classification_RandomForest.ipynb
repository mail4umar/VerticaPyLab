{
 "cells": [
  {
   "cell_type": "code",
   "execution_count": 2,
   "id": "d8813b06",
   "metadata": {},
   "outputs": [],
   "source": [
    "import ipywidgets as widgets\n",
    "from IPython.display import display, clear_output\n",
    "from ipywidgets import Layout"
   ]
  },
  {
   "cell_type": "code",
   "execution_count": 3,
   "id": "73c74fd4",
   "metadata": {},
   "outputs": [
    {
     "data": {
      "text/html": [
       "<!--The top Logo and the menu bar-->\n",
       "\n",
       "<head>\n",
       "<meta name=\"viewport\" content=\"width=device-width, initial-scale=1\">\n",
       "<style>\n",
       "body {\n",
       "  font-family: Arial, Helvetica, sans-serif;\n",
       "  margin: 0 0 0 0px;\n",
       "}\n",
       ".back{\n",
       "    height: 130px;\n",
       "    width: 100%;\n",
       "    background-color:#263133;\n",
       "    display: flex;\n",
       "    align-items: center;\n",
       "}\n",
       ".navbar_0 {\n",
       "  overflow: hidden;\n",
       "  background-color: #263133; \n",
       "  display: block;\n",
       "}\n",
       ".navbar_0 a {\n",
       "  float: left;\n",
       "  font-size: 16px;\n",
       "  color: white;\n",
       "  text-align: center;\n",
       "  padding: 14px 16px;\n",
       "  text-decoration: none;\n",
       "  overflow: visible;\n",
       "  display: inline-block;\n",
       "}\n",
       ".subnav {\n",
       "  float: left;\n",
       "  overflow: hidden;\n",
       "}\n",
       ".subnav .subnavbtn {\n",
       "  font-size: 16px;\n",
       "  border: none;\n",
       "  outline: none;\n",
       "  color: white;\n",
       "  padding: 14px 16px;\n",
       "  background-color: inherit;\n",
       "  font-family: inherit;\n",
       "  margin: 0;\n",
       "  position: relative;\n",
       "}\n",
       ".navbar_0 a:hover, .subnav:hover .subnavbtn {\n",
       "  position:relative;\n",
       "  display:inlije-block;\n",
       "  overflow:visible;\n",
       "  background-color: #F48B34;\n",
       "}\n",
       ".subnav-content {\n",
       "  display: none;\n",
       "  position: absolute;\n",
       "  left: 0;\n",
       "  background-color: #263133;\n",
       "  width: 100%;\n",
       "  z-index: 1;\n",
       "    border-style: solid;\n",
       "  border-color: white;\n",
       "    border-width:1px;\n",
       "}\n",
       ".subnav-content a {\n",
       "  float: left;\n",
       "  overflow:visible;\n",
       "  color: white;\n",
       "  text-decoration: none;\n",
       "}\n",
       ".subnav-content a:hover {\n",
       "  background-color: #F48B34;\n",
       "  color: black;\n",
       "}\n",
       ".subnav:hover .subnav-content {\n",
       "  display: block;\n",
       "}\n",
       "</style>\n",
       "</head>\n",
       "\n",
       "\n",
       "\n",
       "\n",
       "\n",
       "<style>\n",
       ".content_0 {\n",
       "  display: flex;\n",
       "  text-align: center;\n",
       "  vertical-align: middle;\n",
       "}\n",
       "\n",
       "\n",
       ".icon-container {\n",
       "  margin-top: 0px;\n",
       "  width: 100%;\n",
       "  height: 70px;\n",
       "}\n",
       "\n",
       ".icon {\n",
       "  cursor: pointer;\n",
       "  position: relative;\n",
       "  display: inline-block;\n",
       "  width: 45px;\n",
       "  height: 45px;\n",
       "  margin-left: 12px;\n",
       "  margin-right: 12px;\n",
       "  border-radius: 30px;\n",
       "  overflow: hidden;\n",
       "  background-color:white;\n",
       "}\n",
       ".icon::before, .icon::after {\n",
       "  content: \"\";\n",
       "  position: absolute;\n",
       "  top: 0;\n",
       "  left: 0;\n",
       "  height: 100%;\n",
       "  width: 100%;\n",
       "  transition: all 0.25s ease;\n",
       "  border-radius: 30px;\n",
       "}\n",
       ".icon i {\n",
       "  position: relative;\n",
       "  color: #263133;\n",
       "  font-size: 24px;\n",
       "  margin-top: 10px;\n",
       "  transition: all 0.25s ease;\n",
       "}\n",
       "\n",
       ".icon-fill::before {\n",
       "  transition-duration: 0.7s;\n",
       "}\n",
       ".icon-fill:hover::before {\n",
       "  box-shadow: inset 0 0 0 60px #F48B34;\n",
       "    \n",
       "}\n",
       "</style>\n",
       "\n",
       "\n",
       "\n",
       "\n",
       "\n",
       "<body>\n",
       "<div class=back>\n",
       "<img src=\"Figures/v2.svg.png\" alt=\"Vertica logo\" width=\"300\">\n",
       "</div>\n",
       "<div class=\"navbar_0\">\n",
       "\n",
       "  <div class=\"subnav\">\n",
       "    <div class=\"content_0\">\n",
       "      <div class=\"icon-container\">\n",
       "        <div class=\"icon icon-fill\" onclick=\"window.location.href = 'http://localhost:8888/voila/render/Documents/GitHub/vertica-demo/docker-verticapy/enablement/Template/Course_Page_v1.ipynb';\"><i class=\"fa fa-home\"></i></div>\n",
       "      </div>\n",
       "    </div>\n",
       "  </div>\n",
       "\n",
       "  <div class=\"subnav\">\n",
       "    <button class=\"subnavbtn\">Courses <i class=\"fa fa-caret-down\"></i></button>\n",
       "    <div class=\"subnav-content\">\n",
       "      <a href=\"#\">Course 1</a>\n",
       "      <a href=\"#\">Course 2</a>\n",
       "      <a href=\"#\">Course 3</a>\n",
       "    </div>\n",
       "  </div> \n",
       "  <div class=\"subnav\">\n",
       "    <button class=\"subnavbtn\">Documentation <i class=\"fa fa-caret-down\"></i></button>\n",
       "    <div class=\"subnav-content\">\n",
       "      <a href=\"#\">Topic 1</a>\n",
       "      <a href=\"#\">Topic 2</a>\n",
       "      <a href=\"#\">Topic 3</a>\n",
       "    </div>\n",
       "  </div> \n",
       "    <div class=\"subnav\">\n",
       "    <button class=\"subnavbtn\">Quick Examples <i class=\"fa fa-caret-down\"></i></button>\n",
       "    <div class=\"subnav-content\">\n",
       "      <a href=\"#\">Example 1</a>\n",
       "      <a href=\"#\">Example 2</a>\n",
       "      <a href=\"#\">Example 3 3</a>\n",
       "    </div>\n",
       "  </div> \n",
       "  <a href=\"#contact\">Contact</a>\n",
       "</div>\n",
       "</body>\n"
      ],
      "text/plain": [
       "<IPython.core.display.HTML object>"
      ]
     },
     "metadata": {},
     "output_type": "display_data"
    }
   ],
   "source": [
    "%%html\n",
    "<!--The top Logo and the menu bar-->\n",
    "\n",
    "<head>\n",
    "<meta name=\"viewport\" content=\"width=device-width, initial-scale=1\">\n",
    "<style>\n",
    "body {\n",
    "  font-family: Arial, Helvetica, sans-serif;\n",
    "  margin: 0 0 0 0px;\n",
    "}\n",
    ".back{\n",
    "    height: 130px;\n",
    "    width: 100%;\n",
    "    background-color:#263133;\n",
    "    display: flex;\n",
    "    align-items: center;\n",
    "}\n",
    ".navbar_0 {\n",
    "  overflow: hidden;\n",
    "  background-color: #263133; \n",
    "  display: block;\n",
    "}\n",
    ".navbar_0 a {\n",
    "  float: left;\n",
    "  font-size: 16px;\n",
    "  color: white;\n",
    "  text-align: center;\n",
    "  padding: 14px 16px;\n",
    "  text-decoration: none;\n",
    "  overflow: visible;\n",
    "  display: inline-block;\n",
    "}\n",
    ".subnav {\n",
    "  float: left;\n",
    "  overflow: hidden;\n",
    "}\n",
    ".subnav .subnavbtn {\n",
    "  font-size: 16px;\n",
    "  border: none;\n",
    "  outline: none;\n",
    "  color: white;\n",
    "  padding: 14px 16px;\n",
    "  background-color: inherit;\n",
    "  font-family: inherit;\n",
    "  margin: 0;\n",
    "  position: relative;\n",
    "}\n",
    ".navbar_0 a:hover, .subnav:hover .subnavbtn {\n",
    "  position:relative;\n",
    "  display:inlije-block;\n",
    "  overflow:visible;\n",
    "  background-color: #F48B34;\n",
    "}\n",
    ".subnav-content {\n",
    "  display: none;\n",
    "  position: absolute;\n",
    "  left: 0;\n",
    "  background-color: #263133;\n",
    "  width: 100%;\n",
    "  z-index: 1;\n",
    "    border-style: solid;\n",
    "  border-color: white;\n",
    "    border-width:1px;\n",
    "}\n",
    ".subnav-content a {\n",
    "  float: left;\n",
    "  overflow:visible;\n",
    "  color: white;\n",
    "  text-decoration: none;\n",
    "}\n",
    ".subnav-content a:hover {\n",
    "  background-color: #F48B34;\n",
    "  color: black;\n",
    "}\n",
    ".subnav:hover .subnav-content {\n",
    "  display: block;\n",
    "}\n",
    "</style>\n",
    "</head>\n",
    "\n",
    "\n",
    "\n",
    "\n",
    "\n",
    "<style>\n",
    ".content_0 {\n",
    "  display: flex;\n",
    "  text-align: center;\n",
    "  vertical-align: middle;\n",
    "}\n",
    "\n",
    "\n",
    ".icon-container {\n",
    "  margin-top: 0px;\n",
    "  width: 100%;\n",
    "  height: 70px;\n",
    "}\n",
    "\n",
    ".icon {\n",
    "  cursor: pointer;\n",
    "  position: relative;\n",
    "  display: inline-block;\n",
    "  width: 45px;\n",
    "  height: 45px;\n",
    "  margin-left: 12px;\n",
    "  margin-right: 12px;\n",
    "  border-radius: 30px;\n",
    "  overflow: hidden;\n",
    "  background-color:white;\n",
    "}\n",
    ".icon::before, .icon::after {\n",
    "  content: \"\";\n",
    "  position: absolute;\n",
    "  top: 0;\n",
    "  left: 0;\n",
    "  height: 100%;\n",
    "  width: 100%;\n",
    "  transition: all 0.25s ease;\n",
    "  border-radius: 30px;\n",
    "}\n",
    ".icon i {\n",
    "  position: relative;\n",
    "  color: #263133;\n",
    "  font-size: 24px;\n",
    "  margin-top: 10px;\n",
    "  transition: all 0.25s ease;\n",
    "}\n",
    "\n",
    ".icon-fill::before {\n",
    "  transition-duration: 0.7s;\n",
    "}\n",
    ".icon-fill:hover::before {\n",
    "  box-shadow: inset 0 0 0 60px #F48B34;\n",
    "    \n",
    "}\n",
    "</style>\n",
    "\n",
    "\n",
    "\n",
    "\n",
    "\n",
    "<body>\n",
    "<div class=back>\n",
    "<img src=\"Figures/v2.svg.png\" alt=\"Vertica logo\" width=\"300\">\n",
    "</div>\n",
    "<div class=\"navbar_0\">\n",
    "\n",
    "  <div class=\"subnav\">\n",
    "    <div class=\"content_0\">\n",
    "      <div class=\"icon-container\">\n",
    "        <div class=\"icon icon-fill\" onclick=\"window.location.href = 'http://localhost:8888/voila/render/Documents/GitHub/vertica-demo/docker-verticapy/enablement/Template/Course_Page_v1.ipynb';\"><i class=\"fa fa-home\"></i></div>\n",
    "      </div>\n",
    "    </div>\n",
    "  </div>\n",
    "\n",
    "  <div class=\"subnav\">\n",
    "    <button class=\"subnavbtn\">Courses <i class=\"fa fa-caret-down\"></i></button>\n",
    "    <div class=\"subnav-content\">\n",
    "      <a href=\"#\">Course 1</a>\n",
    "      <a href=\"#\">Course 2</a>\n",
    "      <a href=\"#\">Course 3</a>\n",
    "    </div>\n",
    "  </div> \n",
    "  <div class=\"subnav\">\n",
    "    <button class=\"subnavbtn\">Documentation <i class=\"fa fa-caret-down\"></i></button>\n",
    "    <div class=\"subnav-content\">\n",
    "      <a href=\"#\">Topic 1</a>\n",
    "      <a href=\"#\">Topic 2</a>\n",
    "      <a href=\"#\">Topic 3</a>\n",
    "    </div>\n",
    "  </div> \n",
    "    <div class=\"subnav\">\n",
    "    <button class=\"subnavbtn\">Quick Examples <i class=\"fa fa-caret-down\"></i></button>\n",
    "    <div class=\"subnav-content\">\n",
    "      <a href=\"#\">Example 1</a>\n",
    "      <a href=\"#\">Example 2</a>\n",
    "      <a href=\"#\">Example 3 3</a>\n",
    "    </div>\n",
    "  </div> \n",
    "  <a href=\"#contact\">Contact</a>\n",
    "</div>\n",
    "</body>"
   ]
  },
  {
   "cell_type": "code",
   "execution_count": 4,
   "id": "b1fec60f",
   "metadata": {},
   "outputs": [
    {
     "data": {
      "text/html": [
       "<!--Style for correct and incorrect prompts-->\n",
       "<style>\n",
       "\n",
       ".correct-prompt {\n",
       "  font-family: \"Helvetica\", \"Arial\", sans-serif;\n",
       "  display: inline-block;\n",
       "  font-size: 17px;\n",
       "  background-color: green;\n",
       "  color: #fff;\n",
       "  border-radius: 4px;\n",
       "  position: relative;\n",
       "  box-shadow: 0 2px 25px rgba(25,163,97,0.75);\n",
       "  padding:5px;\n",
       "}\n",
       ".incorrect-prompt {\n",
       "  font-family: \"Helvetica\", \"Arial\", sans-serif;\n",
       "  display: inline-block;\n",
       "  font-size: 17px;\n",
       "  background-color: red;\n",
       "  color: #fff;\n",
       "  border-radius: 4px;\n",
       "  position: relative;\n",
       "  box-shadow: 0 2px 25px rgba(255, 0, 130, 0.5);\n",
       "  padding:5px;\n",
       "}  \n",
       "</style>\n"
      ],
      "text/plain": [
       "<IPython.core.display.HTML object>"
      ]
     },
     "metadata": {},
     "output_type": "display_data"
    }
   ],
   "source": [
    "%%html\n",
    "<!--Style for correct and incorrect prompts-->\n",
    "<style>\n",
    "\n",
    ".correct-prompt {\n",
    "  font-family: \"Helvetica\", \"Arial\", sans-serif;\n",
    "  display: inline-block;\n",
    "  font-size: 17px;\n",
    "  background-color: green;\n",
    "  color: #fff;\n",
    "  border-radius: 4px;\n",
    "  position: relative;\n",
    "  box-shadow: 0 2px 25px rgba(25,163,97,0.75);\n",
    "  padding:5px;\n",
    "}\n",
    ".incorrect-prompt {\n",
    "  font-family: \"Helvetica\", \"Arial\", sans-serif;\n",
    "  display: inline-block;\n",
    "  font-size: 17px;\n",
    "  background-color: red;\n",
    "  color: #fff;\n",
    "  border-radius: 4px;\n",
    "  position: relative;\n",
    "  box-shadow: 0 2px 25px rgba(255, 0, 130, 0.5);\n",
    "  padding:5px;\n",
    "}  \n",
    "</style>"
   ]
  },
  {
   "cell_type": "code",
   "execution_count": 5,
   "id": "8b0862f1",
   "metadata": {},
   "outputs": [],
   "source": [
    "# Defining a function for multiple choice widgets\n",
    "\n",
    "def create_multipleChoice_widget(options, correct_answer):\n",
    "    if correct_answer not in options:\n",
    "        options.append(correct_answer)\n",
    "    \n",
    "    correct_answer_index = options.index(correct_answer)\n",
    "    \n",
    "    radio_options = [(words, i) for i, words in enumerate(options)]\n",
    "    alternativ = widgets.RadioButtons(\n",
    "        options = radio_options,\n",
    "        description = '',\n",
    "        disabled = False\n",
    "    )\n",
    "    \n",
    "    description_out = widgets.Output()\n",
    "#    with description_out:\n",
    "#        print(description)\n",
    "        \n",
    "    feedback_out = widgets.Output()\n",
    "\n",
    "    def check_selection(b):\n",
    "        a = int(alternativ.value)\n",
    "        if a==correct_answer_index:\n",
    "            s = widgets.HTML('<div class=\"correct-prompt\">Correct!</div>')\n",
    "        else:\n",
    "            s = widgets.HTML('<div class=\"incorrect-prompt\">Try Again!</div>')\n",
    "        with feedback_out:\n",
    "            clear_output()\n",
    "            display(s)\n",
    "        return\n",
    "    \n",
    "    check = widgets.Button(description=\"submit\")\n",
    "    check.on_click(check_selection)\n",
    "    \n",
    "    \n",
    "    return widgets.VBox([description_out, alternativ, check, feedback_out])\n",
    "\n",
    "def create_numeric_widget(correct_answer):\n",
    "    \n",
    "    #correct_answer_index = options.index(correct_answer)\n",
    "    \n",
    "    #radio_options = [(words, i) for i, words in enumerate(options)]\n",
    "    alternativ = widgets.Text(\n",
    "        #options = radio_options,\n",
    "        #description = '',\n",
    "        disabled = False\n",
    "    )\n",
    "    \n",
    "    description_out = widgets.Output()\n",
    "#    with description_out:\n",
    "#        print(description)\n",
    "        \n",
    "    feedback_out = widgets.Output()\n",
    "\n",
    "    def check_selection(b):\n",
    "        try:\n",
    "            a = int(alternativ.value)\n",
    "        except ValueError:\n",
    "            a = float(alternativ.value)\n",
    "        if a==correct_answer:\n",
    "            s = widgets.HTML('<div class=\"correct-prompt\">Correct!</div>')\n",
    "        else:\n",
    "            s = widgets.HTML('<div class=\"incorrect-prompt\">Try Again!</div>')\n",
    "        with feedback_out:\n",
    "            clear_output()\n",
    "            display(s)\n",
    "        return\n",
    "    \n",
    "    check = widgets.Button(description=\"submit\")\n",
    "    check.on_click(check_selection)\n",
    "    \n",
    "    \n",
    "    return widgets.VBox([description_out, alternativ, check, feedback_out])"
   ]
  },
  {
   "cell_type": "code",
   "execution_count": 6,
   "id": "dab1e034",
   "metadata": {},
   "outputs": [
    {
     "data": {
      "text/html": [
       "<!--Module Button-->\n",
       "\n",
       "<style>\n",
       ".moduler{\n",
       "    box-shadow: 0px 15px 10px -15px #F48B34;  \n",
       "    font-size:30px;\n",
       "    color: blue;\n",
       "}\n",
       "    </style>\n",
       "    \n",
       "<div class=\"moduler\">\n",
       "  <a href=\"http://localhost:8888/voila/render/Documents/GitHub/vertica-demo/docker-verticapy/enablement/Template/Module_Page_v1.ipynb\">Classification</a>\n",
       "</div>\n"
      ],
      "text/plain": [
       "<IPython.core.display.HTML object>"
      ]
     },
     "metadata": {},
     "output_type": "display_data"
    }
   ],
   "source": [
    "%%html\n",
    "<!--Module Button-->\n",
    "\n",
    "<style>\n",
    ".moduler{\n",
    "    box-shadow: 0px 15px 10px -15px #F48B34;  \n",
    "    font-size:30px;\n",
    "    color: blue;\n",
    "}\n",
    "    </style>\n",
    "    \n",
    "<div class=\"moduler\">\n",
    "  <a href=\"http://localhost:8888/voila/render/Documents/GitHub/vertica-demo/docker-verticapy/enablement/Template/Module_Page_v1.ipynb\">Classification</a>\n",
    "</div>\n"
   ]
  },
  {
   "cell_type": "markdown",
   "id": "1eb61592",
   "metadata": {},
   "source": [
    "## Random Forest"
   ]
  },
  {
   "cell_type": "code",
   "execution_count": 1,
   "id": "8e5bc7f2",
   "metadata": {},
   "outputs": [
    {
     "data": {
      "text/html": [
       "<!--Time required-->\n",
       "<i class=\"fas fa-clock\" style='color:#F48B34;font-size:18px;'></i> 10 mins\n"
      ],
      "text/plain": [
       "<IPython.core.display.HTML object>"
      ]
     },
     "metadata": {},
     "output_type": "display_data"
    }
   ],
   "source": [
    "%%html\n",
    "<!--Time required-->\n",
    "<i class=\"fas fa-clock\" style='color:#F48B34;font-size:18px;'></i> 10 mins"
   ]
  },
  {
   "cell_type": "markdown",
   "id": "989fd8da",
   "metadata": {},
   "source": [
    "### Table of Contents\n",
    "\n",
    "- [Introduction to Decision Trees](#h1_cell)\n",
    "- [Random Forest](#h2_cell)\n"
   ]
  },
  {
   "cell_type": "markdown",
   "id": "e359fcc6",
   "metadata": {},
   "source": [
    "### What you will learn in this module?\n",
    "\n",
    "- What are decision trees?\n",
    "- What are the limitation of decision trees?\n",
    "- What is bagging?\n",
    "- What is Random Forest classifier?"
   ]
  },
  {
   "cell_type": "markdown",
   "id": "e4eae0c4",
   "metadata": {},
   "source": [
    "***"
   ]
  },
  {
   "cell_type": "markdown",
   "id": "e91b7444",
   "metadata": {},
   "source": [
    "<a id='h1_cell'></a>\n",
    "### Introduction to Decision Trees\n"
   ]
  },
  {
   "cell_type": "markdown",
   "id": "aca0d9dc",
   "metadata": {},
   "source": [
    "In classification problems where the number of classes is greater than two, logistic regression is not applicable. For such multinomial classficiation, we need to look for different methods. One such method is decision trees. It is a type of non-linear model which is very similar to how humans actually think. Let's take example of a very common decision tree which tells me when will I get up depending on two predictors: (1) workday (2) exercise day. The outputs are three classes: (1) early, (2) average, and (3) late. \n"
   ]
  },
  {
   "cell_type": "code",
   "execution_count": 23,
   "id": "76798435",
   "metadata": {},
   "outputs": [
    {
     "data": {
      "application/vnd.jupyter.widget-view+json": {
       "model_id": "7161b2c1f1424bd49d320676b286223c",
       "version_major": 2,
       "version_minor": 0
      },
      "text/plain": [
       "Image(value=b'\\x89PNG\\r\\n\\x1a\\n\\x00\\x00\\x00\\rIHDR\\x00\\x00\\x05\\xb5\\x00\\x00\\x04\\xd7\\x08\\x03\\x00\\x00\\x00\\xee\\xa9h…"
      ]
     },
     "metadata": {},
     "output_type": "display_data"
    }
   ],
   "source": [
    "file = open(\"Figures/basic_tree_1.png\", \"rb\")\n",
    "image = file.read()\n",
    "\n",
    "image_0= widgets.Image(\n",
    "                    value=image,\n",
    "                    format='png',\n",
    "                    width='400px'\n",
    "                )\n",
    "\n",
    "display(image_0)"
   ]
  },
  {
   "cell_type": "markdown",
   "id": "b4e7a234",
   "metadata": {},
   "source": [
    "Here we can clearly see that there are three regions completely enclosed by clear boundaries. This enables a tree like representation of such a chart."
   ]
  },
  {
   "cell_type": "code",
   "execution_count": 26,
   "id": "cecda99a",
   "metadata": {
    "scrolled": true
   },
   "outputs": [
    {
     "data": {
      "application/vnd.jupyter.widget-view+json": {
       "model_id": "401a0a54f238449aaae5275417c9d038",
       "version_major": 2,
       "version_minor": 0
      },
      "text/plain": [
       "Image(value=b'\\x89PNG\\r\\n\\x1a\\n\\x00\\x00\\x00\\rIHDR\\x00\\x00\\x06\\x99\\x00\\x00\\x03\\xb7\\x08\\x03\\x00\\x00\\x00\\xefy\\xdc…"
      ]
     },
     "metadata": {},
     "output_type": "display_data"
    }
   ],
   "source": [
    "file = open(\"Figures/basic_tree_2.png\", \"rb\")\n",
    "image = file.read()\n",
    "\n",
    "image_0= widgets.Image(\n",
    "                    value=image,\n",
    "                    format='png',\n",
    "                    width='600px'\n",
    "                )\n",
    "\n",
    "display(image_0)"
   ]
  },
  {
   "cell_type": "markdown",
   "id": "5184a7d5",
   "metadata": {},
   "source": [
    "This is a proper repreesntation of a decision tree. A decision tree has three elements:\n",
    "\n",
    "1. Root node : The top of the tree\n",
    "2. Decision node: Where the branch is split\n",
    "3. Leaf node (or terminal node): Where the final output is predicted\n",
    "\n"
   ]
  },
  {
   "cell_type": "markdown",
   "id": "62007597",
   "metadata": {},
   "source": [
    "\n",
    "The biggest benifit of decision trees are:\n",
    "\n",
    "- Easy to interpret\n",
    "- Easy to graphically illustrate\n",
    "- There is no need for a dummy variable to encode the predictors\n"
   ]
  },
  {
   "cell_type": "markdown",
   "id": "0fd80fd7",
   "metadata": {},
   "source": [
    "The main idea of using decision trees for prediction is based on two steps: \n",
    "1. Dividing the entire predictor space into $j$ distinct regions.\n",
    "2. For every observation that falls into a region $R_{j}$, we make the same prediction.\n",
    "\n",
    "Then the question becomes: how to we divide the predictor space into sub-regions? Before answering that, let us first see what is the goal of the classification tree? It is to classify accurately based on the raining data. Or in other words, reduce the classification error rate defined as:\n",
    "\n",
    "\n",
    "\\begin{equation}\n",
    "  E = 1 - \\operatorname*{max}_k \\hat{p}_{mk},\n",
    "\\end{equation}\n",
    "\n",
    "where $\\hat{p}_{mk}$ is the proportion of training observations in the $m$th region that are from $k$th class. However, it turns out that the above metric is not sensitive to tree-growing and other metrics such as gini index are preferred:\n",
    "\n",
    "\\begin{equation}\n",
    "  G =\\sum_{k=1}^{K} \\hat{p}_{mk} (1-\\hat{p}_{mk})\n",
    "\\end{equation}\n",
    "\n",
    "Gini index is a measure of variance across all K classes. GI gives a small value when all he \\hat{p}_{mk} are either close o 0 or 1, i.e., the nodes consist of one pure class. That is why it is also referred to as the purity index.\n",
    "\n",
    "Now that the goal is defined, we can go back to the question of dividing the region ino sub-regions. This is done using recursive binary splitting which is defined as follows:\n",
    "\n",
    "For example, we have $J$ predictors. Starting from the root node, we divide the space using J predictors, and for each of the $j$ predictor, we try all possible cutoff values (s). For each of these combinations of $j$ and $s$, we calculate the goal (whether it is the gini index or some other). Whichever combination of $s$ and $j$ gives us the best goal, we take that and use it to split our tree. In the next step, we again try the remaining predictors and their cutoff values to find the best one. We keep dividing until we reach a predefined number of leaf nodes or we a predefined minimum limit of samples in each leaf node.\n",
    "\n",
    "One big limitation of decision trees is that they are very prone to over-fitting. To overcome this challenge, the decision trees can be pruned. Another limitation of decision trees are that they are high-variance models. This means that they are very sensitive to the selection of data. For two sub-samples from the same data, decision trees could train very different trees. In the next section, we will see how random forests can overcome these challenges. "
   ]
  },
  {
   "cell_type": "markdown",
   "id": "f691e3b2",
   "metadata": {},
   "source": [
    "<div class=\"alert alert-block alert-success\">\n",
    "<b>Knowledge Check:</b> Which type of models are decision trees?\n",
    "</div>"
   ]
  },
  {
   "cell_type": "code",
   "execution_count": 27,
   "id": "4e6614e6",
   "metadata": {},
   "outputs": [],
   "source": [
    "Q1 = create_multipleChoice_widget(['High-variance and low-bias','Low-variance and low-bias','Low-variance and high-bias'],'High-variance and low-bias')"
   ]
  },
  {
   "cell_type": "code",
   "execution_count": 28,
   "id": "3daeb0c6",
   "metadata": {},
   "outputs": [
    {
     "data": {
      "application/vnd.jupyter.widget-view+json": {
       "model_id": "7aac8b4648e64b2db904d6a45d3fa180",
       "version_major": 2,
       "version_minor": 0
      },
      "text/plain": [
       "VBox(children=(Output(), RadioButtons(options=(('High-variance and low-bias', 0), ('Low-variance and low-bias'…"
      ]
     },
     "metadata": {},
     "output_type": "display_data"
    }
   ],
   "source": [
    "display(Q1)"
   ]
  },
  {
   "cell_type": "markdown",
   "id": "3b946cb8",
   "metadata": {},
   "source": [
    "***"
   ]
  },
  {
   "cell_type": "markdown",
   "id": "3fd84ef3",
   "metadata": {},
   "source": [
    "<a id='h2_cell'></a>\n",
    "### Bagging and Random Forest"
   ]
  },
  {
   "cell_type": "markdown",
   "id": "0ef0675d",
   "metadata": {},
   "source": [
    "To overcome the challenge of high-variance of decision trees, we can apply bootstrap aggregation, or bagging for short. The idea is to create multiple sub-datasets from a larger datasets with replacement. And then using these sub-datasets, create multiple models. Finally average out the results from all these models to give one value which has lower variance. Mathematically speaking:\n",
    "\n",
    "\n",
    "\\begin{equation}\n",
    "  \\hat{f}_{bag}(x)=\\frac{1}{B} \\sum_{b=1}^{B} \\hat{f}^{*b}(x),\n",
    "\\end{equation}\n",
    "\n",
    "where we have B different bootstrapped training data sets to trian the models/function $hat{f}^{*b}(x)$. The above equation is more accurate for regression problems. For classification, we could just use the most occuring class from all the models.\n",
    "\n",
    "One issue with the above approach is that even in multiple samples, there is a big possibility that the most dominnat feature will be used in the top split, and this will not reduce the variance. It will create bagged trees which cloesly resemble to each other. To overcome this we use Random Forest.\n",
    "\n",
    "Random Forest basically just restrict the set of predictors to choose from at each split. At each split only a subset of $m$ predictors is allowed from the total of $p$ predictors. Typically, we choose $m=\\sqrt{p}$, but we can play around this value to coltrol how much randomness we want. If $m=p$, then this is just simple bagging."
   ]
  },
  {
   "cell_type": "markdown",
   "id": "188c5010",
   "metadata": {},
   "source": [
    "In the next lesson, we can try out an example to try Random Forest using VerticaPy. "
   ]
  },
  {
   "cell_type": "markdown",
   "id": "c02f25ee",
   "metadata": {},
   "source": [
    "***"
   ]
  },
  {
   "cell_type": "markdown",
   "id": "ca2aa185",
   "metadata": {},
   "source": [
    "<font style=\"font-family:Calibri\"> Author Name: Umar Farooq Ghumman\n",
    "<br>\n",
    "Author Contact: umarfarooq.ghumman@vertica.com</font>"
   ]
  },
  {
   "cell_type": "markdown",
   "id": "185edfa5",
   "metadata": {},
   "source": [
    "### Resources\n",
    "\n",
    "- [<font size='2'>Introduction to statistical learning</font>](https://www.statlearning.com/)"
   ]
  }
 ],
 "metadata": {
  "kernelspec": {
   "display_name": "Python 3 (ipykernel)",
   "language": "python",
   "name": "python3"
  },
  "language_info": {
   "codemirror_mode": {
    "name": "ipython",
    "version": 3
   },
   "file_extension": ".py",
   "mimetype": "text/x-python",
   "name": "python",
   "nbconvert_exporter": "python",
   "pygments_lexer": "ipython3",
   "version": "3.8.14"
  }
 },
 "nbformat": 4,
 "nbformat_minor": 5
}
