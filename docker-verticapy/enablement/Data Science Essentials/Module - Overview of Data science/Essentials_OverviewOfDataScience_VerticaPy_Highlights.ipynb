{
 "cells": [
  {
   "cell_type": "code",
   "execution_count": null,
   "id": "d8813b06",
   "metadata": {},
   "outputs": [],
   "source": [
    "import ipywidgets as widgets\n",
    "from IPython.display import display, clear_output\n",
    "from ipywidgets import Layout"
   ]
  },
  {
   "cell_type": "code",
   "execution_count": null,
   "id": "73c74fd4",
   "metadata": {},
   "outputs": [],
   "source": [
    "%%html\n",
    "<!--The top Logo and the menu bar-->\n",
    "\n",
    "<head>\n",
    "<meta name=\"viewport\" content=\"width=device-width, initial-scale=1\">\n",
    "<style>\n",
    "body {\n",
    "  font-family: Arial, Helvetica, sans-serif;\n",
    "  margin: 0px 0px 0px 0px;\n",
    "}\n",
    ".back{\n",
    "    height: 130px;\n",
    "    width: 100%;\n",
    "    background-color:#263133;\n",
    "    display: flex;\n",
    "    align-items: center;\n",
    "}\n",
    ".navbar_0 {\n",
    "  overflow: hidden;\n",
    "  background-color: #263133; \n",
    "  display: block;\n",
    "  z-index: 2;\n",
    "}\n",
    ".navbar_0 a {\n",
    "  float: left;\n",
    "  font-size: 16px;\n",
    "  color: white;\n",
    "  text-align: center;\n",
    "  padding: 14px 16px;\n",
    "  text-decoration: none;\n",
    "  overflow: visible;\n",
    "  display: inline-block;\n",
    "  z-index: 2;\n",
    "}\n",
    ".subnav {\n",
    "  float: left;\n",
    "  display:inline-block;\n",
    "  overflow: visible;\n",
    "}\n",
    ".subnav .subnavbtn {\n",
    "  font-size: 16px;\n",
    "  border: none;\n",
    "  outline: none;\n",
    "  color: white;\n",
    "  padding: 14px 16px;\n",
    "  background-color: inherit;\n",
    "  font-family: inherit;\n",
    "  margin: 0;\n",
    "  position: relative;\n",
    "}\n",
    ".navbar_0 a:hover, .subnav:hover .subnavbtn {\n",
    "  position:relative;\n",
    "  display:inline-block;\n",
    "  overflow:visible;\n",
    "  background-color: #1a6aff;\n",
    "}\n",
    ".subnav-content {\n",
    "  display: none;\n",
    "  overflow: visible;\n",
    "  position: absolute;\n",
    "  left: 0;\n",
    "  background-color: #263133;\n",
    "  width: 100%;\n",
    "  z-index: 3;\n",
    "  border-style: solid;\n",
    "  border-color: white;\n",
    "  border-width:1px;\n",
    "    \n",
    "}\n",
    ".subnav-content a {\n",
    "  float: left;\n",
    "  overflow:visible;\n",
    "  color: white;\n",
    "  text-decoration: none;\n",
    "}\n",
    ".subnav-content a:hover {\n",
    "  background-color: #1a6aff;\n",
    "  color: black;\n",
    "}\n",
    ".subnav:hover .subnav-content {\n",
    "  display: block;\n",
    "}\n",
    ".sticky {\n",
    "  position: fixed;\n",
    "  top: 0;\n",
    "  width: 100%;\n",
    "  overflow: visible;\n",
    "}\n",
    "\n",
    ".sticky + .content {\n",
    "  padding-top: 10px;\n",
    "}\n",
    ".sticky_2 {\n",
    "  position: relative;\n",
    "  top: 0;\n",
    "  width: 100%;\n",
    "}\n",
    "</style>\n",
    "</head>\n",
    "\n",
    "<style>\n",
    ".content_0 {\n",
    "  display: flex;\n",
    "  text-align: center;\n",
    "  vertical-align: middle;\n",
    "}\n",
    "\n",
    "\n",
    ".icon-container {\n",
    "  margin-top: 0px;\n",
    "  width: 100%;\n",
    "  height: 70px;\n",
    "}\n",
    "\n",
    ".icon {\n",
    "  cursor: pointer;\n",
    "  position: relative;\n",
    "  display: inline-block;\n",
    "  width: 45px;\n",
    "  height: 45px;\n",
    "  margin-left: 12px;\n",
    "  margin-right: 12px;\n",
    "  border-radius: 30px;\n",
    "  overflow: hidden;\n",
    "  background-color:white;\n",
    "}\n",
    ".icon::before, .icon::after {\n",
    "  content: \"\";\n",
    "  position: absolute;\n",
    "  top: 0;\n",
    "  left: 0;\n",
    "  height: 100%;\n",
    "  width: 100%;\n",
    "  transition: all 0.25s ease;\n",
    "  border-radius: 30px;\n",
    "}\n",
    ".icon i {\n",
    "  position: relative;\n",
    "  color: #263133;\n",
    "  font-size: 24px;\n",
    "  margin-top: 10px;\n",
    "  transition: all 0.25s ease;\n",
    "}\n",
    "\n",
    ".icon-fill::before {\n",
    "  transition-duration: 0.7s;\n",
    "}\n",
    ".icon-fill:hover::before {\n",
    "  box-shadow: inset 0 0 0 60px #1a6aff;\n",
    "    \n",
    "}\n",
    "</style>\n",
    "\n",
    "\n",
    "\n",
    "\n",
    "\n",
    "<body>\n",
    "<div class=back>\n",
    "<img src=\"Figures/v2.svg.png\" alt=\"Vertica logo\" width=\"300\">\n",
    "</div>\n",
    "<div class=\"navbar_0\" id=\"navbar_top\">\n",
    "\n",
    "  <div class=\"subnav\">\n",
    "    <div class=\"content_0\">\n",
    "      <div class=\"icon-container\">\n",
    "        <div class=\"icon icon-fill\" onclick=\"window.location.href = '/voila/render/demos/enablement/Data%20Science%20Essentials/Data_Science_Essentials.ipynb';\"><i class=\"fa fa-home\"></i></div>\n",
    "      </div>\n",
    "    </div>\n",
    "  </div>\n",
    "\n",
    "  <div class=\"subnav\">\n",
    "    <button class=\"subnavbtn\">Courses <i class=\"fa fa-caret-down\"></i></button>\n",
    "    <div class=\"subnav-content\">\n",
    "      <a href=\"/voila/render/demos/enablement/Data%20Science%20Essentials/Data_Science_Essentials.ipynb\">Data Science Essentials</a>\n",
    "\n",
    "    </div>\n",
    "  </div> \n",
    "  <div class=\"subnav\">\n",
    "    <button class=\"subnavbtn\">Documentation <i class=\"fa fa-caret-down\"></i></button>\n",
    "    <div class=\"subnav-content\">\n",
    "      <a href=\"https://www.vertica.com/python/documentation_last/vdataframe/\">vDataFrame</a>\n",
    "      <a href=\"https://www.vertica.com/python/documentation_last/vdataframe/plot.php\">Plots</a>\n",
    "      <a href=\"https://www.vertica.com/python/workshop/ml/\">Machine Learning</a>\n",
    "    </div>\n",
    "  </div> \n",
    "    <div class=\"subnav\">\n",
    "    <button class=\"subnavbtn\">Quick Examples <i class=\"fa fa-caret-down\"></i></button>\n",
    "    <div class=\"subnav-content\">\n",
    "      <a href=\"/voila/render/demos/enablement/Examples/Inference%20of%20geopolitical%20data/Example_Data_Wrangling_And_Analysis.ipynb\">Geopolitical Analysis</a>\n",
    "      <a href=\"https://www.vertica.com/python/examples/\">Business Applications</a>\n",
    "\n",
    "    </div>\n",
    "  </div> \n",
    "  <a href=\"https://www.vertica.com/contact-us/\">Contact</a>\n",
    "</div>\n",
    "</body>"
   ]
  },
  {
   "cell_type": "code",
   "execution_count": null,
   "id": "b1fec60f",
   "metadata": {},
   "outputs": [],
   "source": [
    "%%html\n",
    "<!--Style for correct and incorrect prompts-->\n",
    "<style>\n",
    "\n",
    ".correct-prompt {\n",
    "  font-family: \"Helvetica\", \"Arial\", sans-serif;\n",
    "  display: inline-block;\n",
    "  font-size: 17px;\n",
    "  background-color: green;\n",
    "  color: #fff;\n",
    "  border-radius: 4px;\n",
    "  position: relative;\n",
    "  box-shadow: 0 2px 25px rgba(25,163,97,0.75);\n",
    "  padding:5px;\n",
    "}\n",
    ".incorrect-prompt {\n",
    "  font-family: \"Helvetica\", \"Arial\", sans-serif;\n",
    "  display: inline-block;\n",
    "  font-size: 17px;\n",
    "  background-color: red;\n",
    "  color: #fff;\n",
    "  border-radius: 4px;\n",
    "  position: relative;\n",
    "  box-shadow: 0 2px 25px rgba(255, 0, 130, 0.5);\n",
    "  padding:5px;\n",
    "}  \n",
    "</style>"
   ]
  },
  {
   "cell_type": "code",
   "execution_count": null,
   "id": "8b0862f1",
   "metadata": {},
   "outputs": [],
   "source": [
    "# Defining a function for multiple choice widgets\n",
    "\n",
    "def create_multipleChoice_widget(options, correct_answer):\n",
    "    if correct_answer not in options:\n",
    "        options.append(correct_answer)\n",
    "    \n",
    "    correct_answer_index = options.index(correct_answer)\n",
    "    \n",
    "    radio_options = [(words, i) for i, words in enumerate(options)]\n",
    "    alternativ = widgets.RadioButtons(\n",
    "        options = radio_options,\n",
    "        description = '',\n",
    "        disabled = False\n",
    "    )\n",
    "    \n",
    "    description_out = widgets.Output()\n",
    "#    with description_out:\n",
    "#        print(description)\n",
    "        \n",
    "    feedback_out = widgets.Output()\n",
    "\n",
    "    def check_selection(b):\n",
    "        a = int(alternativ.value)\n",
    "        if a==correct_answer_index:\n",
    "            s = widgets.HTML('<div class=\"correct-prompt\">Correct!</div>')\n",
    "        else:\n",
    "            s = widgets.HTML('<div class=\"incorrect-prompt\">Try Again!</div>')\n",
    "        with feedback_out:\n",
    "            clear_output()\n",
    "            display(s)\n",
    "        return\n",
    "    \n",
    "    check = widgets.Button(description=\"submit\")\n",
    "    check.on_click(check_selection)\n",
    "    \n",
    "    \n",
    "    return widgets.VBox([description_out, alternativ, check, feedback_out])\n",
    "\n",
    "def create_numeric_widget(correct_answer):\n",
    "    \n",
    "    #correct_answer_index = options.index(correct_answer)\n",
    "    \n",
    "    #radio_options = [(words, i) for i, words in enumerate(options)]\n",
    "    alternativ = widgets.Text(\n",
    "        #options = radio_options,\n",
    "        #description = '',\n",
    "        disabled = False\n",
    "    )\n",
    "    \n",
    "    description_out = widgets.Output()\n",
    "#    with description_out:\n",
    "#        print(description)\n",
    "        \n",
    "    feedback_out = widgets.Output()\n",
    "\n",
    "    def check_selection(b):\n",
    "        try:\n",
    "            a = int(alternativ.value)\n",
    "        except ValueError:\n",
    "            a = float(alternativ.value)\n",
    "        if a==correct_answer:\n",
    "            s = widgets.HTML('<div class=\"correct-prompt\">Correct!</div>')\n",
    "        else:\n",
    "            s = widgets.HTML('<div class=\"incorrect-prompt\">Try Again!</div>')\n",
    "        with feedback_out:\n",
    "            clear_output()\n",
    "            display(s)\n",
    "        return\n",
    "    \n",
    "    check = widgets.Button(description=\"submit\")\n",
    "    check.on_click(check_selection)\n",
    "    \n",
    "    \n",
    "    return widgets.VBox([description_out, alternativ, check, feedback_out])"
   ]
  },
  {
   "cell_type": "code",
   "execution_count": null,
   "id": "dab1e034",
   "metadata": {},
   "outputs": [],
   "source": [
    "%%html\n",
    "<!--Module Button-->\n",
    "\n",
    "<style>\n",
    ".moduler{\n",
    "    box-shadow: 0px 15px 10px -15px #1a6aff;  \n",
    "    font-size:30px;\n",
    "    color: blue;\n",
    "}\n",
    "    </style>\n",
    "    \n",
    "<div class=\"moduler\">\n",
    "  <a href=\"/voila/render/demos/enablement/Data%20Science%20Essentials/Module%20-%20Overview%20of%20Data%20science/Essentials_OverviewOfDataScience.ipynb\">\n",
    "    Overview of Data Science</a>\n",
    "</div>\n"
   ]
  },
  {
   "cell_type": "markdown",
   "id": "1eb61592",
   "metadata": {},
   "source": [
    "## VerticaPy Highlights"
   ]
  },
  {
   "cell_type": "code",
   "execution_count": 4,
   "id": "8e5bc7f2",
   "metadata": {},
   "outputs": [
    {
     "data": {
      "text/html": [
       "<i class=\"fas fa-clock\" style='color:#1a6aff'></i> Time in mins\n"
      ],
      "text/plain": [
       "<IPython.core.display.HTML object>"
      ]
     },
     "metadata": {},
     "output_type": "display_data"
    }
   ],
   "source": [
    "%%html\n",
    "<!--Time required-->\n",
    "<i class=\"fas fa-clock\" style='color:#1a6aff;font-size:18px;'></i> 10 mins"
   ]
  },
  {
   "cell_type": "markdown",
   "id": "989fd8da",
   "metadata": {},
   "source": [
    "### Table of Contents\n",
    "\n",
    "- [SQL Magic](#h1_cell)\n",
    "- [SQL Plots](#h2_cell)\n",
    "- [Diverse Database Connection](#h3_cell)\n",
    "- [Python and SQL Combo](#h4_cell)\n",
    "- [Complete ML Pipeline](#h5_cell)\n"
   ]
  },
  {
   "cell_type": "markdown",
   "id": "7a49c17e",
   "metadata": {},
   "source": [
    "In this lesson, we highlight some of the salient features of VerticaPy which make it an extremely useful tool in the arsenal of data science."
   ]
  },
  {
   "cell_type": "markdown",
   "id": "e359fcc6",
   "metadata": {},
   "source": [
    "### What you will learn in this module?\n",
    "\n",
    "- Some unique features of VerticaPy\n",
    "- Ease of use of VerticaPy for a variety of use cases\n",
    "- A brief overview of using VerticaPY for ML Pipeline"
   ]
  },
  {
   "cell_type": "markdown",
   "id": "e4eae0c4",
   "metadata": {},
   "source": [
    "***"
   ]
  },
  {
   "cell_type": "markdown",
   "id": "e91b7444",
   "metadata": {},
   "source": [
    "<a id='h1_cell'></a>\n",
    "### SQL Magic\n"
   ]
  },
  {
   "cell_type": "markdown",
   "id": "7050ec65",
   "metadata": {},
   "source": [
    "You can use VerticaPy to execute SQL queries directly from a Jupyter notebook. For details, see <a href='https://www.vertica.com/python/documentation_last/extensions/sql/'>SQL Magic</a>:\n",
    "\n",
    "#### Example\n",
    "\n",
    "Load the SQL extension.\n",
    "```python\n",
    "%load_ext verticapy.sql\n",
    "```\n",
    "Execute your SQL queries.\n",
    "```sql\n",
    "%%sql\n",
    "SELECT version();\n",
    "\n",
    "# Output\n",
    "# Vertica Analytic Database v11.0.1-0\n",
    "```\n"
   ]
  },
  {
   "cell_type": "markdown",
   "id": "3b946cb8",
   "metadata": {},
   "source": [
    "***"
   ]
  },
  {
   "cell_type": "markdown",
   "id": "3fd84ef3",
   "metadata": {},
   "source": [
    "<a id='h2_cell'></a>\n",
    "### SQL Plots"
   ]
  },
  {
   "cell_type": "markdown",
   "id": "ae348a5c",
   "metadata": {},
   "source": [
    "You can create interactive, professional plots directly from SQL.\n",
    "\n",
    "To create plots, simply provide the type of plot along with the SQL command.\n",
    "\n",
    "#### Example\n",
    "```python\n",
    "%load_ext verticapy.jupyter.extensions.chart_magic\n",
    "%chart -k pie -c \"SELECT pclass, AVG(age) AS av_avg FROM titanic GROUP BY 1;\"\n",
    "```"
   ]
  },
  {
   "cell_type": "code",
   "execution_count": null,
   "id": "92cbf75e",
   "metadata": {},
   "outputs": [],
   "source": [
    "file = open(\"Figures/fig_v1.png\", \"rb\")\n",
    "image = file.read()\n",
    "\n",
    "image= widgets.Image(\n",
    "                    value=image,\n",
    "                    format='png',\n",
    "                    width='300px'\n",
    "                )\n",
    "display(image)"
   ]
  },
  {
   "cell_type": "markdown",
   "id": "21c0b419",
   "metadata": {},
   "source": [
    "***"
   ]
  },
  {
   "cell_type": "markdown",
   "id": "dd6d049b",
   "metadata": {},
   "source": [
    "<a id='h3_cell'></a>\n",
    "### Multiple Database Connection using DBLINK"
   ]
  },
  {
   "cell_type": "markdown",
   "id": "1179a281",
   "metadata": {},
   "source": [
    "In a single platform, multiple databases (e.g. PostgreSQL, Vertica, MySQL, In-memory) can be accessed using SQL and python.\n",
    "\n",
    "#### Example\n",
    "```sql\n",
    "%%sql\n",
    "/* Fetch TAIL_NUMBER and CITY after Joining the flight_vertica table with airports table in MySQL database. */\n",
    "SELECT flight_vertica.TAIL_NUMBER, airports.CITY AS Departing_City\n",
    "FROM flight_vertica\n",
    "INNER JOIN &&& airports &&&\n",
    "ON flight_vertica.ORIGIN_AIRPORT = airports.IATA_CODE;\n",
    "```\n",
    "In the example above, the 'flight_vertica' table is stored in Vertica, whereas the 'airports' table is stored in MySQL. We can associate special symbols \"&&&\" to the different databases to fetch the data. The best part is that all the aggregation is pushed to the databases (i.e. it is not done in memory)!\n",
    "\n",
    "For more details on how to setup DBLINK, please visit the [github repo](https://github.com/vertica/dblink). To learn about using DBLINK in VerticaPy, check out the [documentation page](https://www.vertica.com/python/workshop/full_stack/dblink_integration/index.php)."
   ]
  },
  {
   "cell_type": "markdown",
   "id": "d23577e1",
   "metadata": {},
   "source": [
    "***"
   ]
  },
  {
   "cell_type": "markdown",
   "id": "a5f0049e",
   "metadata": {},
   "source": [
    "<a id='h4_cell'></a>\n",
    "### Python and SQL Combo"
   ]
  },
  {
   "cell_type": "markdown",
   "id": "2664c84d",
   "metadata": {},
   "source": [
    "VerticaPy has a unique place in the market because it allows users to use Python and SQL in the same environment. \n",
    "\n",
    "#### Example\n",
    "```python\n",
    "import verticapy as vp\n",
    "selected_titanic = vp.vDataFrame(\n",
    "    \"(SELECT pclass, embarked, AVG(survived) FROM public.titanic GROUP BY 1, 2) x\"\n",
    ")\n",
    "selected_titanic.groupby(columns=[\"pclass\"], expr=[\"AVG(AVG)\"])\n",
    "```"
   ]
  },
  {
   "cell_type": "markdown",
   "id": "87c21ede",
   "metadata": {},
   "source": [
    "***"
   ]
  },
  {
   "cell_type": "markdown",
   "id": "df47f19b",
   "metadata": {},
   "source": [
    "<a id='h_c5ell'></a>\n",
    "### Complete Machine Learning Pipeline"
   ]
  },
  {
   "cell_type": "markdown",
   "id": "50a96683",
   "metadata": {},
   "source": [
    "#### Data Ingestion"
   ]
  },
  {
   "cell_type": "markdown",
   "id": "147064b1",
   "metadata": {},
   "source": [
    "VerticaPy allows users to ingest data from a diverse range of sources, such as AVRO, Parquet, CSV, JSON etc. With a simple command \"[read_file](https://www.vertica.com/python/documentation_last/utilities/read_file/)\", VerticaPy automatically infers the source type and the data type.\n",
    "\n",
    "  ```python\n",
    "  import verticapy as vp\n",
    "  read_file(\n",
    "      \"/home/laliga/2012.json\",\n",
    "      table_name=\"laliga\",\n",
    "  )\n",
    "  ```"
   ]
  },
  {
   "cell_type": "code",
   "execution_count": null,
   "id": "263fe62f",
   "metadata": {},
   "outputs": [],
   "source": [
    "file = open(\"Figures/fig_v2.png\", \"rb\")\n",
    "image = file.read()\n",
    "\n",
    "image= widgets.Image(\n",
    "                    value=image,\n",
    "                    format='png',\n",
    "                    width='700px'\n",
    "                )\n",
    "display(image)"
   ]
  },
  {
   "cell_type": "markdown",
   "id": "1491ead9",
   "metadata": {},
   "source": [
    "Note: Not all columns are displayed in the screenshot above because of width restriction here.\n",
    "\n",
    "As shown above, it has created a nested structure for the complex data. The actual file structure is below:"
   ]
  },
  {
   "cell_type": "code",
   "execution_count": null,
   "id": "e58ca7d5",
   "metadata": {},
   "outputs": [],
   "source": [
    "file = open(\"Figures/fig_v3.png\", \"rb\")\n",
    "image = file.read()\n",
    "\n",
    "image= widgets.Image(\n",
    "                    value=image,\n",
    "                    format='png',\n",
    "                    width='300px'\n",
    "                )\n",
    "display(image)"
   ]
  },
  {
   "cell_type": "markdown",
   "id": "3fc82898",
   "metadata": {},
   "source": [
    "<div class=\"alert alert-block alert-success\">\n",
    "    <b>Note:</b> <i>We can even see the SQL underneath every VerticaPy command by turning on the genSQL option:</i>\n",
    "</div>"
   ]
  },
  {
   "cell_type": "markdown",
   "id": "4a87730f",
   "metadata": {},
   "source": [
    "```python\n",
    "  import verticapy as vp\n",
    "  read_file(\"/home/laliga/2012.json\", table_name=\"laliga\", genSQL=True)\n",
    "```\n",
    "```sql\n",
    " CREATE LOCAL TEMPORARY TABLE \"laliga\"\n",
    "    (\"away_score\" INT, \n",
    "     \"away_team\" ROW(\"away_team_gender\" VARCHAR, \n",
    "                     \"away_team_group\"  VARCHAR, \n",
    "                     \"away_team_id\"     INT, ... \n",
    "                                        ROW(\"id\"   INT, \n",
    "                                            \"name\" VARCHAR)), \n",
    "     \"competition\" ROW(\"competition_id\"   INT, \n",
    "                       \"competition_name\" VARCHAR, \n",
    "                       \"country_name\"     VARCHAR), \n",
    "     \"competition_stage\" ROW(\"id\"   INT, \n",
    "                             \"name\" VARCHAR), \n",
    "     \"home_score\" INT, \n",
    "     \"home_team\" ROW(\"country\" ROW(\"id\"   INT, \n",
    "                                   \"name\" VARCHAR), \n",
    "                     \"home_team_gender\" VARCHAR, \n",
    "                     \"home_team_group\"  VARCHAR, \n",
    "                     \"home_team_id\"     INT, ...), \n",
    "     \"kick_off\"     TIME, \n",
    "     \"last_updated\" DATE, \n",
    "     \"match_DATE\"   DATE, \n",
    "     \"match_id\"     INT, ... \n",
    "                    ROW(\"data_version\"          DATE, \n",
    "                        \"shot_fidelity_version\" INT, \n",
    "                        \"xy_fidelity_version\"   INT), \n",
    "     \"season\" ROW(\"season_id\"   INT, \n",
    "                  \"season_name\" VARCHAR)) \n",
    "     ON COMMIT PRESERVE ROWS\n",
    "     COPY \"v_temp_schema\".\"laliga\" \n",
    "     FROM '/home/laliga/2012.json' \n",
    "     PARSER FJsonParser()\n",
    "```\n",
    "\n",
    "VerticaPy provides functions for importing other specific file types, such as [read_json](#https://www.vertica.com/python/documentation_last/utilities/read_json/) and [read_csv](#https://www.vertica.com/python/documentation_last/utilities/read_csv/). Since these functions focus on a particular file type, they offer more options for tackling the data. For example, [read_json](#https://www.vertica.com/python/documentation_last/utilities/read_json/) has a \"flatten_arrays\" parameter that allows you to flatten nested JSON arrays."
   ]
  },
  {
   "cell_type": "markdown",
   "id": "096956d4",
   "metadata": {},
   "source": [
    "#### Data Exploration"
   ]
  },
  {
   "cell_type": "markdown",
   "id": "d516e9cb",
   "metadata": {},
   "source": [
    "There are many options for descriptive and visual exploration. \n",
    "\n",
    "```python\n",
    "from verticapy.datasets import load_iris\n",
    "iris_data = load_iris()\n",
    "iris_data.scatter(\n",
    "    [\"SepalWidthCm\", \"SepalLengthCm\", \"PetalLengthCm\"], \n",
    "    by=\"Species\", \n",
    "    max_nb_points=30\n",
    ")\n",
    "```"
   ]
  },
  {
   "cell_type": "code",
   "execution_count": null,
   "id": "f6cc053d",
   "metadata": {},
   "outputs": [],
   "source": [
    "file = open(\"Figures/fig_v4.png\", \"rb\")\n",
    "image = file.read()\n",
    "\n",
    "image= widgets.Image(\n",
    "                    value=image,\n",
    "                    format='png',\n",
    "                    width='700px'\n",
    "                )\n",
    "display(image)"
   ]
  },
  {
   "cell_type": "markdown",
   "id": "a9460187",
   "metadata": {},
   "source": [
    "The <b>Correlation Matrix</b> is also very fast and convenient to compute. Users can choose from a wide variety of correaltions, including cramer, spearman, pearson etc.\n",
    "\n",
    "```python\n",
    "from verticapy.datasets import load_titanic\n",
    "titanic = load_titanic()\n",
    "titanic.corr(method=\"spearman\")\n",
    "```"
   ]
  },
  {
   "cell_type": "code",
   "execution_count": null,
   "id": "d9a844b1",
   "metadata": {},
   "outputs": [],
   "source": [
    "file = open(\"Figures/fig_v5.png\", \"rb\")\n",
    "image = file.read()\n",
    "\n",
    "image= widgets.Image(\n",
    "                    value=image,\n",
    "                    format='png',\n",
    "                    width='700px'\n",
    "                )\n",
    "display(image)"
   ]
  },
  {
   "cell_type": "markdown",
   "id": "9109b600",
   "metadata": {},
   "source": [
    "By turning on the SQL print option, users can see and copy SQL queries:\n",
    "\n",
    "```python\n",
    "from verticapy import set_option\n",
    "set_option(\"sql_on\", True)\n",
    "```\n",
    "\n",
    "```sql\n",
    "  SELECT\n",
    "    /*+LABEL('vDataframe._aggregate_matrix')*/ CORR_MATRIX(\"pclass\", \"survived\", \"age\", \"sibsp\", \"parch\", \"fare\", \"body\") OVER ()  \n",
    "  FROM\n",
    "(\n",
    "  SELECT\n",
    "    RANK() OVER (ORDER BY \"pclass\") AS \"pclass\",\n",
    "    RANK() OVER (ORDER BY \"survived\") AS \"survived\",\n",
    "    RANK() OVER (ORDER BY \"age\") AS \"age\",\n",
    "    RANK() OVER (ORDER BY \"sibsp\") AS \"sibsp\",\n",
    "    RANK() OVER (ORDER BY \"parch\") AS \"parch\",\n",
    "    RANK() OVER (ORDER BY \"fare\") AS \"fare\",\n",
    "    RANK() OVER (ORDER BY \"body\") AS \"body\"  \n",
    "  FROM\n",
    "\"public\".\"titanic\") spearman_table\n",
    "```\n",
    "\n",
    "VerticaPy allows users to calculate a focused correlation using the \"focus\" parameter:\n",
    "\n",
    "```python\n",
    "titanic.corr(method=\"spearman\", focus=\"survived\")\n",
    "```"
   ]
  },
  {
   "cell_type": "code",
   "execution_count": null,
   "id": "d62de24b",
   "metadata": {},
   "outputs": [],
   "source": [
    "file = open(\"Figures/fig_v6.png\", \"rb\")\n",
    "image = file.read()\n",
    "\n",
    "image= widgets.Image(\n",
    "                    value=image,\n",
    "                    format='png',\n",
    "                    width='120px'\n",
    "                )\n",
    "display(image)"
   ]
  },
  {
   "cell_type": "markdown",
   "id": "1dac039a",
   "metadata": {},
   "source": [
    "#### Data Preparation"
   ]
  },
  {
   "cell_type": "markdown",
   "id": "69f12645",
   "metadata": {},
   "source": [
    "Whether you are [joining multiple tables](https://www.vertica.com/python/workshop/data_prep/joins/), [encoding](https://www.vertica.com/python/workshop/data_prep/encoding/index.php), or [filling missing values](https://www.vertica.com/python/workshop/data_prep/missing_values/index.php), VerticaPy has everything and more in one package.\n",
    "\n",
    "```python\n",
    "import random\n",
    "import verticapy as vp\n",
    "data = vp.vDataFrame({\"Heights\": [random.randint(10, 60) for _ in range(40)] + [100]})\n",
    "data.outliers_plot(columns=\"Heights\")\n",
    "```"
   ]
  },
  {
   "cell_type": "code",
   "execution_count": null,
   "id": "1eb7376e",
   "metadata": {},
   "outputs": [],
   "source": [
    "file = open(\"Figures/fig_v7.png\", \"rb\")\n",
    "image = file.read()\n",
    "\n",
    "image= widgets.Image(\n",
    "                    value=image,\n",
    "                    format='png',\n",
    "                    width='400px'\n",
    "                )\n",
    "display(image)"
   ]
  },
  {
   "cell_type": "markdown",
   "id": "f69fecc9",
   "metadata": {},
   "source": [
    "#### Machine Learning"
   ]
  },
  {
   "cell_type": "markdown",
   "id": "33c2a763",
   "metadata": {},
   "source": [
    "ML is the strongest suite of VerticaPy as it capitalizes on the speed of in-database training and prediction by using SQL in the background to interact with the database. ML for VerticaPy covers a vast array of tools, including [time series forecasting](https://www.vertica.com/python/workshop/ml/time_series/index.php), [clustering](https://www.vertica.com/python/workshop/ml/clustering/index.php), and [classification](https://www.vertica.com/python/workshop/ml/classification/index.php). \n",
    "\n",
    "```python\n",
    "# titanic_vd is already loaded\n",
    "# Logistic Regression model is already loaded\n",
    "stepwise_result = stepwise(\n",
    "    model,\n",
    "    input_relation=titanic_vd,\n",
    "    X=[\n",
    "        \"age\",\n",
    "        \"fare\",\n",
    "        \"parch\",\n",
    "        \"pclass\",\n",
    "    ],\n",
    "    y=\"survived\",\n",
    "    direction=\"backward\",\n",
    "    height=600,\n",
    "    width=800,\n",
    ")\n",
    "```"
   ]
  },
  {
   "cell_type": "code",
   "execution_count": null,
   "id": "608754ba",
   "metadata": {},
   "outputs": [],
   "source": [
    "file = open(\"Figures/fig_v8.png\", \"rb\")\n",
    "image = file.read()\n",
    "\n",
    "image= widgets.Image(\n",
    "                    value=image,\n",
    "                    format='png',\n",
    "                    width='600px'\n",
    "                )\n",
    "display(image)"
   ]
  },
  {
   "cell_type": "code",
   "execution_count": null,
   "id": "36dd0a83",
   "metadata": {},
   "outputs": [],
   "source": [
    "%%javascript\n",
    "// When the user scrolls the page, execute myFunction\n",
    "window.onscroll = function() {myFunction()};\n",
    "\n",
    "// Get the navbar\n",
    "var navbar = document.getElementById(\"navbar_top\");\n",
    "\n",
    "// Get the offset position of the navbar\n",
    "var sticky = navbar.offsetTop;\n",
    "\n",
    "// Add the sticky class to the navbar when you reach its scroll position. Remove \"sticky\" when you leave the scroll position\n",
    "function myFunction() {\n",
    "  if (window.pageYOffset >= sticky+140) {\n",
    "    navbar.classList.add(\"sticky\")\n",
    "  } else {\n",
    "    navbar.classList.remove(\"sticky\");\n",
    "  }\n",
    "  if (window.pageYOffset <= sticky) {\n",
    "    navbar.classList.remove(\"sticky\");\n",
    "  }\n",
    "}"
   ]
  },
  {
   "cell_type": "markdown",
   "id": "a6cf54bc",
   "metadata": {},
   "source": [
    "<html>\n",
    "<head>\n",
    "<meta name=\"viewport\" content=\"width=device-width, initial-scale=1\">\n",
    "<style>\n",
    "a {\n",
    "  text-decoration: none;\n",
    "  display: inline-block;\n",
    "  padding: 8px 16px;\n",
    "}\n",
    "\n",
    "a:hover {\n",
    "  background-color: #ddd;\n",
    "  color: black;\n",
    "}\n",
    "\n",
    ".previous {\n",
    "  background-color: #f1f1f1;\n",
    "  color: black;\n",
    "}\n",
    "\n",
    ".next {\n",
    "  background-color: #1a6aff;\n",
    "  color: white;\n",
    "}\n",
    "\n",
    ".round {\n",
    "  border-radius: 50%;\n",
    "}\n",
    "</style>\n",
    "</head>\n",
    "<body>\n",
    "\n",
    "<a href=\"/voila/render/demos/enablement/Data%20Science%20Essentials/Module%20-%20Overview%20of%20Data%20science/Essentials_OverviewOfDataScience_Overview.ipynb\" font-size= 40px class=\"previous round\">&#8249;</a>\n",
    "<a href=\"/voila/render/demos/enablement/Data%20Science%20Essentials/Module%20-%20Data%20Ingestion/Essentials_DataIngestion.ipynb\" class=\"next round\">&#8250;</a>\n",
    "  \n",
    "</body>\n",
    "</html> "
   ]
  },
  {
   "cell_type": "markdown",
   "id": "c02f25ee",
   "metadata": {},
   "source": [
    "***"
   ]
  },
  {
   "cell_type": "markdown",
   "id": "ca2aa185",
   "metadata": {},
   "source": [
    "<font style=\"font-family:Calibri\"> Author Name: Umar Farooq Ghumman\n",
    "<br>\n",
    "Author Contact: umarfarooq.ghumman@vertica.com</font>"
   ]
  },
  {
   "cell_type": "markdown",
   "id": "185edfa5",
   "metadata": {},
   "source": [
    "### Resources\n",
    "\n",
    "- [<font size='2'>Why VerticaPy</font>](https://www.vertica.com/python/about.php)\n"
   ]
  }
 ],
 "metadata": {
  "kernelspec": {
   "display_name": "Python 3 (ipykernel)",
   "language": "python",
   "name": "python3"
  },
  "language_info": {
   "codemirror_mode": {
    "name": "ipython",
    "version": 3
   },
   "file_extension": ".py",
   "mimetype": "text/x-python",
   "name": "python",
   "nbconvert_exporter": "python",
   "pygments_lexer": "ipython3",
   "version": "3.9.12"
  }
 },
 "nbformat": 4,
 "nbformat_minor": 5
}
