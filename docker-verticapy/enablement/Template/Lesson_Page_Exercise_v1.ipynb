{
 "cells": [
  {
   "cell_type": "code",
   "execution_count": 3,
   "id": "d8813b06",
   "metadata": {},
   "outputs": [],
   "source": [
    "import ipywidgets as widgets\n",
    "from IPython.display import display, clear_output"
   ]
  },
  {
   "cell_type": "code",
   "execution_count": 2,
   "id": "73c74fd4",
   "metadata": {},
   "outputs": [
    {
     "data": {
      "application/vnd.jupyter.widget-view+json": {
       "model_id": "f9b92245dcf64cad8cf347fa5225332b",
       "version_major": 2,
       "version_minor": 0
      },
      "text/plain": [
       "VBox(children=(Image(value=b'\\x89PNG\\r\\n\\x1a\\n\\x00\\x00\\x00\\rIHDR\\x00\\x00\\x06(\\x00\\x00\\x01 \\x08\\x06\\x00\\x00\\x00…"
      ]
     },
     "metadata": {},
     "output_type": "display_data"
    }
   ],
   "source": [
    "file = open(\"Figures/vertica.png\", \"rb\")\n",
    "image = file.read()\n",
    "\n",
    "image_headline = widgets.Image(\n",
    "                    value=image,\n",
    "                    format='png',\n",
    "                    #height='80%',\n",
    "                    width='20%'\n",
    "                )\n",
    "\n",
    "vbox_headline = widgets.VBox([image_headline])\n",
    "vbox_headline.layout.align_items = 'center'\n",
    "vbox_headline"
   ]
  },
  {
   "cell_type": "code",
   "execution_count": 78,
   "id": "8b0862f1",
   "metadata": {},
   "outputs": [],
   "source": [
    "def create_multipleChoice_widget(options, correct_answer):\n",
    "    if correct_answer not in options:\n",
    "        options.append(correct_answer)\n",
    "    \n",
    "    correct_answer_index = options.index(correct_answer)\n",
    "    \n",
    "    radio_options = [(words, i) for i, words in enumerate(options)]\n",
    "    alternativ = widgets.RadioButtons(\n",
    "        options = radio_options,\n",
    "        description = '',\n",
    "        disabled = False\n",
    "    )\n",
    "    \n",
    "    description_out = widgets.Output()\n",
    "#    with description_out:\n",
    "#        print(description)\n",
    "        \n",
    "    feedback_out = widgets.Output()\n",
    "\n",
    "    def check_selection(b):\n",
    "        a = int(alternativ.value)\n",
    "        if a==correct_answer_index:\n",
    "            s = '\\x1b[6;30;42m' + \"Correct!\" + '\\x1b[0m' +\"\\n\" #green color\n",
    "        else:\n",
    "            s = '\\x1b[5;30;41m' + \"Try again\" + '\\x1b[0m' +\"\\n\" #red color\n",
    "        with feedback_out:\n",
    "            clear_output()\n",
    "            print(s)\n",
    "        return\n",
    "    \n",
    "    check = widgets.Button(description=\"submit\")\n",
    "    check.on_click(check_selection)\n",
    "    \n",
    "    \n",
    "    return widgets.VBox([description_out, alternativ, check, feedback_out])"
   ]
  },
  {
   "cell_type": "code",
   "execution_count": null,
   "id": "cef26fd2",
   "metadata": {},
   "outputs": [],
   "source": [
    "def create_numeric_widget(correct_answer):\n",
    "    \n",
    "    #correct_answer_index = options.index(correct_answer)\n",
    "    \n",
    "    #radio_options = [(words, i) for i, words in enumerate(options)]\n",
    "    alternativ = widgets.Text(\n",
    "        #options = radio_options,\n",
    "        #description = '',\n",
    "        disabled = False\n",
    "    )\n",
    "    \n",
    "    description_out = widgets.Output()\n",
    "#    with description_out:\n",
    "#        print(description)\n",
    "        \n",
    "    feedback_out = widgets.Output()\n",
    "\n",
    "    def check_selection(b):\n",
    "        try:\n",
    "            a = int(alternativ.value)\n",
    "        except ValueError:\n",
    "            a = float(alternativ.value)\n",
    "        if a==correct_answer:\n",
    "            s = '\\x1b[6;30;42m' + \"Correct!\" + '\\x1b[0m' +\"\\n\" #green color\n",
    "        else:\n",
    "            s = '\\x1b[5;30;41m' + \"Try again\" + '\\x1b[0m' +\"\\n\" #red color\n",
    "        with feedback_out:\n",
    "            clear_output()\n",
    "            print(s)\n",
    "        return\n",
    "    \n",
    "    check = widgets.Button(description=\"submit\")\n",
    "    check.on_click(check_selection)\n",
    "    \n",
    "    \n",
    "    return widgets.VBox([description_out, alternativ, check, feedback_out])"
   ]
  },
  {
   "cell_type": "code",
   "execution_count": 4,
   "id": "bd4f7d2d",
   "metadata": {},
   "outputs": [
    {
     "data": {
      "application/vnd.jupyter.widget-view+json": {
       "model_id": "e68a18f5236b4441a3475f09d5589853",
       "version_major": 2,
       "version_minor": 0
      },
      "text/plain": [
       "HBox(children=(Image(value=b'\\x89PNG\\r\\n\\x1a\\n\\x00\\x00\\x00\\rIHDR\\x00\\x00\\x00Q\\x00\\x00\\x00;\\x08\\x03\\x00\\x00\\x00…"
      ]
     },
     "metadata": {},
     "output_type": "display_data"
    }
   ],
   "source": [
    "\n",
    "file = open(\"Figures/back.png\", \"rb\")\n",
    "image = file.read()\n",
    "\n",
    "image_headline = widgets.Image(\n",
    "                    value=image,\n",
    "                    format='png',layout=widgets.Layout(width='30px', height='24px')\n",
    "                )\n",
    "\n",
    "text_0=link = widgets.HTML(\n",
    "    value=\"<a href=http://localhost:8888/voila/render/Documents/GitHub/VerticaPy-Enablement-Template/Template/Course_Page_v1.ipynb target='_blank'><font size='2' color='blue'>Go Back to Main Page</font></a>\",\n",
    ")\n",
    "hbox_line2 = widgets.HBox([image_headline,text_0])\n",
    "display(hbox_line2)"
   ]
  },
  {
   "cell_type": "markdown",
   "id": "1eb61592",
   "metadata": {},
   "source": [
    "# Module Name\n",
    "## Exercise"
   ]
  },
  {
   "cell_type": "code",
   "execution_count": 74,
   "id": "e0deb276",
   "metadata": {},
   "outputs": [
    {
     "data": {
      "application/vnd.jupyter.widget-view+json": {
       "model_id": "6db3c5a87ca246e59ca040c8afe7fde7",
       "version_major": 2,
       "version_minor": 0
      },
      "text/plain": [
       "HBox(children=(Image(value=b'\\x89PNG\\r\\n\\x1a\\n\\x00\\x00\\x00\\rIHDR\\x00\\x00\\x00J\\x00\\x00\\x00`\\x08\\x03\\x00\\x00\\x00…"
      ]
     },
     "metadata": {},
     "output_type": "display_data"
    }
   ],
   "source": [
    "file = open(\"Figures/time.png\", \"rb\")\n",
    "image = file.read()\n",
    "\n",
    "image_headline = widgets.Image(\n",
    "                    value=image,\n",
    "                    format='png',layout=widgets.Layout(width='14px', height='19px')\n",
    "                )\n",
    "\n",
    "text_0 = widgets.HTML(value=\"<font size='2'>30 mins</font>\")\n",
    "hbox_line2 = widgets.HBox([image_headline,text_0])\n",
    "display(hbox_line2)"
   ]
  },
  {
   "cell_type": "markdown",
   "id": "7a49c17e",
   "metadata": {},
   "source": [
    "In this exercise we will apply Linear Regression tools on verticapy to solve some data science problems:"
   ]
  },
  {
   "cell_type": "markdown",
   "id": "e4eae0c4",
   "metadata": {},
   "source": [
    "***"
   ]
  },
  {
   "cell_type": "markdown",
   "id": "e91b7444",
   "metadata": {},
   "source": [
    "<a id='h1_cell'></a>\n",
    "### Section 1 e.g., Visualizing Data\n"
   ]
  },
  {
   "cell_type": "code",
   "execution_count": 79,
   "id": "4e6614e6",
   "metadata": {
    "scrolled": false
   },
   "outputs": [
    {
     "data": {
      "application/vnd.jupyter.widget-view+json": {
       "model_id": "9703095ff9ea494aa6591cec1ad74bc6",
       "version_major": 2,
       "version_minor": 0
      },
      "text/plain": [
       "VBox(children=(HTML(value=\"<font size='3'><b> Question 2: </b> Which is best choice? (Hint Second)</font>\"), V…"
      ]
     },
     "metadata": {},
     "output_type": "display_data"
    }
   ],
   "source": [
    "text_1 = widgets.HTML(value=\"<font size='3'><b> Question 1: </b> Which is best choice? (Hint Second)</font>\")\n",
    "Q1 = create_multipleChoice_widget(['Option 1','Option 2','Option 3','Option 4'],'Option 2')\n",
    "display(widgets.VBox([text_1,Q1]))"
   ]
  },
  {
   "cell_type": "code",
   "execution_count": 76,
   "id": "733023c3",
   "metadata": {
    "scrolled": true
   },
   "outputs": [
    {
     "data": {
      "application/vnd.jupyter.widget-view+json": {
       "model_id": "c1baa124a27f45c591caff7ec63b570a",
       "version_major": 2,
       "version_minor": 0
      },
      "text/plain": [
       "VBox(children=(HTML(value=\"<font size='3'><b> Question 2: </b> What was the numeric Answer? (Hint 100)</font>\"…"
      ]
     },
     "metadata": {},
     "output_type": "display_data"
    }
   ],
   "source": [
    "text_2 = widgets.HTML(value=\"<font size='3'><b> Question 2: </b> What was the numeric Answer? (Hint 100)</font>\")\n",
    "Q2 = create_numeric_widget(100)\n",
    "display(widgets.VBox([text_2,Q2]))"
   ]
  },
  {
   "cell_type": "markdown",
   "id": "3b946cb8",
   "metadata": {},
   "source": [
    "***"
   ]
  },
  {
   "cell_type": "markdown",
   "id": "3fd84ef3",
   "metadata": {},
   "source": [
    "<a id='h2_cell'></a>\n",
    "### Section 2 e.g., Model Building\n",
    "\n"
   ]
  },
  {
   "cell_type": "code",
   "execution_count": 79,
   "id": "589218ac",
   "metadata": {
    "scrolled": false
   },
   "outputs": [
    {
     "data": {
      "application/vnd.jupyter.widget-view+json": {
       "model_id": "9703095ff9ea494aa6591cec1ad74bc6",
       "version_major": 2,
       "version_minor": 0
      },
      "text/plain": [
       "VBox(children=(HTML(value=\"<font size='3'><b> Question 2: </b> Which is best choice? (Hint Second)</font>\"), V…"
      ]
     },
     "metadata": {},
     "output_type": "display_data"
    }
   ],
   "source": [
    "text_1 = widgets.HTML(value=\"<font size='3'><b> Question 1: </b> Which is best choice? (Hint Second)</font>\")\n",
    "Q1 = create_multipleChoice_widget(['Option 1','Option 2','Option 3','Option 4'],'Option 2')\n",
    "display(widgets.VBox([text_1,Q1]))"
   ]
  },
  {
   "cell_type": "code",
   "execution_count": 76,
   "id": "b7a3a8ef",
   "metadata": {
    "scrolled": true
   },
   "outputs": [
    {
     "data": {
      "application/vnd.jupyter.widget-view+json": {
       "model_id": "c1baa124a27f45c591caff7ec63b570a",
       "version_major": 2,
       "version_minor": 0
      },
      "text/plain": [
       "VBox(children=(HTML(value=\"<font size='3'><b> Question 2: </b> What was the numeric Answer? (Hint 100)</font>\"…"
      ]
     },
     "metadata": {},
     "output_type": "display_data"
    }
   ],
   "source": [
    "text_2 = widgets.HTML(value=\"<font size='3'><b> Question 2: </b> What was the numeric Answer? (Hint 100)</font>\")\n",
    "Q2 = create_numeric_widget(100)\n",
    "display(widgets.VBox([text_2,Q2]))"
   ]
  },
  {
   "cell_type": "markdown",
   "id": "c02f25ee",
   "metadata": {},
   "source": [
    "***"
   ]
  },
  {
   "cell_type": "markdown",
   "id": "ca2aa185",
   "metadata": {},
   "source": [
    "<font style=\"font-family:Calibri\"> Author Name: Calibri Font Default Size\n",
    "<br>\n",
    "Author Contact: abs@verticapy.com</font>"
   ]
  },
  {
   "cell_type": "markdown",
   "id": "185edfa5",
   "metadata": {},
   "source": [
    "### Resources\n",
    "\n",
    "- [<font size='2'>Citation 1</font>](https://www.vertica.com/python/)\n",
    "\n",
    "- [<font size='2'>Citation 2</font>](https://www.vertica.com/python/)\n",
    "\n",
    "- [<font size='2'>Cittaion 3</font>](https://www.vertica.com/python/)"
   ]
  }
 ],
 "metadata": {
  "kernelspec": {
   "display_name": "Python 3 (ipykernel)",
   "language": "python",
   "name": "python3"
  },
  "language_info": {
   "codemirror_mode": {
    "name": "ipython",
    "version": 3
   },
   "file_extension": ".py",
   "mimetype": "text/x-python",
   "name": "python",
   "nbconvert_exporter": "python",
   "pygments_lexer": "ipython3",
   "version": "3.9.12"
  }
 },
 "nbformat": 4,
 "nbformat_minor": 5
}
