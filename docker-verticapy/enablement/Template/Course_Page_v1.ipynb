{
 "cells": [
  {
   "cell_type": "code",
   "execution_count": 1,
   "id": "2248eab8",
   "metadata": {},
   "outputs": [],
   "source": [
    "#import warnings\n",
    "#warnings.filterwarnings('ignore')"
   ]
  },
  {
   "cell_type": "code",
   "execution_count": 2,
   "id": "8955bad1",
   "metadata": {},
   "outputs": [],
   "source": [
    "import ipywidgets as widgets\n",
    "from IPython.display import display, clear_output, YouTubeVideo\n",
    "import IPython\n",
    "import webbrowser"
   ]
  },
  {
   "cell_type": "code",
   "execution_count": 3,
   "id": "cc30da25",
   "metadata": {
    "scrolled": true
   },
   "outputs": [],
   "source": [
    "#!jupyter nbextension enable --py widgetsnbextension --sys-prefix\n",
    "#!jupyter serverextension enable voila --sys-prefix"
   ]
  },
  {
   "cell_type": "code",
   "execution_count": 4,
   "id": "fcd1d038",
   "metadata": {},
   "outputs": [],
   "source": [
    "file = open(\"Figures/vertica.png\", \"rb\")\n",
    "image = file.read()\n",
    "\n",
    "image_headline = widgets.Image(\n",
    "                    value=image,\n",
    "                    format='png',\n",
    "                    #height='80%',\n",
    "                    width='20%'\n",
    "                )\n",
    "\n",
    "vbox_headline = widgets.VBox([image_headline])\n",
    "vbox_headline.layout.align_items = 'center'\n"
   ]
  },
  {
   "cell_type": "code",
   "execution_count": 17,
   "id": "c9f334d6",
   "metadata": {},
   "outputs": [],
   "source": [
    "# Image Widget\n",
    "\n",
    "\n",
    "f=\"Figures/Video_1.mp4\"\n",
    "vid=widgets.Video.from_file(f,\n",
    "                            width=700, \n",
    "                            #height=200\n",
    "                           )\n",
    "\n",
    "text_0 = widgets.HTML(value=\"<h2>Briefly!</h2>\")\n",
    "text_1 = widgets.HTML(value=\"Welcome message + Add a brief description of the entire course here\")\n",
    "text_2 = widgets.HTML(value=\"<font color=blue><h3>Highlight</h3></font>\")\n",
    "text_3 = widgets.HTML(\n",
    "    value=\"<p style=\"\"color:black;\"\"><p2 style=\"\"padding:6px;display:fill;border-radius:5px;background-color:#9EE3F5;\"\"><font style=\"\"font-family:Arial\"\"><strong>Highlight 1 e.g. ML</strong></p2></p>\"\n",
    "    )\n",
    "text_4 = widgets.HTML(\n",
    "    value=\"<p style=\"\"color:black;\"\"><p2 style=\"\"padding:6px;display:fill;border-radius:5px;background-color:#9EE3F5;\"\"><font style=\"\"font-family:Arial\"\"><strong>Highlight 2 e.g. DS</strong></p2></p>\"\n",
    "    )\n",
    "text_5 = widgets.HTML(\n",
    "    value=\"<p style=\"\"color:black;\"\"><p2 style=\"\"padding:6px;display:fill;border-radius:5px;background-color:#9EE3F5;\"\"><strong><font style=\"\"font-family:Arial\"\">Highlight 3</strong></p2></p>\"\n",
    "    )\n",
    "\n",
    "button_0 = widgets.Button(\n",
    "    description='Let''s Start!',\n",
    "    #disabled=False,\n",
    "    button_style='info', # 'success', 'info', 'warning', 'danger' or ''\n",
    "    #tooltip='Click me',\n",
    "    #icon='check' # (FontAwesome names without the `fa-` prefix)\n",
    ")\n",
    "\n",
    "\n",
    "\n",
    "\n",
    "output = widgets.Output()\n",
    "def on_button_clicked(b):\n",
    "    with output:\n",
    "        URL=\"http://localhost:8888/voila/render/Documents/GitHub/VerticaPy-Enablement-Template/Template/Module_Page_v1.ipynb\"\n",
    "        webbrowser.open(URL)\n",
    "        #print(\"Button clicked.\")\n",
    "\n",
    "button_0.on_click(on_button_clicked)\n",
    "\n",
    "\n",
    "\n",
    "\n",
    "highlights=widgets.HBox([text_3,text_4,text_5,])\n",
    "vbox_text_0 = widgets.VBox([text_0, text_1,highlights,button_0])\n",
    "\n",
    "hbox_line2 = widgets.HBox([vid,vbox_text_0])\n"
   ]
  },
  {
   "cell_type": "code",
   "execution_count": 6,
   "id": "279bfccc",
   "metadata": {},
   "outputs": [
    {
     "data": {
      "application/vnd.jupyter.widget-view+json": {
       "model_id": "90924533b0154c839d243fcd4b772c90",
       "version_major": 2,
       "version_minor": 0
      },
      "text/plain": [
       "VBox(children=(VBox(children=(Image(value=b'\\x89PNG\\r\\n\\x1a\\n\\x00\\x00\\x00\\rIHDR\\x00\\x00\\x04\\xd4\\x00\\x00\\x01\\x0…"
      ]
     },
     "metadata": {},
     "output_type": "display_data"
    }
   ],
   "source": [
    "page = widgets.VBox([vbox_headline,hbox_line2])\n",
    "display(page)"
   ]
  },
  {
   "cell_type": "code",
   "execution_count": 84,
   "id": "1a298115",
   "metadata": {},
   "outputs": [
    {
     "data": {
      "application/vnd.jupyter.widget-view+json": {
       "model_id": "6c06aabf3e8e4efead9490cd2b150243",
       "version_major": 2,
       "version_minor": 0
      },
      "text/plain": [
       "HBox(children=(VBox(children=(Image(value=b'\\x89PNG\\r\\n\\x1a\\n\\x00\\x00\\x00\\rIHDR\\x00\\x00\\x00J\\x00\\x00\\x00`\\x08\\…"
      ]
     },
     "metadata": {},
     "output_type": "display_data"
    }
   ],
   "source": [
    "file = open(\"Figures/time.png\", \"rb\")\n",
    "image = file.read()\n",
    "image_headline_0 = widgets.Image(\n",
    "                    value=image,\n",
    "                    format='png',layout=widgets.Layout(width='30px', height='30px',margin='0 0 0 10px')\n",
    "                )\n",
    "\n",
    "file = open(\"Figures/solve.png\", \"rb\")\n",
    "image = file.read()\n",
    "image_headline_1 = widgets.Image(\n",
    "                    value=image,\n",
    "                    format='png',layout=widgets.Layout(width='30px', height='30px',margin='0 0 0 5px')\n",
    "                )\n",
    "\n",
    "\n",
    "text_0 = widgets.HTML(value=\"<font size='2'><b>15 mins</font>\",\n",
    "                      layout=widgets.Layout(width='80px', height='30px')\n",
    "                     )\n",
    "\n",
    "text_1 = widgets.HTML(value=\"<font size='2'><b>Easy</font>\",\n",
    "                      layout=widgets.Layout(width='80px', height='30px')\n",
    "                     )\n",
    "\n",
    "hbox_line2_1 = widgets.VBox([image_headline_0,text_0])\n",
    "hbox_line2_2 = widgets.VBox([image_headline_1,text_1])\n",
    "hbox_line2 = widgets.HBox([hbox_line2_1,hbox_line2_2])\n",
    "                         \n",
    "display(hbox_line2)"
   ]
  },
  {
   "cell_type": "markdown",
   "id": "761c73d7",
   "metadata": {},
   "source": [
    "<div style=\"display:fill;border-radius:6px;background-color:#CDF3F3\">\n",
    "    <p style=\"padding:6px\"><font size=4><b> Prerequisites </b></font><br>Detail of the prerequisites goes here. All text should be in default Jupyter Notebook Markdown unless otherwise stated.\n",
    "<br>\n",
    "✔ Bullets can be added if they are multiple <br></l></div>"
   ]
  },
  {
   "cell_type": "markdown",
   "id": "8f4ce5ab",
   "metadata": {},
   "source": []
  },
  {
   "cell_type": "markdown",
   "id": "d03a4220",
   "metadata": {},
   "source": [
    "### Goals\n",
    "🎯 Goal 1 <br>\n",
    "🎯 Goal 2 (new goal on a new line) <br>"
   ]
  },
  {
   "cell_type": "markdown",
   "id": "d13c037a",
   "metadata": {},
   "source": [
    "### Modules\n",
    "- [<font size='4'>Lesson 1 - along with hyperlink</font>](http://localhost:8888/voila/render/Documents/GitHub/VerticaPy-Enablement-Template/Template/Module_Page_v1.ipynb)\n",
    "- [<font size='4'>Lesson 2</font>](http://localhost:8888/voila/render/Documents/GitHub/VerticaPy-Enablement-Template/Template/Module_Page_v1.ipynb)\n",
    "- [<font size='4'>Lesson N</font>](http://localhost:8888/voila/render/Documents/GitHub/VerticaPy-Enablement-Template/Template/Module_Page_v1.ipynb)"
   ]
  },
  {
   "cell_type": "code",
   "execution_count": null,
   "id": "ad760065",
   "metadata": {},
   "outputs": [],
   "source": []
  },
  {
   "cell_type": "code",
   "execution_count": null,
   "id": "ea412bdb",
   "metadata": {},
   "outputs": [],
   "source": []
  }
 ],
 "metadata": {
  "kernelspec": {
   "display_name": "Python 3 (ipykernel)",
   "language": "python",
   "name": "python3"
  },
  "language_info": {
   "codemirror_mode": {
    "name": "ipython",
    "version": 3
   },
   "file_extension": ".py",
   "mimetype": "text/x-python",
   "name": "python",
   "nbconvert_exporter": "python",
   "pygments_lexer": "ipython3",
   "version": "3.9.12"
  }
 },
 "nbformat": 4,
 "nbformat_minor": 5
}
