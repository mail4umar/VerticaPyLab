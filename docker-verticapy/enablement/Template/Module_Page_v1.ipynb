{
 "cells": [
  {
   "cell_type": "code",
   "execution_count": 10,
   "id": "ba179c16",
   "metadata": {},
   "outputs": [],
   "source": [
    "import ipywidgets as widgets\n",
    "from ipywidgets import Button, Layout\n",
    "from IPython.display import display, clear_output"
   ]
  },
  {
   "cell_type": "code",
   "execution_count": 30,
   "id": "d94c752b",
   "metadata": {
    "scrolled": true
   },
   "outputs": [
    {
     "data": {
      "application/vnd.jupyter.widget-view+json": {
       "model_id": "4bbcb6bbdb044e9ca7df7155c3609aab",
       "version_major": 2,
       "version_minor": 0
      },
      "text/plain": [
       "VBox(children=(Image(value=b'\\x89PNG\\r\\n\\x1a\\n\\x00\\x00\\x00\\rIHDR\\x00\\x00\\x04\\xd4\\x00\\x00\\x01\\x04\\x08\\x06\\x00\\x…"
      ]
     },
     "metadata": {},
     "output_type": "display_data"
    }
   ],
   "source": [
    "file = open(\"Figures/vertica.png\", \"rb\")\n",
    "image = file.read()\n",
    "\n",
    "image_headline = widgets.Image(\n",
    "                    value=image,\n",
    "                    format='png',\n",
    "                    #height='80%',\n",
    "                    width='20%'\n",
    "                )\n",
    "\n",
    "vbox_headline = widgets.VBox([image_headline])\n",
    "vbox_headline.layout.align_items = 'center'\n",
    "vbox_headline"
   ]
  },
  {
   "cell_type": "code",
   "execution_count": 1,
   "id": "463f8967",
   "metadata": {},
   "outputs": [
    {
     "ename": "NameError",
     "evalue": "name 'widgets' is not defined",
     "output_type": "error",
     "traceback": [
      "\u001b[1;31m---------------------------------------------------------------------------\u001b[0m",
      "\u001b[1;31mNameError\u001b[0m                                 Traceback (most recent call last)",
      "Input \u001b[1;32mIn [1]\u001b[0m, in \u001b[0;36m<cell line: 4>\u001b[1;34m()\u001b[0m\n\u001b[0;32m      1\u001b[0m file \u001b[38;5;241m=\u001b[39m \u001b[38;5;28mopen\u001b[39m(\u001b[38;5;124m\"\u001b[39m\u001b[38;5;124mFigures/back.png\u001b[39m\u001b[38;5;124m\"\u001b[39m, \u001b[38;5;124m\"\u001b[39m\u001b[38;5;124mrb\u001b[39m\u001b[38;5;124m\"\u001b[39m)\n\u001b[0;32m      2\u001b[0m image \u001b[38;5;241m=\u001b[39m file\u001b[38;5;241m.\u001b[39mread()\n\u001b[1;32m----> 4\u001b[0m image_headline \u001b[38;5;241m=\u001b[39m \u001b[43mwidgets\u001b[49m\u001b[38;5;241m.\u001b[39mImage(\n\u001b[0;32m      5\u001b[0m                     value\u001b[38;5;241m=\u001b[39mimage,\n\u001b[0;32m      6\u001b[0m                     \u001b[38;5;28mformat\u001b[39m\u001b[38;5;241m=\u001b[39m\u001b[38;5;124m'\u001b[39m\u001b[38;5;124mpng\u001b[39m\u001b[38;5;124m'\u001b[39m,layout\u001b[38;5;241m=\u001b[39mwidgets\u001b[38;5;241m.\u001b[39mLayout(width\u001b[38;5;241m=\u001b[39m\u001b[38;5;124m'\u001b[39m\u001b[38;5;124m30px\u001b[39m\u001b[38;5;124m'\u001b[39m, height\u001b[38;5;241m=\u001b[39m\u001b[38;5;124m'\u001b[39m\u001b[38;5;124m24px\u001b[39m\u001b[38;5;124m'\u001b[39m)\n\u001b[0;32m      7\u001b[0m                 )\n\u001b[0;32m      9\u001b[0m text_0\u001b[38;5;241m=\u001b[39mlink \u001b[38;5;241m=\u001b[39m widgets\u001b[38;5;241m.\u001b[39mHTML(\n\u001b[0;32m     10\u001b[0m     value\u001b[38;5;241m=\u001b[39m\u001b[38;5;124m\"\u001b[39m\u001b[38;5;124m<a href=http://localhost:8888/voila/render/Documents/Template/Enablement\u001b[39m\u001b[38;5;124m%\u001b[39m\u001b[38;5;124m20Template/MAIN_v1_2.ipynb target=\u001b[39m\u001b[38;5;124m'\u001b[39m\u001b[38;5;124m_blank\u001b[39m\u001b[38;5;124m'\u001b[39m\u001b[38;5;124m><font size=\u001b[39m\u001b[38;5;124m'\u001b[39m\u001b[38;5;124m2\u001b[39m\u001b[38;5;124m'\u001b[39m\u001b[38;5;124m color=\u001b[39m\u001b[38;5;124m'\u001b[39m\u001b[38;5;124mblue\u001b[39m\u001b[38;5;124m'\u001b[39m\u001b[38;5;124m>Go Back to Main Page</font></a>\u001b[39m\u001b[38;5;124m\"\u001b[39m,\n\u001b[0;32m     11\u001b[0m )\n\u001b[0;32m     12\u001b[0m hbox_line2 \u001b[38;5;241m=\u001b[39m widgets\u001b[38;5;241m.\u001b[39mHBox([image_headline,text_0])\n",
      "\u001b[1;31mNameError\u001b[0m: name 'widgets' is not defined"
     ]
    }
   ],
   "source": [
    "file = open(\"Figures/back.png\", \"rb\")\n",
    "image = file.read()\n",
    "\n",
    "image_headline = widgets.Image(\n",
    "                    value=image,\n",
    "                    format='png',layout=widgets.Layout(width='30px', height='24px')\n",
    "                )\n",
    "\n",
    "text_0=link = widgets.HTML(\n",
    "    value=\"<a href=http://localhost:8888/voila/render/Documents/GitHub/VerticaPy-Enablement-Template/Template/Course_Page_v1.ipynb target='_blank'><font size='2' color='blue'>Go Back to Main Page</font></a>\",\n",
    ")\n",
    "hbox_line2 = widgets.HBox([image_headline,text_0])\n",
    "display(hbox_line2)"
   ]
  },
  {
   "cell_type": "markdown",
   "id": "b84426d2",
   "metadata": {},
   "source": [
    "<font size=\"5\">Lesson:</font>\n",
    "\n",
    "# __Lesson Title e.g. Data Processing__\n",
    "\n",
    "<font color=blue size=\"3\">Difficulty Level e.g. Easy</font>"
   ]
  },
  {
   "cell_type": "code",
   "execution_count": null,
   "id": "c6780705",
   "metadata": {},
   "outputs": [],
   "source": [
    "f=\"Figures/Video_1.mp4\"\n",
    "vid=widgets.Video.from_file(f,\n",
    "                            width=700, \n",
    "                            #height=200\n",
    "                           )\n",
    "vid"
   ]
  },
  {
   "cell_type": "code",
   "execution_count": 25,
   "id": "d4aa5229",
   "metadata": {},
   "outputs": [
    {
     "data": {
      "application/vnd.jupyter.widget-view+json": {
       "model_id": "82ddbbd38e404f9cbe9b0db1aab16fdf",
       "version_major": 2,
       "version_minor": 0
      },
      "text/plain": [
       "HBox(children=(Image(value=b'\\x89PNG\\r\\n\\x1a\\n\\x00\\x00\\x00\\rIHDR\\x00\\x00\\x00j\\x00\\x00\\x00Q\\x08\\x03\\x00\\x00\\x00…"
      ]
     },
     "metadata": {},
     "output_type": "display_data"
    }
   ],
   "source": [
    "file = open(\"Figures/read.png\", \"rb\")\n",
    "image = file.read()\n",
    "\n",
    "image_headline = widgets.Image(\n",
    "                    value=image,\n",
    "                    format='png',layout=Layout(width='30px', height='24px')\n",
    "                )\n",
    "\n",
    "text_0=link = widgets.HTML(\n",
    "    value=\"<a href=http://localhost:8888/voila/render/Documents/GitHub/VerticaPy-Enablement-Template/Template/Lesson_Page_Regular_v1.ipynb target='_blank'><font size='5' color='blue'>Sub Module 1</font></a>\",\n",
    ")\n",
    "hbox_line2 = widgets.HBox([image_headline,text_0])\n",
    "display(hbox_line2)"
   ]
  },
  {
   "cell_type": "code",
   "execution_count": 26,
   "id": "477c0353",
   "metadata": {},
   "outputs": [
    {
     "data": {
      "application/vnd.jupyter.widget-view+json": {
       "model_id": "3fd3e2092e8f4961895180c3ea2151c4",
       "version_major": 2,
       "version_minor": 0
      },
      "text/plain": [
       "HBox(children=(Image(value=b'\\x89PNG\\r\\n\\x1a\\n\\x00\\x00\\x00\\rIHDR\\x00\\x00\\x00j\\x00\\x00\\x00Q\\x08\\x03\\x00\\x00\\x00…"
      ]
     },
     "metadata": {},
     "output_type": "display_data"
    }
   ],
   "source": [
    "file = open(\"Figures/read.png\", \"rb\")\n",
    "image = file.read()\n",
    "\n",
    "image_headline = widgets.Image(\n",
    "                    value=image,\n",
    "                    format='png',layout=Layout(width='30px', height='24px')\n",
    "                )\n",
    "\n",
    "text_0=link = widgets.HTML(\n",
    "    value=\"<a href=http://localhost:8888/voila/render/Documents/GitHub/VerticaPy-Enablement-Template/Template/Lesson_Page_Regular_v1.ipynb target='_blank'><font size='5' color='blue'>Sub Module 2</font></a>\",\n",
    ")\n",
    "hbox_line2 = widgets.HBox([image_headline,text_0])\n",
    "display(hbox_line2)"
   ]
  },
  {
   "cell_type": "code",
   "execution_count": 27,
   "id": "f79ceee4",
   "metadata": {},
   "outputs": [
    {
     "data": {
      "application/vnd.jupyter.widget-view+json": {
       "model_id": "ad71997ec63e436a88fae173e7a65de0",
       "version_major": 2,
       "version_minor": 0
      },
      "text/plain": [
       "HBox(children=(Image(value=b'\\x89PNG\\r\\n\\x1a\\n\\x00\\x00\\x00\\rIHDR\\x00\\x00\\x00j\\x00\\x00\\x00Q\\x08\\x03\\x00\\x00\\x00…"
      ]
     },
     "metadata": {},
     "output_type": "display_data"
    }
   ],
   "source": [
    "file = open(\"Figures/read.png\", \"rb\")\n",
    "image = file.read()\n",
    "\n",
    "image_headline = widgets.Image(\n",
    "                    value=image,\n",
    "                    format='png',layout=Layout(width='30px', height='24px')\n",
    "                )\n",
    "\n",
    "text_0=link = widgets.HTML(\n",
    "    value=\"<a href=http://localhost:8888/voila/render/Documents/GitHub/VerticaPy-Enablement-Template/Template/Lesson_Page_Regular_v1.ipynb target='_blank'><font size='5' color='blue'>Sub Module 3</font></a>\",\n",
    ")\n",
    "hbox_line2 = widgets.HBox([image_headline,text_0])\n",
    "display(hbox_line2)"
   ]
  },
  {
   "cell_type": "code",
   "execution_count": 28,
   "id": "16f9c006",
   "metadata": {
    "scrolled": true
   },
   "outputs": [
    {
     "data": {
      "application/vnd.jupyter.widget-view+json": {
       "model_id": "6ce96d6786f343c5a2cd12d97bc837c8",
       "version_major": 2,
       "version_minor": 0
      },
      "text/plain": [
       "HBox(children=(Image(value=b'\\x89PNG\\r\\n\\x1a\\n\\x00\\x00\\x00\\rIHDR\\x00\\x00\\x00G\\x00\\x00\\x00J\\x08\\x03\\x00\\x00\\x00…"
      ]
     },
     "metadata": {},
     "output_type": "display_data"
    }
   ],
   "source": [
    "file = open(\"Figures/solve.png\", \"rb\")\n",
    "image = file.read()\n",
    "\n",
    "image_headline = widgets.Image(\n",
    "                    value=image,\n",
    "                    format='png',layout=Layout(width='30px', height='24px')\n",
    "                )\n",
    "\n",
    "text_0=link = widgets.HTML(\n",
    "    value=\"<a href=http://localhost:8888/voila/render/Documents/GitHub/VerticaPy-Enablement-Template/Template/Lesson_Page_Exercise_v1.ipynb target='_blank'><font size='5' color='blue'>Exercise</font></a>\",\n",
    ")\n",
    "hbox_line2 = widgets.HBox([image_headline,text_0])\n",
    "display(hbox_line2)"
   ]
  },
  {
   "cell_type": "code",
   "execution_count": null,
   "id": "e47ef3da",
   "metadata": {},
   "outputs": [],
   "source": []
  },
  {
   "cell_type": "code",
   "execution_count": null,
   "id": "727ead47",
   "metadata": {},
   "outputs": [],
   "source": []
  },
  {
   "cell_type": "code",
   "execution_count": null,
   "id": "a4ddac07",
   "metadata": {},
   "outputs": [],
   "source": []
  }
 ],
 "metadata": {
  "kernelspec": {
   "display_name": "Python 3 (ipykernel)",
   "language": "python",
   "name": "python3"
  },
  "language_info": {
   "codemirror_mode": {
    "name": "ipython",
    "version": 3
   },
   "file_extension": ".py",
   "mimetype": "text/x-python",
   "name": "python",
   "nbconvert_exporter": "python",
   "pygments_lexer": "ipython3",
   "version": "3.9.12"
  }
 },
 "nbformat": 4,
 "nbformat_minor": 5
}
